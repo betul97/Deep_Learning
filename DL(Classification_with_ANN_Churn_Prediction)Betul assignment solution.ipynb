{
 "cells": [
  {
   "cell_type": "markdown",
   "metadata": {
    "id": "Z2IRHBdcmvBJ"
   },
   "source": [
    "___\n",
    "\n",
    "<p style=\"text-align: center;\"><img src=\"https://docs.google.com/uc?id=1lY0Uj5R04yMY3-ZppPWxqCr5pvBLYPnV\" class=\"img-fluid\" alt=\"CLRSWY\"></p>\n",
    "\n",
    "___"
   ]
  },
  {
   "cell_type": "markdown",
   "metadata": {
    "id": "bTuPHg4OmvBL"
   },
   "source": [
    "<h1 style=\"text-align: center;\">Deep Learning<br><br>Assignment-1 (ANN)<br><br>Churn Prediction for Bank Customer<br><h1>"
   ]
  },
  {
   "cell_type": "markdown",
   "metadata": {
    "id": "moj1d8-XmvBM"
   },
   "source": [
    "# Dataset Info"
   ]
  },
  {
   "cell_type": "markdown",
   "metadata": {
    "id": "w5NJRR5pmvBM"
   },
   "source": [
    "We have a dataset in which there are details of a bank's customers and the target variable is a binary variable reflecting the fact whether the customer left the bank (closed his account) or he continues to be a customer.\n",
    "\n",
    "The features in the given dataset are:\n",
    "- **rownumber:** Row Numbers from 1 to 10000.\n",
    "- **customerid:** A unique ID that identifies each customer.\n",
    "- **surname:** The customer’s surname.\n",
    "- **creditscore:** A credit score is a number between 300–850 that depicts a consumer's creditworthiness.\n",
    "- **geography:** The country from which the customer belongs to.\n",
    "- **Gender:** The customer’s gender: Male, Female\n",
    "- **Age:** The customer’s current age, in years, at the time of being customer.\n",
    "- **tenure:** The number of years for which the customer has been with the bank.\n",
    "- **balance:** Bank balance of the customer.\n",
    "- **numofproducts:** the number of bank products the customer is utilising.\n",
    "- **hascrcard:** The number of credit cards given to the customer by the bank.\n",
    "- **isactivemember:** Binary Flag for indicating if the client is active or not with the bank before the moment where the client exits the company (recorded in the variable \"exited\")\n",
    "- **exited:** Binary flag 1 if the customer closed account with bank and 0 if the customer is retained."
   ]
  },
  {
   "cell_type": "markdown",
   "metadata": {
    "id": "Um0Z8hQ6mvBN"
   },
   "source": [
    "# Improt Libraries & Data"
   ]
  },
  {
   "cell_type": "code",
   "execution_count": 1,
   "metadata": {
    "id": "0dAtWKzemvBN"
   },
   "outputs": [],
   "source": [
    "import numpy as np\n",
    "import pandas as pd\n",
    "import matplotlib.pyplot as plt\n",
    "import seaborn as sns\n",
    "\n",
    "import warnings\n",
    "warnings.filterwarnings(\"ignore\")\n",
    "warnings.warn(\"this will not show\")\n",
    "\n",
    "plt.rcParams[\"figure.figsize\"] = (10,6)\n",
    "\n",
    "sns.set_style(\"whitegrid\")\n",
    "pd.set_option('display.float_format', lambda x: '%.3f' % x)\n",
    "\n",
    "# Set it None to display all rows in the dataframe\n",
    "# pd.set_option('display.max_rows', None)\n",
    "\n",
    "# Set it to None to display all columns in the dataframe\n",
    "pd.set_option('display.max_columns', None)"
   ]
  },
  {
   "cell_type": "code",
   "execution_count": 2,
   "metadata": {
    "id": "PTXvTIDKmvBO"
   },
   "outputs": [],
   "source": [
    "df = pd.read_csv(\"Churn_Modelling.csv\")"
   ]
  },
  {
   "cell_type": "markdown",
   "metadata": {
    "id": "hASch-emmvBO"
   },
   "source": [
    "# Exploratory Data Analysis and Visualization"
   ]
  },
  {
   "cell_type": "markdown",
   "metadata": {
    "id": "xHLGUyGMmvBO"
   },
   "source": [
    "1. Implement basic steps to see how is your data looks like\n",
    "2. Check for missing values\n",
    "3. Drop the features that not suitable for modelling\n",
    "4. Implement basic visualization steps such as histogram, countplot, heatmap\n",
    "5. Convert categorical variables to dummy variables"
   ]
  },
  {
   "cell_type": "code",
   "execution_count": 3,
   "metadata": {
    "colab": {
     "base_uri": "https://localhost:8080/",
     "height": 206
    },
    "id": "0eywDpoJmvBO",
    "outputId": "4a631c15-f3b2-4061-b05d-351bd069650c"
   },
   "outputs": [
    {
     "data": {
      "text/html": [
       "<div>\n",
       "<style scoped>\n",
       "    .dataframe tbody tr th:only-of-type {\n",
       "        vertical-align: middle;\n",
       "    }\n",
       "\n",
       "    .dataframe tbody tr th {\n",
       "        vertical-align: top;\n",
       "    }\n",
       "\n",
       "    .dataframe thead th {\n",
       "        text-align: right;\n",
       "    }\n",
       "</style>\n",
       "<table border=\"1\" class=\"dataframe\">\n",
       "  <thead>\n",
       "    <tr style=\"text-align: right;\">\n",
       "      <th></th>\n",
       "      <th>RowNumber</th>\n",
       "      <th>CustomerId</th>\n",
       "      <th>Surname</th>\n",
       "      <th>CreditScore</th>\n",
       "      <th>Geography</th>\n",
       "      <th>Gender</th>\n",
       "      <th>Age</th>\n",
       "      <th>Tenure</th>\n",
       "      <th>Balance</th>\n",
       "      <th>NumOfProducts</th>\n",
       "      <th>HasCrCard</th>\n",
       "      <th>IsActiveMember</th>\n",
       "      <th>EstimatedSalary</th>\n",
       "      <th>Exited</th>\n",
       "    </tr>\n",
       "  </thead>\n",
       "  <tbody>\n",
       "    <tr>\n",
       "      <th>0</th>\n",
       "      <td>1</td>\n",
       "      <td>15634602</td>\n",
       "      <td>Hargrave</td>\n",
       "      <td>619</td>\n",
       "      <td>France</td>\n",
       "      <td>Female</td>\n",
       "      <td>42</td>\n",
       "      <td>2</td>\n",
       "      <td>0.000</td>\n",
       "      <td>1</td>\n",
       "      <td>1</td>\n",
       "      <td>1</td>\n",
       "      <td>101348.880</td>\n",
       "      <td>1</td>\n",
       "    </tr>\n",
       "    <tr>\n",
       "      <th>1</th>\n",
       "      <td>2</td>\n",
       "      <td>15647311</td>\n",
       "      <td>Hill</td>\n",
       "      <td>608</td>\n",
       "      <td>Spain</td>\n",
       "      <td>Female</td>\n",
       "      <td>41</td>\n",
       "      <td>1</td>\n",
       "      <td>83807.860</td>\n",
       "      <td>1</td>\n",
       "      <td>0</td>\n",
       "      <td>1</td>\n",
       "      <td>112542.580</td>\n",
       "      <td>0</td>\n",
       "    </tr>\n",
       "    <tr>\n",
       "      <th>2</th>\n",
       "      <td>3</td>\n",
       "      <td>15619304</td>\n",
       "      <td>Onio</td>\n",
       "      <td>502</td>\n",
       "      <td>France</td>\n",
       "      <td>Female</td>\n",
       "      <td>42</td>\n",
       "      <td>8</td>\n",
       "      <td>159660.800</td>\n",
       "      <td>3</td>\n",
       "      <td>1</td>\n",
       "      <td>0</td>\n",
       "      <td>113931.570</td>\n",
       "      <td>1</td>\n",
       "    </tr>\n",
       "    <tr>\n",
       "      <th>3</th>\n",
       "      <td>4</td>\n",
       "      <td>15701354</td>\n",
       "      <td>Boni</td>\n",
       "      <td>699</td>\n",
       "      <td>France</td>\n",
       "      <td>Female</td>\n",
       "      <td>39</td>\n",
       "      <td>1</td>\n",
       "      <td>0.000</td>\n",
       "      <td>2</td>\n",
       "      <td>0</td>\n",
       "      <td>0</td>\n",
       "      <td>93826.630</td>\n",
       "      <td>0</td>\n",
       "    </tr>\n",
       "    <tr>\n",
       "      <th>4</th>\n",
       "      <td>5</td>\n",
       "      <td>15737888</td>\n",
       "      <td>Mitchell</td>\n",
       "      <td>850</td>\n",
       "      <td>Spain</td>\n",
       "      <td>Female</td>\n",
       "      <td>43</td>\n",
       "      <td>2</td>\n",
       "      <td>125510.820</td>\n",
       "      <td>1</td>\n",
       "      <td>1</td>\n",
       "      <td>1</td>\n",
       "      <td>79084.100</td>\n",
       "      <td>0</td>\n",
       "    </tr>\n",
       "  </tbody>\n",
       "</table>\n",
       "</div>"
      ],
      "text/plain": [
       "   RowNumber  CustomerId   Surname  CreditScore Geography  Gender  Age  \\\n",
       "0          1    15634602  Hargrave          619    France  Female   42   \n",
       "1          2    15647311      Hill          608     Spain  Female   41   \n",
       "2          3    15619304      Onio          502    France  Female   42   \n",
       "3          4    15701354      Boni          699    France  Female   39   \n",
       "4          5    15737888  Mitchell          850     Spain  Female   43   \n",
       "\n",
       "   Tenure    Balance  NumOfProducts  HasCrCard  IsActiveMember  \\\n",
       "0       2      0.000              1          1               1   \n",
       "1       1  83807.860              1          0               1   \n",
       "2       8 159660.800              3          1               0   \n",
       "3       1      0.000              2          0               0   \n",
       "4       2 125510.820              1          1               1   \n",
       "\n",
       "   EstimatedSalary  Exited  \n",
       "0       101348.880       1  \n",
       "1       112542.580       0  \n",
       "2       113931.570       1  \n",
       "3        93826.630       0  \n",
       "4        79084.100       0  "
      ]
     },
     "execution_count": 3,
     "metadata": {},
     "output_type": "execute_result"
    }
   ],
   "source": [
    "df.head()"
   ]
  },
  {
   "cell_type": "code",
   "execution_count": 4,
   "metadata": {
    "colab": {
     "base_uri": "https://localhost:8080/",
     "height": 363
    },
    "id": "ScJof_9sqFxf",
    "outputId": "19abeabb-ef9f-4056-fff3-cb369e3d2aca"
   },
   "outputs": [
    {
     "data": {
      "text/html": [
       "<div>\n",
       "<style scoped>\n",
       "    .dataframe tbody tr th:only-of-type {\n",
       "        vertical-align: middle;\n",
       "    }\n",
       "\n",
       "    .dataframe tbody tr th {\n",
       "        vertical-align: top;\n",
       "    }\n",
       "\n",
       "    .dataframe thead th {\n",
       "        text-align: right;\n",
       "    }\n",
       "</style>\n",
       "<table border=\"1\" class=\"dataframe\">\n",
       "  <thead>\n",
       "    <tr style=\"text-align: right;\">\n",
       "      <th></th>\n",
       "      <th>RowNumber</th>\n",
       "      <th>CustomerId</th>\n",
       "      <th>Surname</th>\n",
       "      <th>CreditScore</th>\n",
       "      <th>Geography</th>\n",
       "      <th>Gender</th>\n",
       "      <th>Age</th>\n",
       "      <th>Tenure</th>\n",
       "      <th>Balance</th>\n",
       "      <th>NumOfProducts</th>\n",
       "      <th>HasCrCard</th>\n",
       "      <th>IsActiveMember</th>\n",
       "      <th>EstimatedSalary</th>\n",
       "      <th>Exited</th>\n",
       "    </tr>\n",
       "  </thead>\n",
       "  <tbody>\n",
       "    <tr>\n",
       "      <th>7954</th>\n",
       "      <td>7955</td>\n",
       "      <td>15626898</td>\n",
       "      <td>Teng</td>\n",
       "      <td>743</td>\n",
       "      <td>France</td>\n",
       "      <td>Male</td>\n",
       "      <td>30</td>\n",
       "      <td>7</td>\n",
       "      <td>77599.230</td>\n",
       "      <td>1</td>\n",
       "      <td>0</td>\n",
       "      <td>0</td>\n",
       "      <td>144407.100</td>\n",
       "      <td>0</td>\n",
       "    </tr>\n",
       "    <tr>\n",
       "      <th>3520</th>\n",
       "      <td>3521</td>\n",
       "      <td>15569248</td>\n",
       "      <td>Milanesi</td>\n",
       "      <td>554</td>\n",
       "      <td>France</td>\n",
       "      <td>Female</td>\n",
       "      <td>43</td>\n",
       "      <td>10</td>\n",
       "      <td>0.000</td>\n",
       "      <td>2</td>\n",
       "      <td>1</td>\n",
       "      <td>0</td>\n",
       "      <td>149629.130</td>\n",
       "      <td>1</td>\n",
       "    </tr>\n",
       "    <tr>\n",
       "      <th>4406</th>\n",
       "      <td>4407</td>\n",
       "      <td>15623450</td>\n",
       "      <td>Brown</td>\n",
       "      <td>637</td>\n",
       "      <td>Germany</td>\n",
       "      <td>Female</td>\n",
       "      <td>27</td>\n",
       "      <td>7</td>\n",
       "      <td>135842.890</td>\n",
       "      <td>1</td>\n",
       "      <td>1</td>\n",
       "      <td>1</td>\n",
       "      <td>101418.050</td>\n",
       "      <td>0</td>\n",
       "    </tr>\n",
       "    <tr>\n",
       "      <th>4095</th>\n",
       "      <td>4096</td>\n",
       "      <td>15616929</td>\n",
       "      <td>De Luca</td>\n",
       "      <td>730</td>\n",
       "      <td>Spain</td>\n",
       "      <td>Male</td>\n",
       "      <td>62</td>\n",
       "      <td>5</td>\n",
       "      <td>112181.080</td>\n",
       "      <td>1</td>\n",
       "      <td>0</td>\n",
       "      <td>1</td>\n",
       "      <td>61513.870</td>\n",
       "      <td>0</td>\n",
       "    </tr>\n",
       "    <tr>\n",
       "      <th>3159</th>\n",
       "      <td>3160</td>\n",
       "      <td>15680587</td>\n",
       "      <td>Esposito</td>\n",
       "      <td>834</td>\n",
       "      <td>France</td>\n",
       "      <td>Male</td>\n",
       "      <td>23</td>\n",
       "      <td>4</td>\n",
       "      <td>131254.810</td>\n",
       "      <td>1</td>\n",
       "      <td>1</td>\n",
       "      <td>0</td>\n",
       "      <td>20199.300</td>\n",
       "      <td>0</td>\n",
       "    </tr>\n",
       "    <tr>\n",
       "      <th>4390</th>\n",
       "      <td>4391</td>\n",
       "      <td>15674328</td>\n",
       "      <td>Moreno</td>\n",
       "      <td>670</td>\n",
       "      <td>France</td>\n",
       "      <td>Female</td>\n",
       "      <td>40</td>\n",
       "      <td>3</td>\n",
       "      <td>47364.450</td>\n",
       "      <td>1</td>\n",
       "      <td>1</td>\n",
       "      <td>1</td>\n",
       "      <td>148579.430</td>\n",
       "      <td>1</td>\n",
       "    </tr>\n",
       "    <tr>\n",
       "      <th>2383</th>\n",
       "      <td>2384</td>\n",
       "      <td>15642468</td>\n",
       "      <td>Clark</td>\n",
       "      <td>697</td>\n",
       "      <td>France</td>\n",
       "      <td>Male</td>\n",
       "      <td>42</td>\n",
       "      <td>9</td>\n",
       "      <td>132739.260</td>\n",
       "      <td>2</td>\n",
       "      <td>0</td>\n",
       "      <td>0</td>\n",
       "      <td>174667.650</td>\n",
       "      <td>0</td>\n",
       "    </tr>\n",
       "    <tr>\n",
       "      <th>9343</th>\n",
       "      <td>9344</td>\n",
       "      <td>15798749</td>\n",
       "      <td>Davidson</td>\n",
       "      <td>845</td>\n",
       "      <td>Germany</td>\n",
       "      <td>Female</td>\n",
       "      <td>43</td>\n",
       "      <td>3</td>\n",
       "      <td>152063.590</td>\n",
       "      <td>2</td>\n",
       "      <td>1</td>\n",
       "      <td>0</td>\n",
       "      <td>97910.060</td>\n",
       "      <td>0</td>\n",
       "    </tr>\n",
       "    <tr>\n",
       "      <th>9282</th>\n",
       "      <td>9283</td>\n",
       "      <td>15799435</td>\n",
       "      <td>Hayes</td>\n",
       "      <td>619</td>\n",
       "      <td>Spain</td>\n",
       "      <td>Male</td>\n",
       "      <td>34</td>\n",
       "      <td>1</td>\n",
       "      <td>0.000</td>\n",
       "      <td>1</td>\n",
       "      <td>1</td>\n",
       "      <td>0</td>\n",
       "      <td>139919.380</td>\n",
       "      <td>0</td>\n",
       "    </tr>\n",
       "    <tr>\n",
       "      <th>7806</th>\n",
       "      <td>7807</td>\n",
       "      <td>15750410</td>\n",
       "      <td>Jordan</td>\n",
       "      <td>680</td>\n",
       "      <td>France</td>\n",
       "      <td>Female</td>\n",
       "      <td>25</td>\n",
       "      <td>4</td>\n",
       "      <td>123816.500</td>\n",
       "      <td>1</td>\n",
       "      <td>1</td>\n",
       "      <td>1</td>\n",
       "      <td>90162.350</td>\n",
       "      <td>0</td>\n",
       "    </tr>\n",
       "  </tbody>\n",
       "</table>\n",
       "</div>"
      ],
      "text/plain": [
       "      RowNumber  CustomerId   Surname  CreditScore Geography  Gender  Age  \\\n",
       "7954       7955    15626898      Teng          743    France    Male   30   \n",
       "3520       3521    15569248  Milanesi          554    France  Female   43   \n",
       "4406       4407    15623450     Brown          637   Germany  Female   27   \n",
       "4095       4096    15616929   De Luca          730     Spain    Male   62   \n",
       "3159       3160    15680587  Esposito          834    France    Male   23   \n",
       "4390       4391    15674328    Moreno          670    France  Female   40   \n",
       "2383       2384    15642468     Clark          697    France    Male   42   \n",
       "9343       9344    15798749  Davidson          845   Germany  Female   43   \n",
       "9282       9283    15799435     Hayes          619     Spain    Male   34   \n",
       "7806       7807    15750410    Jordan          680    France  Female   25   \n",
       "\n",
       "      Tenure    Balance  NumOfProducts  HasCrCard  IsActiveMember  \\\n",
       "7954       7  77599.230              1          0               0   \n",
       "3520      10      0.000              2          1               0   \n",
       "4406       7 135842.890              1          1               1   \n",
       "4095       5 112181.080              1          0               1   \n",
       "3159       4 131254.810              1          1               0   \n",
       "4390       3  47364.450              1          1               1   \n",
       "2383       9 132739.260              2          0               0   \n",
       "9343       3 152063.590              2          1               0   \n",
       "9282       1      0.000              1          1               0   \n",
       "7806       4 123816.500              1          1               1   \n",
       "\n",
       "      EstimatedSalary  Exited  \n",
       "7954       144407.100       0  \n",
       "3520       149629.130       1  \n",
       "4406       101418.050       0  \n",
       "4095        61513.870       0  \n",
       "3159        20199.300       0  \n",
       "4390       148579.430       1  \n",
       "2383       174667.650       0  \n",
       "9343        97910.060       0  \n",
       "9282       139919.380       0  \n",
       "7806        90162.350       0  "
      ]
     },
     "execution_count": 4,
     "metadata": {},
     "output_type": "execute_result"
    }
   ],
   "source": [
    "df.sample(10)"
   ]
  },
  {
   "cell_type": "code",
   "execution_count": 5,
   "metadata": {
    "colab": {
     "base_uri": "https://localhost:8080/"
    },
    "id": "B3PSDdE1nYNz",
    "outputId": "a1048a8b-5333-4b86-c049-0c17a170ec4c"
   },
   "outputs": [
    {
     "name": "stdout",
     "output_type": "stream",
     "text": [
      "<class 'pandas.core.frame.DataFrame'>\n",
      "RangeIndex: 10000 entries, 0 to 9999\n",
      "Data columns (total 14 columns):\n",
      " #   Column           Non-Null Count  Dtype  \n",
      "---  ------           --------------  -----  \n",
      " 0   RowNumber        10000 non-null  int64  \n",
      " 1   CustomerId       10000 non-null  int64  \n",
      " 2   Surname          10000 non-null  object \n",
      " 3   CreditScore      10000 non-null  int64  \n",
      " 4   Geography        10000 non-null  object \n",
      " 5   Gender           10000 non-null  object \n",
      " 6   Age              10000 non-null  int64  \n",
      " 7   Tenure           10000 non-null  int64  \n",
      " 8   Balance          10000 non-null  float64\n",
      " 9   NumOfProducts    10000 non-null  int64  \n",
      " 10  HasCrCard        10000 non-null  int64  \n",
      " 11  IsActiveMember   10000 non-null  int64  \n",
      " 12  EstimatedSalary  10000 non-null  float64\n",
      " 13  Exited           10000 non-null  int64  \n",
      "dtypes: float64(2), int64(9), object(3)\n",
      "memory usage: 1.1+ MB\n"
     ]
    }
   ],
   "source": [
    "df.info()"
   ]
  },
  {
   "cell_type": "code",
   "execution_count": 6,
   "metadata": {
    "colab": {
     "base_uri": "https://localhost:8080/"
    },
    "id": "7OPcnE2kntB7",
    "outputId": "75298102-0b67-4669-b975-e497b2a24c23"
   },
   "outputs": [
    {
     "data": {
      "text/plain": [
       "RowNumber          0\n",
       "CustomerId         0\n",
       "Surname            0\n",
       "CreditScore        0\n",
       "Geography          0\n",
       "Gender             0\n",
       "Age                0\n",
       "Tenure             0\n",
       "Balance            0\n",
       "NumOfProducts      0\n",
       "HasCrCard          0\n",
       "IsActiveMember     0\n",
       "EstimatedSalary    0\n",
       "Exited             0\n",
       "dtype: int64"
      ]
     },
     "execution_count": 6,
     "metadata": {},
     "output_type": "execute_result"
    }
   ],
   "source": [
    "df.isnull().sum()"
   ]
  },
  {
   "cell_type": "code",
   "execution_count": 7,
   "metadata": {
    "id": "r0JwjjXSntAi"
   },
   "outputs": [],
   "source": [
    "#df = df.drop(['RowNumber', 'CustomerId','Surname'], axis=1)"
   ]
  },
  {
   "cell_type": "code",
   "execution_count": 8,
   "metadata": {
    "id": "roLOldCPp5NY"
   },
   "outputs": [],
   "source": [
    "df = df.drop(['Surname'], axis=1)"
   ]
  },
  {
   "cell_type": "code",
   "execution_count": 9,
   "metadata": {
    "colab": {
     "base_uri": "https://localhost:8080/"
    },
    "id": "rggc9ocins18",
    "outputId": "aaa522f1-41a3-4f18-af8b-7d3a93c0a227"
   },
   "outputs": [
    {
     "data": {
      "text/plain": [
       "(10000, 13)"
      ]
     },
     "execution_count": 9,
     "metadata": {},
     "output_type": "execute_result"
    }
   ],
   "source": [
    "df.shape"
   ]
  },
  {
   "cell_type": "code",
   "execution_count": 10,
   "metadata": {
    "colab": {
     "base_uri": "https://localhost:8080/"
    },
    "id": "2u6UJDF-qWnm",
    "outputId": "970143c3-f4ce-4679-bb33-e8cba7199a43"
   },
   "outputs": [
    {
     "name": "stdout",
     "output_type": "stream",
     "text": [
      "['France' 'Spain' 'Germany']\n"
     ]
    }
   ],
   "source": [
    "print(df['Geography'].unique())\n",
    "#print(df.Courses.unique())"
   ]
  },
  {
   "cell_type": "code",
   "execution_count": 11,
   "metadata": {},
   "outputs": [
    {
     "data": {
      "text/plain": [
       "<AxesSubplot:xlabel='Exited', ylabel='Density'>"
      ]
     },
     "execution_count": 11,
     "metadata": {},
     "output_type": "execute_result"
    },
    {
     "data": {
      "image/png": "[encoded data removed]",
      "text/plain": [
       "<Figure size 432x288 with 1 Axes>"
      ]
     },
     "metadata": {
      "needs_background": "light"
     },
     "output_type": "display_data"
    }
   ],
   "source": [
    "sns.distplot(df[\"Exited\"])"
   ]
  },
  {
   "cell_type": "code",
   "execution_count": 12,
   "metadata": {},
   "outputs": [
    {
     "data": {
      "image/png": "[encoded data removed]",
      "text/plain": [
       "<Figure size 576x720 with 1 Axes>"
      ]
     },
     "metadata": {
      "needs_background": "light"
     },
     "output_type": "display_data"
    }
   ],
   "source": [
    "plt.figure(figsize = (8,10))\n",
    "df.corr()[\"Exited\"].sort_values().drop(\"Exited\").plot(kind = \"barh\");"
   ]
  },
  {
   "cell_type": "code",
   "execution_count": 13,
   "metadata": {},
   "outputs": [
    {
     "data": {
      "image/png": "[encoded data removed]",
      "text/plain": [
       "<Figure size 432x288 with 1 Axes>"
      ]
     },
     "metadata": {
      "needs_background": "light"
     },
     "output_type": "display_data"
    }
   ],
   "source": [
    "sns.scatterplot(x = 'Exited',y = 'Balance', data = df, hue = \"Age\");"
   ]
  },
  {
   "cell_type": "code",
   "execution_count": 14,
   "metadata": {},
   "outputs": [
    {
     "data": {
      "text/plain": [
       "<AxesSubplot:xlabel='Exited', ylabel='count'>"
      ]
     },
     "execution_count": 14,
     "metadata": {},
     "output_type": "execute_result"
    },
    {
     "data": {
      "image/png": "[encoded data removed]",
      "text/plain": [
       "<Figure size 432x288 with 1 Axes>"
      ]
     },
     "metadata": {
      "needs_background": "light"
     },
     "output_type": "display_data"
    }
   ],
   "source": [
    "sns.countplot(df[\"Exited\"])"
   ]
  },
  {
   "cell_type": "code",
   "execution_count": 15,
   "metadata": {},
   "outputs": [
    {
     "data": {
      "text/plain": [
       "<AxesSubplot:xlabel='Geography', ylabel='Exited'>"
      ]
     },
     "execution_count": 15,
     "metadata": {},
     "output_type": "execute_result"
    },
    {
     "data": {
      "image/png": "[encoded data removed]",
      "text/plain": [
       "<Figure size 432x288 with 1 Axes>"
      ]
     },
     "metadata": {
      "needs_background": "light"
     },
     "output_type": "display_data"
    }
   ],
   "source": [
    "sns.boxplot(x=\"Geography\", y=\"Exited\", data=df)"
   ]
  },
  {
   "cell_type": "code",
   "execution_count": 16,
   "metadata": {},
   "outputs": [
    {
     "data": {
      "image/png": "[encoded data removed]",
      "text/plain": [
       "<Figure size 432x288 with 1 Axes>"
      ]
     },
     "metadata": {
      "needs_background": "light"
     },
     "output_type": "display_data"
    }
   ],
   "source": [
    "df.groupby('Exited')['Balance'].mean().plot();"
   ]
  },
  {
   "cell_type": "code",
   "execution_count": 17,
   "metadata": {},
   "outputs": [
    {
     "data": {
      "text/plain": [
       "<AxesSubplot:xlabel='Geography', ylabel='EstimatedSalary'>"
      ]
     },
     "execution_count": 17,
     "metadata": {},
     "output_type": "execute_result"
    },
    {
     "data": {
      "image/png": "[encoded data removed]",
      "text/plain": [
       "<Figure size 432x288 with 1 Axes>"
      ]
     },
     "metadata": {
      "needs_background": "light"
     },
     "output_type": "display_data"
    }
   ],
   "source": [
    "sns.boxplot(x=\"Geography\", y=\"EstimatedSalary\", data=df)"
   ]
  },
  {
   "cell_type": "code",
   "execution_count": 18,
   "metadata": {
    "id": "6sLfhUdmtpgR"
   },
   "outputs": [],
   "source": [
    "from sklearn.preprocessing import OneHotEncoder\n",
    "\n",
    "enc = OneHotEncoder(handle_unknown=\"ignore\", sparse=False)#.set_output(transform=\"pandas\")"
   ]
  },
  {
   "cell_type": "code",
   "execution_count": 19,
   "metadata": {
    "colab": {
     "base_uri": "https://localhost:8080/"
    },
    "id": "3M4JA38ZvDos",
    "outputId": "f63f7ceb-9a1d-4c6c-89ee-84158e2822ff"
   },
   "outputs": [
    {
     "data": {
      "text/plain": [
       "array([[1., 0., 0.],\n",
       "       [0., 0., 1.],\n",
       "       [1., 0., 0.],\n",
       "       ...,\n",
       "       [1., 0., 0.],\n",
       "       [0., 1., 0.],\n",
       "       [1., 0., 0.]])"
      ]
     },
     "execution_count": 19,
     "metadata": {},
     "output_type": "execute_result"
    }
   ],
   "source": [
    "enc.fit_transform(df[[\"Geography\"]])"
   ]
  },
  {
   "cell_type": "code",
   "execution_count": 20,
   "metadata": {
    "id": "stc15O55vDkp"
   },
   "outputs": [
    {
     "data": {
      "text/plain": [
       "array([[1., 0.],\n",
       "       [1., 0.],\n",
       "       [1., 0.],\n",
       "       ...,\n",
       "       [1., 0.],\n",
       "       [0., 1.],\n",
       "       [1., 0.]])"
      ]
     },
     "execution_count": 20,
     "metadata": {},
     "output_type": "execute_result"
    }
   ],
   "source": [
    "enc.fit_transform(df[[\"Gender\"]])"
   ]
  },
  {
   "cell_type": "code",
   "execution_count": 21,
   "metadata": {
    "colab": {
     "base_uri": "https://localhost:8080/"
    },
    "id": "dhAefc2Vq-uC",
    "outputId": "0b6470a3-0408-474b-9244-19b44d00d036"
   },
   "outputs": [
    {
     "name": "stdout",
     "output_type": "stream",
     "text": [
      "<class 'pandas.core.frame.DataFrame'>\n",
      "RangeIndex: 10000 entries, 0 to 9999\n",
      "Data columns (total 13 columns):\n",
      " #   Column           Non-Null Count  Dtype  \n",
      "---  ------           --------------  -----  \n",
      " 0   RowNumber        10000 non-null  int64  \n",
      " 1   CustomerId       10000 non-null  int64  \n",
      " 2   CreditScore      10000 non-null  int64  \n",
      " 3   Geography        10000 non-null  object \n",
      " 4   Gender           10000 non-null  object \n",
      " 5   Age              10000 non-null  int64  \n",
      " 6   Tenure           10000 non-null  int64  \n",
      " 7   Balance          10000 non-null  float64\n",
      " 8   NumOfProducts    10000 non-null  int64  \n",
      " 9   HasCrCard        10000 non-null  int64  \n",
      " 10  IsActiveMember   10000 non-null  int64  \n",
      " 11  EstimatedSalary  10000 non-null  float64\n",
      " 12  Exited           10000 non-null  int64  \n",
      "dtypes: float64(2), int64(9), object(2)\n",
      "memory usage: 1015.8+ KB\n"
     ]
    }
   ],
   "source": [
    "df.info()"
   ]
  },
  {
   "cell_type": "code",
   "execution_count": 22,
   "metadata": {
    "id": "_5rDGSaaq-rd"
   },
   "outputs": [],
   "source": [
    "def change(x):\n",
    "    if x == \"Germany\":\n",
    "        return 0\n",
    "    elif x == 'France':\n",
    "        return 1\n",
    "    else:\n",
    "        return 2"
   ]
  },
  {
   "cell_type": "code",
   "execution_count": 23,
   "metadata": {
    "id": "8XKPJrSJxeo1"
   },
   "outputs": [],
   "source": [
    "df[\"Geography\"] = df[\"Geography\"].apply(change)"
   ]
  },
  {
   "cell_type": "code",
   "execution_count": 24,
   "metadata": {
    "colab": {
     "base_uri": "https://localhost:8080/"
    },
    "id": "VPfIYl4Fq-T8",
    "outputId": "5cad287f-4cb2-441e-d6aa-087bce3e1a66"
   },
   "outputs": [
    {
     "name": "stdout",
     "output_type": "stream",
     "text": [
      "<class 'pandas.core.frame.DataFrame'>\n",
      "RangeIndex: 10000 entries, 0 to 9999\n",
      "Data columns (total 13 columns):\n",
      " #   Column           Non-Null Count  Dtype  \n",
      "---  ------           --------------  -----  \n",
      " 0   RowNumber        10000 non-null  int64  \n",
      " 1   CustomerId       10000 non-null  int64  \n",
      " 2   CreditScore      10000 non-null  int64  \n",
      " 3   Geography        10000 non-null  int64  \n",
      " 4   Gender           10000 non-null  object \n",
      " 5   Age              10000 non-null  int64  \n",
      " 6   Tenure           10000 non-null  int64  \n",
      " 7   Balance          10000 non-null  float64\n",
      " 8   NumOfProducts    10000 non-null  int64  \n",
      " 9   HasCrCard        10000 non-null  int64  \n",
      " 10  IsActiveMember   10000 non-null  int64  \n",
      " 11  EstimatedSalary  10000 non-null  float64\n",
      " 12  Exited           10000 non-null  int64  \n",
      "dtypes: float64(2), int64(10), object(1)\n",
      "memory usage: 1015.8+ KB\n"
     ]
    }
   ],
   "source": [
    "df.info()"
   ]
  },
  {
   "cell_type": "code",
   "execution_count": 25,
   "metadata": {
    "id": "MIDLLSJBx7dG"
   },
   "outputs": [],
   "source": [
    "def gender(x):\n",
    "    if x == \"Male\":\n",
    "        return 0\n",
    "    else:\n",
    "        return 1\n",
    "    "
   ]
  },
  {
   "cell_type": "code",
   "execution_count": 26,
   "metadata": {
    "id": "LnQzy7KpyW8p"
   },
   "outputs": [],
   "source": [
    "df[\"Gender\"] = df[\"Gender\"].apply(gender)"
   ]
  },
  {
   "cell_type": "code",
   "execution_count": 27,
   "metadata": {
    "colab": {
     "base_uri": "https://localhost:8080/",
     "height": 394
    },
    "id": "kn7D8UoLnYJ1",
    "outputId": "552a0dd6-2461-4f94-8077-f68608288652"
   },
   "outputs": [
    {
     "data": {
      "text/html": [
       "<div>\n",
       "<style scoped>\n",
       "    .dataframe tbody tr th:only-of-type {\n",
       "        vertical-align: middle;\n",
       "    }\n",
       "\n",
       "    .dataframe tbody tr th {\n",
       "        vertical-align: top;\n",
       "    }\n",
       "\n",
       "    .dataframe thead th {\n",
       "        text-align: right;\n",
       "    }\n",
       "</style>\n",
       "<table border=\"1\" class=\"dataframe\">\n",
       "  <thead>\n",
       "    <tr style=\"text-align: right;\">\n",
       "      <th></th>\n",
       "      <th>count</th>\n",
       "      <th>mean</th>\n",
       "      <th>std</th>\n",
       "      <th>min</th>\n",
       "      <th>25%</th>\n",
       "      <th>50%</th>\n",
       "      <th>75%</th>\n",
       "      <th>max</th>\n",
       "    </tr>\n",
       "  </thead>\n",
       "  <tbody>\n",
       "    <tr>\n",
       "      <th>RowNumber</th>\n",
       "      <td>10000.000</td>\n",
       "      <td>5000.500</td>\n",
       "      <td>2886.896</td>\n",
       "      <td>1.000</td>\n",
       "      <td>2500.750</td>\n",
       "      <td>5000.500</td>\n",
       "      <td>7500.250</td>\n",
       "      <td>10000.000</td>\n",
       "    </tr>\n",
       "    <tr>\n",
       "      <th>CustomerId</th>\n",
       "      <td>10000.000</td>\n",
       "      <td>15690940.569</td>\n",
       "      <td>71936.186</td>\n",
       "      <td>15565701.000</td>\n",
       "      <td>15628528.250</td>\n",
       "      <td>15690738.000</td>\n",
       "      <td>15753233.750</td>\n",
       "      <td>15815690.000</td>\n",
       "    </tr>\n",
       "    <tr>\n",
       "      <th>CreditScore</th>\n",
       "      <td>10000.000</td>\n",
       "      <td>650.529</td>\n",
       "      <td>96.653</td>\n",
       "      <td>350.000</td>\n",
       "      <td>584.000</td>\n",
       "      <td>652.000</td>\n",
       "      <td>718.000</td>\n",
       "      <td>850.000</td>\n",
       "    </tr>\n",
       "    <tr>\n",
       "      <th>Geography</th>\n",
       "      <td>10000.000</td>\n",
       "      <td>0.997</td>\n",
       "      <td>0.706</td>\n",
       "      <td>0.000</td>\n",
       "      <td>0.000</td>\n",
       "      <td>1.000</td>\n",
       "      <td>1.000</td>\n",
       "      <td>2.000</td>\n",
       "    </tr>\n",
       "    <tr>\n",
       "      <th>Gender</th>\n",
       "      <td>10000.000</td>\n",
       "      <td>0.454</td>\n",
       "      <td>0.498</td>\n",
       "      <td>0.000</td>\n",
       "      <td>0.000</td>\n",
       "      <td>0.000</td>\n",
       "      <td>1.000</td>\n",
       "      <td>1.000</td>\n",
       "    </tr>\n",
       "    <tr>\n",
       "      <th>Age</th>\n",
       "      <td>10000.000</td>\n",
       "      <td>38.922</td>\n",
       "      <td>10.488</td>\n",
       "      <td>18.000</td>\n",
       "      <td>32.000</td>\n",
       "      <td>37.000</td>\n",
       "      <td>44.000</td>\n",
       "      <td>92.000</td>\n",
       "    </tr>\n",
       "    <tr>\n",
       "      <th>Tenure</th>\n",
       "      <td>10000.000</td>\n",
       "      <td>5.013</td>\n",
       "      <td>2.892</td>\n",
       "      <td>0.000</td>\n",
       "      <td>3.000</td>\n",
       "      <td>5.000</td>\n",
       "      <td>7.000</td>\n",
       "      <td>10.000</td>\n",
       "    </tr>\n",
       "    <tr>\n",
       "      <th>Balance</th>\n",
       "      <td>10000.000</td>\n",
       "      <td>76485.889</td>\n",
       "      <td>62397.405</td>\n",
       "      <td>0.000</td>\n",
       "      <td>0.000</td>\n",
       "      <td>97198.540</td>\n",
       "      <td>127644.240</td>\n",
       "      <td>250898.090</td>\n",
       "    </tr>\n",
       "    <tr>\n",
       "      <th>NumOfProducts</th>\n",
       "      <td>10000.000</td>\n",
       "      <td>1.530</td>\n",
       "      <td>0.582</td>\n",
       "      <td>1.000</td>\n",
       "      <td>1.000</td>\n",
       "      <td>1.000</td>\n",
       "      <td>2.000</td>\n",
       "      <td>4.000</td>\n",
       "    </tr>\n",
       "    <tr>\n",
       "      <th>HasCrCard</th>\n",
       "      <td>10000.000</td>\n",
       "      <td>0.706</td>\n",
       "      <td>0.456</td>\n",
       "      <td>0.000</td>\n",
       "      <td>0.000</td>\n",
       "      <td>1.000</td>\n",
       "      <td>1.000</td>\n",
       "      <td>1.000</td>\n",
       "    </tr>\n",
       "    <tr>\n",
       "      <th>IsActiveMember</th>\n",
       "      <td>10000.000</td>\n",
       "      <td>0.515</td>\n",
       "      <td>0.500</td>\n",
       "      <td>0.000</td>\n",
       "      <td>0.000</td>\n",
       "      <td>1.000</td>\n",
       "      <td>1.000</td>\n",
       "      <td>1.000</td>\n",
       "    </tr>\n",
       "    <tr>\n",
       "      <th>EstimatedSalary</th>\n",
       "      <td>10000.000</td>\n",
       "      <td>100090.240</td>\n",
       "      <td>57510.493</td>\n",
       "      <td>11.580</td>\n",
       "      <td>51002.110</td>\n",
       "      <td>100193.915</td>\n",
       "      <td>149388.247</td>\n",
       "      <td>199992.480</td>\n",
       "    </tr>\n",
       "    <tr>\n",
       "      <th>Exited</th>\n",
       "      <td>10000.000</td>\n",
       "      <td>0.204</td>\n",
       "      <td>0.403</td>\n",
       "      <td>0.000</td>\n",
       "      <td>0.000</td>\n",
       "      <td>0.000</td>\n",
       "      <td>0.000</td>\n",
       "      <td>1.000</td>\n",
       "    </tr>\n",
       "  </tbody>\n",
       "</table>\n",
       "</div>"
      ],
      "text/plain": [
       "                    count         mean       std          min          25%  \\\n",
       "RowNumber       10000.000     5000.500  2886.896        1.000     2500.750   \n",
       "CustomerId      10000.000 15690940.569 71936.186 15565701.000 15628528.250   \n",
       "CreditScore     10000.000      650.529    96.653      350.000      584.000   \n",
       "Geography       10000.000        0.997     0.706        0.000        0.000   \n",
       "Gender          10000.000        0.454     0.498        0.000        0.000   \n",
       "Age             10000.000       38.922    10.488       18.000       32.000   \n",
       "Tenure          10000.000        5.013     2.892        0.000        3.000   \n",
       "Balance         10000.000    76485.889 62397.405        0.000        0.000   \n",
       "NumOfProducts   10000.000        1.530     0.582        1.000        1.000   \n",
       "HasCrCard       10000.000        0.706     0.456        0.000        0.000   \n",
       "IsActiveMember  10000.000        0.515     0.500        0.000        0.000   \n",
       "EstimatedSalary 10000.000   100090.240 57510.493       11.580    51002.110   \n",
       "Exited          10000.000        0.204     0.403        0.000        0.000   \n",
       "\n",
       "                         50%          75%          max  \n",
       "RowNumber           5000.500     7500.250    10000.000  \n",
       "CustomerId      15690738.000 15753233.750 15815690.000  \n",
       "CreditScore          652.000      718.000      850.000  \n",
       "Geography              1.000        1.000        2.000  \n",
       "Gender                 0.000        1.000        1.000  \n",
       "Age                   37.000       44.000       92.000  \n",
       "Tenure                 5.000        7.000       10.000  \n",
       "Balance            97198.540   127644.240   250898.090  \n",
       "NumOfProducts          1.000        2.000        4.000  \n",
       "HasCrCard              1.000        1.000        1.000  \n",
       "IsActiveMember         1.000        1.000        1.000  \n",
       "EstimatedSalary   100193.915   149388.247   199992.480  \n",
       "Exited                 0.000        0.000        1.000  "
      ]
     },
     "execution_count": 27,
     "metadata": {},
     "output_type": "execute_result"
    }
   ],
   "source": [
    "df.describe().T"
   ]
  },
  {
   "cell_type": "markdown",
   "metadata": {
    "id": "NSCmvDWOmvBP"
   },
   "source": [
    "# Preprocessing of Data\n",
    "- Train | Test Split, Scalling"
   ]
  },
  {
   "cell_type": "code",
   "execution_count": 28,
   "metadata": {
    "id": "E7-jtT4GmvBP"
   },
   "outputs": [],
   "source": [
    "from sklearn.model_selection import train_test_split\n",
    "from sklearn.preprocessing import MinMaxScaler"
   ]
  },
  {
   "cell_type": "code",
   "execution_count": 29,
   "metadata": {
    "id": "zXd_IytUy7eI"
   },
   "outputs": [],
   "source": [
    "X = df.drop('Exited', axis=1)\n",
    "y = df['Exited']"
   ]
  },
  {
   "cell_type": "code",
   "execution_count": 30,
   "metadata": {
    "id": "YYorQWPczHmS"
   },
   "outputs": [],
   "source": [
    "seed = 42"
   ]
  },
  {
   "cell_type": "code",
   "execution_count": 31,
   "metadata": {
    "id": "wZOrpzZPzLLX"
   },
   "outputs": [],
   "source": [
    "\n",
    "\n",
    "X_train, X_test, y_train, y_test = train_test_split(X, y, stratify = y, test_size = 0.20, random_state = seed)"
   ]
  },
  {
   "cell_type": "code",
   "execution_count": 32,
   "metadata": {
    "id": "D_H2I6fvzS2H"
   },
   "outputs": [],
   "source": [
    "scaler = MinMaxScaler()"
   ]
  },
  {
   "cell_type": "code",
   "execution_count": 33,
   "metadata": {
    "id": "Ew-1YW7NzVvO"
   },
   "outputs": [],
   "source": [
    "X_train= scaler.fit_transform(X_train)\n",
    "X_test = scaler.transform(X_test)"
   ]
  },
  {
   "cell_type": "markdown",
   "metadata": {
    "id": "Ha9hDt_AoGaE"
   },
   "source": [
    "# Modelling & Model Performance"
   ]
  },
  {
   "cell_type": "code",
   "execution_count": 34,
   "metadata": {
    "id": "PUB8PXWxzcwj"
   },
   "outputs": [
    {
     "name": "stderr",
     "output_type": "stream",
     "text": [
      "2023-01-20 14:17:47.874874: I tensorflow/core/platform/cpu_feature_guard.cc:193] This TensorFlow binary is optimized with oneAPI Deep Neural Network Library (oneDNN) to use the following CPU instructions in performance-critical operations:  AVX2 FMA\n",
      "To enable them in other operations, rebuild TensorFlow with the appropriate compiler flags.\n"
     ]
    }
   ],
   "source": [
    "import tensorflow as tf\n",
    "from tensorflow.keras.models import Sequential\n",
    "from tensorflow.keras.layers import Dense, Activation\n",
    "from sklearn.metrics import classification_report, confusion_matrix\n",
    "from sklearn.metrics import plot_roc_curve, roc_auc_score, roc_curve\n",
    "from sklearn.model_selection import cross_val_score, cross_validate\n",
    "from sklearn.model_selection import GridSearchCV"
   ]
  },
  {
   "cell_type": "code",
   "execution_count": 35,
   "metadata": {},
   "outputs": [],
   "source": [
    "#pip install tensorflow --user"
   ]
  },
  {
   "cell_type": "code",
   "execution_count": 36,
   "metadata": {
    "colab": {
     "base_uri": "https://localhost:8080/"
    },
    "id": "IIaypeBOzhcV",
    "outputId": "bba0d44e-528c-4faf-965e-922318f6ec02"
   },
   "outputs": [
    {
     "data": {
      "text/plain": [
       "(8000, 12)"
      ]
     },
     "execution_count": 36,
     "metadata": {},
     "output_type": "execute_result"
    }
   ],
   "source": [
    "X_train.shape"
   ]
  },
  {
   "cell_type": "code",
   "execution_count": 37,
   "metadata": {
    "colab": {
     "base_uri": "https://localhost:8080/"
    },
    "id": "6DO2gH1Azi26",
    "outputId": "fcca6231-0460-468b-9765-2f0cf9d65b2f"
   },
   "outputs": [
    {
     "data": {
      "text/plain": [
       "(2000, 12)"
      ]
     },
     "execution_count": 37,
     "metadata": {},
     "output_type": "execute_result"
    }
   ],
   "source": [
    "X_test.shape"
   ]
  },
  {
   "cell_type": "code",
   "execution_count": 38,
   "metadata": {
    "id": "_-WTdNeszsYo"
   },
   "outputs": [
    {
     "name": "stderr",
     "output_type": "stream",
     "text": [
      "2023-01-20 14:17:57.111014: I tensorflow/core/platform/cpu_feature_guard.cc:193] This TensorFlow binary is optimized with oneAPI Deep Neural Network Library (oneDNN) to use the following CPU instructions in performance-critical operations:  AVX2 FMA\n",
      "To enable them in other operations, rebuild TensorFlow with the appropriate compiler flags.\n"
     ]
    }
   ],
   "source": [
    "tf.random.set_seed(seed)\n",
    "\n",
    "model = Sequential()\n",
    "\n",
    "model.add(Dense(24, activation = \"relu\", input_dim = X_train.shape[1]))\n",
    "model.add(Dense(24, activation = \"relu\"))\n",
    "model.add(Dense(12, activation = \"relu\"))\n",
    "model.add(Dense(6, activation = \"relu\"))\n",
    "model.add(Dense(1, activation = \"sigmoid\"))\n",
    "\n",
    "model.compile(optimizer = \"adam\", loss = \"binary_crossentropy\", metrics = [\"accuracy\"])"
   ]
  },
  {
   "cell_type": "code",
   "execution_count": 39,
   "metadata": {
    "colab": {
     "base_uri": "https://localhost:8080/"
    },
    "id": "_IKgGiMu0LfV",
    "outputId": "7335d81f-4ab1-421f-82a8-d35a06f5fb5d"
   },
   "outputs": [
    {
     "name": "stdout",
     "output_type": "stream",
     "text": [
      "Epoch 1/400\n",
      "225/225 [==============================] - 2s 3ms/step - loss: 0.4969 - accuracy: 0.7929 - val_loss: 0.4513 - val_accuracy: 0.8100\n",
      "Epoch 2/400\n",
      "225/225 [==============================] - 1s 3ms/step - loss: 0.4595 - accuracy: 0.7990 - val_loss: 0.4292 - val_accuracy: 0.8275\n",
      "Epoch 3/400\n",
      "225/225 [==============================] - 1s 2ms/step - loss: 0.4420 - accuracy: 0.8121 - val_loss: 0.4141 - val_accuracy: 0.8350\n",
      "Epoch 4/400\n",
      "225/225 [==============================] - 1s 3ms/step - loss: 0.4292 - accuracy: 0.8188 - val_loss: 0.4164 - val_accuracy: 0.8275\n",
      "Epoch 5/400\n",
      "225/225 [==============================] - 1s 2ms/step - loss: 0.4222 - accuracy: 0.8235 - val_loss: 0.3995 - val_accuracy: 0.8413\n",
      "Epoch 6/400\n",
      "225/225 [==============================] - 1s 3ms/step - loss: 0.4155 - accuracy: 0.8253 - val_loss: 0.3913 - val_accuracy: 0.8425\n",
      "Epoch 7/400\n",
      "225/225 [==============================] - 1s 2ms/step - loss: 0.4102 - accuracy: 0.8314 - val_loss: 0.3826 - val_accuracy: 0.8500\n",
      "Epoch 8/400\n",
      "225/225 [==============================] - 1s 2ms/step - loss: 0.4065 - accuracy: 0.8328 - val_loss: 0.3776 - val_accuracy: 0.8475\n",
      "Epoch 9/400\n",
      "225/225 [==============================] - 1s 3ms/step - loss: 0.4004 - accuracy: 0.8314 - val_loss: 0.3728 - val_accuracy: 0.8500\n",
      "Epoch 10/400\n",
      "225/225 [==============================] - 1s 2ms/step - loss: 0.3909 - accuracy: 0.8385 - val_loss: 0.3612 - val_accuracy: 0.8575\n",
      "Epoch 11/400\n",
      "225/225 [==============================] - 1s 2ms/step - loss: 0.3844 - accuracy: 0.8429 - val_loss: 0.3620 - val_accuracy: 0.8575\n",
      "Epoch 12/400\n",
      "225/225 [==============================] - 1s 3ms/step - loss: 0.3762 - accuracy: 0.8438 - val_loss: 0.3484 - val_accuracy: 0.8600\n",
      "Epoch 13/400\n",
      "225/225 [==============================] - 1s 3ms/step - loss: 0.3707 - accuracy: 0.8458 - val_loss: 0.3429 - val_accuracy: 0.8587\n",
      "Epoch 14/400\n",
      "225/225 [==============================] - 1s 2ms/step - loss: 0.3650 - accuracy: 0.8493 - val_loss: 0.3339 - val_accuracy: 0.8675\n",
      "Epoch 15/400\n",
      "225/225 [==============================] - 1s 3ms/step - loss: 0.3608 - accuracy: 0.8515 - val_loss: 0.3325 - val_accuracy: 0.8675\n",
      "Epoch 16/400\n",
      "225/225 [==============================] - 1s 3ms/step - loss: 0.3570 - accuracy: 0.8550 - val_loss: 0.3238 - val_accuracy: 0.8662\n",
      "Epoch 17/400\n",
      "225/225 [==============================] - 1s 3ms/step - loss: 0.3514 - accuracy: 0.8547 - val_loss: 0.3210 - val_accuracy: 0.8737\n",
      "Epoch 18/400\n",
      "225/225 [==============================] - 1s 3ms/step - loss: 0.3489 - accuracy: 0.8571 - val_loss: 0.3210 - val_accuracy: 0.8763\n",
      "Epoch 19/400\n",
      "225/225 [==============================] - 1s 3ms/step - loss: 0.3472 - accuracy: 0.8569 - val_loss: 0.3249 - val_accuracy: 0.8700\n",
      "Epoch 20/400\n",
      "225/225 [==============================] - 1s 3ms/step - loss: 0.3472 - accuracy: 0.8561 - val_loss: 0.3262 - val_accuracy: 0.8725\n",
      "Epoch 21/400\n",
      "225/225 [==============================] - 1s 3ms/step - loss: 0.3453 - accuracy: 0.8587 - val_loss: 0.3194 - val_accuracy: 0.8712\n",
      "Epoch 22/400\n",
      "225/225 [==============================] - 1s 3ms/step - loss: 0.3443 - accuracy: 0.8574 - val_loss: 0.3181 - val_accuracy: 0.8763\n",
      "Epoch 23/400\n",
      "225/225 [==============================] - 1s 3ms/step - loss: 0.3439 - accuracy: 0.8590 - val_loss: 0.3224 - val_accuracy: 0.8725\n",
      "Epoch 24/400\n",
      "225/225 [==============================] - 1s 3ms/step - loss: 0.3447 - accuracy: 0.8596 - val_loss: 0.3400 - val_accuracy: 0.8587\n",
      "Epoch 25/400\n",
      "225/225 [==============================] - 1s 3ms/step - loss: 0.3445 - accuracy: 0.8575 - val_loss: 0.3201 - val_accuracy: 0.8712\n",
      "Epoch 26/400\n",
      "225/225 [==============================] - 1s 3ms/step - loss: 0.3424 - accuracy: 0.8578 - val_loss: 0.3142 - val_accuracy: 0.8700\n",
      "Epoch 27/400\n",
      "225/225 [==============================] - 1s 3ms/step - loss: 0.3411 - accuracy: 0.8596 - val_loss: 0.3219 - val_accuracy: 0.8700\n",
      "Epoch 28/400\n",
      "225/225 [==============================] - 1s 3ms/step - loss: 0.3400 - accuracy: 0.8597 - val_loss: 0.3202 - val_accuracy: 0.8750\n",
      "Epoch 29/400\n",
      "225/225 [==============================] - 1s 3ms/step - loss: 0.3395 - accuracy: 0.8597 - val_loss: 0.3154 - val_accuracy: 0.8700\n",
      "Epoch 30/400\n",
      "225/225 [==============================] - 1s 3ms/step - loss: 0.3397 - accuracy: 0.8603 - val_loss: 0.3171 - val_accuracy: 0.8712\n",
      "Epoch 31/400\n",
      "225/225 [==============================] - 1s 3ms/step - loss: 0.3382 - accuracy: 0.8587 - val_loss: 0.3175 - val_accuracy: 0.8750\n",
      "Epoch 32/400\n",
      "225/225 [==============================] - 1s 3ms/step - loss: 0.3378 - accuracy: 0.8599 - val_loss: 0.3195 - val_accuracy: 0.8737\n",
      "Epoch 33/400\n",
      "225/225 [==============================] - 1s 3ms/step - loss: 0.3377 - accuracy: 0.8599 - val_loss: 0.3273 - val_accuracy: 0.8763\n",
      "Epoch 34/400\n",
      "225/225 [==============================] - 1s 3ms/step - loss: 0.3367 - accuracy: 0.8612 - val_loss: 0.3127 - val_accuracy: 0.8737\n",
      "Epoch 35/400\n",
      "225/225 [==============================] - 1s 3ms/step - loss: 0.3360 - accuracy: 0.8608 - val_loss: 0.3167 - val_accuracy: 0.8737\n",
      "Epoch 36/400\n",
      "225/225 [==============================] - 1s 3ms/step - loss: 0.3339 - accuracy: 0.8643 - val_loss: 0.3127 - val_accuracy: 0.8750\n",
      "Epoch 37/400\n",
      "225/225 [==============================] - 1s 3ms/step - loss: 0.3328 - accuracy: 0.8629 - val_loss: 0.3120 - val_accuracy: 0.8725\n",
      "Epoch 38/400\n",
      "225/225 [==============================] - 1s 2ms/step - loss: 0.3317 - accuracy: 0.8633 - val_loss: 0.3132 - val_accuracy: 0.8737\n",
      "Epoch 39/400\n",
      "225/225 [==============================] - 1s 2ms/step - loss: 0.3310 - accuracy: 0.8647 - val_loss: 0.3135 - val_accuracy: 0.8737\n",
      "Epoch 40/400\n",
      "225/225 [==============================] - 1s 2ms/step - loss: 0.3334 - accuracy: 0.8619 - val_loss: 0.3132 - val_accuracy: 0.8750\n",
      "Epoch 41/400\n",
      "225/225 [==============================] - 1s 2ms/step - loss: 0.3302 - accuracy: 0.8675 - val_loss: 0.3135 - val_accuracy: 0.8737\n",
      "Epoch 42/400\n",
      "225/225 [==============================] - 1s 2ms/step - loss: 0.3305 - accuracy: 0.8651 - val_loss: 0.3200 - val_accuracy: 0.8725\n",
      "Epoch 43/400\n",
      "225/225 [==============================] - 1s 2ms/step - loss: 0.3321 - accuracy: 0.8626 - val_loss: 0.3119 - val_accuracy: 0.8763\n",
      "Epoch 44/400\n",
      "225/225 [==============================] - 1s 3ms/step - loss: 0.3291 - accuracy: 0.8653 - val_loss: 0.3163 - val_accuracy: 0.8725\n",
      "Epoch 45/400\n",
      "225/225 [==============================] - 1s 2ms/step - loss: 0.3301 - accuracy: 0.8632 - val_loss: 0.3172 - val_accuracy: 0.8700\n",
      "Epoch 46/400\n",
      "225/225 [==============================] - 1s 2ms/step - loss: 0.3294 - accuracy: 0.8661 - val_loss: 0.3135 - val_accuracy: 0.8788\n",
      "Epoch 47/400\n",
      "225/225 [==============================] - 1s 2ms/step - loss: 0.3283 - accuracy: 0.8683 - val_loss: 0.3159 - val_accuracy: 0.8763\n",
      "Epoch 48/400\n",
      "225/225 [==============================] - 1s 2ms/step - loss: 0.3285 - accuracy: 0.8651 - val_loss: 0.3138 - val_accuracy: 0.8825\n",
      "Epoch 49/400\n",
      "225/225 [==============================] - 1s 2ms/step - loss: 0.3272 - accuracy: 0.8647 - val_loss: 0.3338 - val_accuracy: 0.8550\n",
      "Epoch 50/400\n",
      "225/225 [==============================] - 1s 3ms/step - loss: 0.3287 - accuracy: 0.8661 - val_loss: 0.3266 - val_accuracy: 0.8687\n",
      "Epoch 51/400\n",
      "225/225 [==============================] - 1s 2ms/step - loss: 0.3276 - accuracy: 0.8661 - val_loss: 0.3172 - val_accuracy: 0.8700\n",
      "Epoch 52/400\n",
      "225/225 [==============================] - 1s 2ms/step - loss: 0.3293 - accuracy: 0.8647 - val_loss: 0.3207 - val_accuracy: 0.8650\n",
      "Epoch 53/400\n",
      "225/225 [==============================] - 1s 2ms/step - loss: 0.3273 - accuracy: 0.8672 - val_loss: 0.3147 - val_accuracy: 0.8788\n",
      "Epoch 54/400\n",
      "225/225 [==============================] - 1s 2ms/step - loss: 0.3262 - accuracy: 0.8682 - val_loss: 0.3151 - val_accuracy: 0.8763\n",
      "Epoch 55/400\n",
      "225/225 [==============================] - 1s 3ms/step - loss: 0.3254 - accuracy: 0.8672 - val_loss: 0.3175 - val_accuracy: 0.8675\n",
      "Epoch 56/400\n",
      "225/225 [==============================] - 1s 2ms/step - loss: 0.3254 - accuracy: 0.8675 - val_loss: 0.3263 - val_accuracy: 0.8575\n",
      "Epoch 57/400\n",
      "225/225 [==============================] - 1s 2ms/step - loss: 0.3257 - accuracy: 0.8668 - val_loss: 0.3246 - val_accuracy: 0.8662\n"
     ]
    },
    {
     "name": "stdout",
     "output_type": "stream",
     "text": [
      "Epoch 58/400\n",
      "225/225 [==============================] - 1s 3ms/step - loss: 0.3263 - accuracy: 0.8678 - val_loss: 0.3212 - val_accuracy: 0.8637\n",
      "Epoch 59/400\n",
      "225/225 [==============================] - 1s 2ms/step - loss: 0.3233 - accuracy: 0.8686 - val_loss: 0.3290 - val_accuracy: 0.8662\n",
      "Epoch 60/400\n",
      "225/225 [==============================] - 1s 2ms/step - loss: 0.3240 - accuracy: 0.8687 - val_loss: 0.3178 - val_accuracy: 0.8712\n",
      "Epoch 61/400\n",
      "225/225 [==============================] - 1s 2ms/step - loss: 0.3245 - accuracy: 0.8668 - val_loss: 0.3235 - val_accuracy: 0.8587\n",
      "Epoch 62/400\n",
      "225/225 [==============================] - 1s 2ms/step - loss: 0.3257 - accuracy: 0.8686 - val_loss: 0.3154 - val_accuracy: 0.8737\n",
      "Epoch 63/400\n",
      "225/225 [==============================] - 1s 2ms/step - loss: 0.3239 - accuracy: 0.8669 - val_loss: 0.3173 - val_accuracy: 0.8788\n",
      "Epoch 64/400\n",
      "225/225 [==============================] - 1s 2ms/step - loss: 0.3232 - accuracy: 0.8671 - val_loss: 0.3137 - val_accuracy: 0.8775\n",
      "Epoch 65/400\n",
      "225/225 [==============================] - 1s 3ms/step - loss: 0.3219 - accuracy: 0.8693 - val_loss: 0.3213 - val_accuracy: 0.8600\n",
      "Epoch 66/400\n",
      "225/225 [==============================] - 1s 2ms/step - loss: 0.3227 - accuracy: 0.8689 - val_loss: 0.3157 - val_accuracy: 0.8725\n",
      "Epoch 67/400\n",
      "225/225 [==============================] - 1s 2ms/step - loss: 0.3216 - accuracy: 0.8674 - val_loss: 0.3147 - val_accuracy: 0.8788\n",
      "Epoch 68/400\n",
      "225/225 [==============================] - 1s 2ms/step - loss: 0.3215 - accuracy: 0.8697 - val_loss: 0.3157 - val_accuracy: 0.8750\n",
      "Epoch 69/400\n",
      "225/225 [==============================] - 1s 2ms/step - loss: 0.3210 - accuracy: 0.8665 - val_loss: 0.3197 - val_accuracy: 0.8662\n",
      "Epoch 70/400\n",
      "225/225 [==============================] - 1s 2ms/step - loss: 0.3192 - accuracy: 0.8703 - val_loss: 0.3294 - val_accuracy: 0.8650\n",
      "Epoch 71/400\n",
      "225/225 [==============================] - 1s 2ms/step - loss: 0.3213 - accuracy: 0.8683 - val_loss: 0.3290 - val_accuracy: 0.8725\n",
      "Epoch 72/400\n",
      "225/225 [==============================] - 1s 2ms/step - loss: 0.3209 - accuracy: 0.8699 - val_loss: 0.3181 - val_accuracy: 0.8662\n",
      "Epoch 73/400\n",
      "225/225 [==============================] - 1s 2ms/step - loss: 0.3191 - accuracy: 0.8703 - val_loss: 0.3206 - val_accuracy: 0.8612\n",
      "Epoch 74/400\n",
      "225/225 [==============================] - 1s 2ms/step - loss: 0.3181 - accuracy: 0.8694 - val_loss: 0.3222 - val_accuracy: 0.8612\n",
      "Epoch 75/400\n",
      "225/225 [==============================] - 1s 2ms/step - loss: 0.3196 - accuracy: 0.8681 - val_loss: 0.3197 - val_accuracy: 0.8662\n",
      "Epoch 76/400\n",
      "225/225 [==============================] - 1s 2ms/step - loss: 0.3196 - accuracy: 0.8694 - val_loss: 0.3209 - val_accuracy: 0.8700\n",
      "Epoch 77/400\n",
      "225/225 [==============================] - 1s 2ms/step - loss: 0.3194 - accuracy: 0.8697 - val_loss: 0.3181 - val_accuracy: 0.8725\n",
      "Epoch 78/400\n",
      "225/225 [==============================] - 1s 2ms/step - loss: 0.3192 - accuracy: 0.8682 - val_loss: 0.3183 - val_accuracy: 0.8750\n",
      "Epoch 79/400\n",
      "225/225 [==============================] - 1s 2ms/step - loss: 0.3180 - accuracy: 0.8697 - val_loss: 0.3177 - val_accuracy: 0.8737\n",
      "Epoch 80/400\n",
      "225/225 [==============================] - 1s 2ms/step - loss: 0.3176 - accuracy: 0.8689 - val_loss: 0.3222 - val_accuracy: 0.8687\n",
      "Epoch 81/400\n",
      "225/225 [==============================] - 1s 2ms/step - loss: 0.3177 - accuracy: 0.8710 - val_loss: 0.3211 - val_accuracy: 0.8725\n",
      "Epoch 82/400\n",
      "225/225 [==============================] - 1s 2ms/step - loss: 0.3159 - accuracy: 0.8711 - val_loss: 0.3230 - val_accuracy: 0.8662\n",
      "Epoch 83/400\n",
      "225/225 [==============================] - 1s 2ms/step - loss: 0.3179 - accuracy: 0.8693 - val_loss: 0.3204 - val_accuracy: 0.8650\n",
      "Epoch 84/400\n",
      "225/225 [==============================] - 1s 2ms/step - loss: 0.3163 - accuracy: 0.8672 - val_loss: 0.3249 - val_accuracy: 0.8687\n",
      "Epoch 85/400\n",
      "225/225 [==============================] - 1s 2ms/step - loss: 0.3169 - accuracy: 0.8687 - val_loss: 0.3214 - val_accuracy: 0.8637\n",
      "Epoch 86/400\n",
      "225/225 [==============================] - 1s 2ms/step - loss: 0.3159 - accuracy: 0.8687 - val_loss: 0.3208 - val_accuracy: 0.8737\n",
      "Epoch 87/400\n",
      "225/225 [==============================] - 1s 2ms/step - loss: 0.3152 - accuracy: 0.8693 - val_loss: 0.3250 - val_accuracy: 0.8650\n",
      "Epoch 88/400\n",
      "225/225 [==============================] - 1s 3ms/step - loss: 0.3164 - accuracy: 0.8726 - val_loss: 0.3167 - val_accuracy: 0.8725\n",
      "Epoch 89/400\n",
      "225/225 [==============================] - 1s 2ms/step - loss: 0.3162 - accuracy: 0.8674 - val_loss: 0.3218 - val_accuracy: 0.8687\n",
      "Epoch 90/400\n",
      "225/225 [==============================] - 1s 2ms/step - loss: 0.3142 - accuracy: 0.8692 - val_loss: 0.3282 - val_accuracy: 0.8612\n",
      "Epoch 91/400\n",
      "225/225 [==============================] - 1s 2ms/step - loss: 0.3152 - accuracy: 0.8700 - val_loss: 0.3381 - val_accuracy: 0.8650\n",
      "Epoch 92/400\n",
      "225/225 [==============================] - 1s 2ms/step - loss: 0.3137 - accuracy: 0.8736 - val_loss: 0.3276 - val_accuracy: 0.8687\n",
      "Epoch 93/400\n",
      "225/225 [==============================] - 1s 2ms/step - loss: 0.3114 - accuracy: 0.8722 - val_loss: 0.3229 - val_accuracy: 0.8725\n",
      "Epoch 94/400\n",
      "225/225 [==============================] - 1s 2ms/step - loss: 0.3139 - accuracy: 0.8711 - val_loss: 0.3237 - val_accuracy: 0.8712\n",
      "Epoch 95/400\n",
      "225/225 [==============================] - 1s 2ms/step - loss: 0.3142 - accuracy: 0.8689 - val_loss: 0.3334 - val_accuracy: 0.8562\n",
      "Epoch 96/400\n",
      "225/225 [==============================] - 1s 2ms/step - loss: 0.3144 - accuracy: 0.8703 - val_loss: 0.3287 - val_accuracy: 0.8650\n",
      "Epoch 97/400\n",
      "225/225 [==============================] - 1s 2ms/step - loss: 0.3133 - accuracy: 0.8708 - val_loss: 0.3306 - val_accuracy: 0.8650\n",
      "Epoch 98/400\n",
      "225/225 [==============================] - 1s 2ms/step - loss: 0.3130 - accuracy: 0.8704 - val_loss: 0.3276 - val_accuracy: 0.8637\n",
      "Epoch 99/400\n",
      "225/225 [==============================] - 1s 2ms/step - loss: 0.3134 - accuracy: 0.8700 - val_loss: 0.3235 - val_accuracy: 0.8687\n",
      "Epoch 100/400\n",
      "225/225 [==============================] - 1s 2ms/step - loss: 0.3130 - accuracy: 0.8707 - val_loss: 0.3347 - val_accuracy: 0.8550\n",
      "Epoch 101/400\n",
      "225/225 [==============================] - 1s 2ms/step - loss: 0.3126 - accuracy: 0.8707 - val_loss: 0.3241 - val_accuracy: 0.8675\n",
      "Epoch 102/400\n",
      "225/225 [==============================] - 1s 3ms/step - loss: 0.3117 - accuracy: 0.8711 - val_loss: 0.3252 - val_accuracy: 0.8612\n",
      "Epoch 103/400\n",
      "225/225 [==============================] - 1s 2ms/step - loss: 0.3135 - accuracy: 0.8689 - val_loss: 0.3267 - val_accuracy: 0.8687\n",
      "Epoch 104/400\n",
      "225/225 [==============================] - 1s 2ms/step - loss: 0.3099 - accuracy: 0.8721 - val_loss: 0.3222 - val_accuracy: 0.8687\n",
      "Epoch 105/400\n",
      "225/225 [==============================] - 1s 3ms/step - loss: 0.3122 - accuracy: 0.8717 - val_loss: 0.3312 - val_accuracy: 0.8662\n",
      "Epoch 106/400\n",
      "225/225 [==============================] - 1s 3ms/step - loss: 0.3108 - accuracy: 0.8706 - val_loss: 0.3268 - val_accuracy: 0.8712\n",
      "Epoch 107/400\n",
      "225/225 [==============================] - 1s 3ms/step - loss: 0.3089 - accuracy: 0.8719 - val_loss: 0.3262 - val_accuracy: 0.8587\n",
      "Epoch 108/400\n",
      "225/225 [==============================] - 1s 3ms/step - loss: 0.3093 - accuracy: 0.8721 - val_loss: 0.3391 - val_accuracy: 0.8587\n",
      "Epoch 109/400\n",
      "225/225 [==============================] - 1s 3ms/step - loss: 0.3114 - accuracy: 0.8737 - val_loss: 0.3350 - val_accuracy: 0.8600\n",
      "Epoch 110/400\n",
      "225/225 [==============================] - 1s 3ms/step - loss: 0.3090 - accuracy: 0.8729 - val_loss: 0.3314 - val_accuracy: 0.8575\n",
      "Epoch 111/400\n",
      "225/225 [==============================] - 1s 3ms/step - loss: 0.3098 - accuracy: 0.8706 - val_loss: 0.3448 - val_accuracy: 0.8575\n",
      "Epoch 112/400\n",
      "225/225 [==============================] - 1s 3ms/step - loss: 0.3099 - accuracy: 0.8735 - val_loss: 0.3309 - val_accuracy: 0.8612\n",
      "Epoch 113/400\n",
      "225/225 [==============================] - 1s 3ms/step - loss: 0.3082 - accuracy: 0.8739 - val_loss: 0.3317 - val_accuracy: 0.8587\n",
      "Epoch 114/400\n",
      "225/225 [==============================] - 1s 3ms/step - loss: 0.3077 - accuracy: 0.8711 - val_loss: 0.3312 - val_accuracy: 0.8600\n"
     ]
    },
    {
     "name": "stdout",
     "output_type": "stream",
     "text": [
      "Epoch 115/400\n",
      "225/225 [==============================] - 1s 3ms/step - loss: 0.3069 - accuracy: 0.8718 - val_loss: 0.3280 - val_accuracy: 0.8700\n",
      "Epoch 116/400\n",
      "225/225 [==============================] - 1s 3ms/step - loss: 0.3069 - accuracy: 0.8722 - val_loss: 0.3308 - val_accuracy: 0.8625\n",
      "Epoch 117/400\n",
      "225/225 [==============================] - 1s 3ms/step - loss: 0.3081 - accuracy: 0.8733 - val_loss: 0.3281 - val_accuracy: 0.8687\n",
      "Epoch 118/400\n",
      "225/225 [==============================] - 1s 3ms/step - loss: 0.3060 - accuracy: 0.8736 - val_loss: 0.3672 - val_accuracy: 0.8400\n",
      "Epoch 119/400\n",
      "225/225 [==============================] - 1s 3ms/step - loss: 0.3097 - accuracy: 0.8731 - val_loss: 0.3299 - val_accuracy: 0.8637\n",
      "Epoch 120/400\n",
      "225/225 [==============================] - 1s 3ms/step - loss: 0.3053 - accuracy: 0.8760 - val_loss: 0.3311 - val_accuracy: 0.8562\n",
      "Epoch 121/400\n",
      "225/225 [==============================] - 1s 3ms/step - loss: 0.3064 - accuracy: 0.8726 - val_loss: 0.3377 - val_accuracy: 0.8575\n",
      "Epoch 122/400\n",
      "225/225 [==============================] - 1s 3ms/step - loss: 0.3068 - accuracy: 0.8711 - val_loss: 0.3248 - val_accuracy: 0.8650\n",
      "Epoch 123/400\n",
      "225/225 [==============================] - 1s 3ms/step - loss: 0.3047 - accuracy: 0.8712 - val_loss: 0.3376 - val_accuracy: 0.8512\n",
      "Epoch 124/400\n",
      "225/225 [==============================] - 1s 3ms/step - loss: 0.3057 - accuracy: 0.8756 - val_loss: 0.3351 - val_accuracy: 0.8675\n",
      "Epoch 125/400\n",
      "225/225 [==============================] - 1s 3ms/step - loss: 0.3040 - accuracy: 0.8764 - val_loss: 0.3268 - val_accuracy: 0.8700\n",
      "Epoch 126/400\n",
      "225/225 [==============================] - 1s 3ms/step - loss: 0.3032 - accuracy: 0.8754 - val_loss: 0.3363 - val_accuracy: 0.8537\n",
      "Epoch 127/400\n",
      "225/225 [==============================] - 1s 2ms/step - loss: 0.3019 - accuracy: 0.8757 - val_loss: 0.3277 - val_accuracy: 0.8662\n",
      "Epoch 128/400\n",
      "225/225 [==============================] - 1s 3ms/step - loss: 0.3038 - accuracy: 0.8747 - val_loss: 0.3299 - val_accuracy: 0.8662\n",
      "Epoch 129/400\n",
      "225/225 [==============================] - 1s 3ms/step - loss: 0.3027 - accuracy: 0.8765 - val_loss: 0.3302 - val_accuracy: 0.8600\n",
      "Epoch 130/400\n",
      "225/225 [==============================] - 1s 3ms/step - loss: 0.3037 - accuracy: 0.8754 - val_loss: 0.3289 - val_accuracy: 0.8550\n",
      "Epoch 131/400\n",
      "225/225 [==============================] - 1s 3ms/step - loss: 0.3039 - accuracy: 0.8733 - val_loss: 0.3305 - val_accuracy: 0.8600\n",
      "Epoch 132/400\n",
      "225/225 [==============================] - 1s 3ms/step - loss: 0.3022 - accuracy: 0.8746 - val_loss: 0.3317 - val_accuracy: 0.8600\n",
      "Epoch 133/400\n",
      "225/225 [==============================] - 1s 3ms/step - loss: 0.3044 - accuracy: 0.8740 - val_loss: 0.3337 - val_accuracy: 0.8587\n",
      "Epoch 134/400\n",
      "225/225 [==============================] - 1s 3ms/step - loss: 0.3026 - accuracy: 0.8758 - val_loss: 0.3279 - val_accuracy: 0.8650\n",
      "Epoch 135/400\n",
      "225/225 [==============================] - 1s 3ms/step - loss: 0.3009 - accuracy: 0.8782 - val_loss: 0.3501 - val_accuracy: 0.8550\n",
      "Epoch 136/400\n",
      "225/225 [==============================] - 1s 3ms/step - loss: 0.3001 - accuracy: 0.8765 - val_loss: 0.3336 - val_accuracy: 0.8575\n",
      "Epoch 137/400\n",
      "225/225 [==============================] - 1s 3ms/step - loss: 0.3013 - accuracy: 0.8758 - val_loss: 0.3372 - val_accuracy: 0.8550\n",
      "Epoch 138/400\n",
      "225/225 [==============================] - 1s 3ms/step - loss: 0.2990 - accuracy: 0.8767 - val_loss: 0.3398 - val_accuracy: 0.8587\n",
      "Epoch 139/400\n",
      "225/225 [==============================] - 1s 2ms/step - loss: 0.2994 - accuracy: 0.8764 - val_loss: 0.3353 - val_accuracy: 0.8575\n",
      "Epoch 140/400\n",
      "225/225 [==============================] - 1s 3ms/step - loss: 0.2991 - accuracy: 0.8763 - val_loss: 0.3338 - val_accuracy: 0.8637\n",
      "Epoch 141/400\n",
      "225/225 [==============================] - 1s 3ms/step - loss: 0.2987 - accuracy: 0.8746 - val_loss: 0.3347 - val_accuracy: 0.8600\n",
      "Epoch 142/400\n",
      "225/225 [==============================] - 1s 3ms/step - loss: 0.3000 - accuracy: 0.8760 - val_loss: 0.3490 - val_accuracy: 0.8512\n",
      "Epoch 143/400\n",
      "225/225 [==============================] - 1s 3ms/step - loss: 0.2985 - accuracy: 0.8779 - val_loss: 0.3371 - val_accuracy: 0.8562\n",
      "Epoch 144/400\n",
      "225/225 [==============================] - 1s 3ms/step - loss: 0.2973 - accuracy: 0.8792 - val_loss: 0.3340 - val_accuracy: 0.8675\n",
      "Epoch 145/400\n",
      "225/225 [==============================] - 1s 3ms/step - loss: 0.3006 - accuracy: 0.8783 - val_loss: 0.3302 - val_accuracy: 0.8562\n",
      "Epoch 146/400\n",
      "225/225 [==============================] - 1s 3ms/step - loss: 0.2980 - accuracy: 0.8796 - val_loss: 0.3387 - val_accuracy: 0.8612\n",
      "Epoch 147/400\n",
      "225/225 [==============================] - 1s 3ms/step - loss: 0.2983 - accuracy: 0.8763 - val_loss: 0.3359 - val_accuracy: 0.8600\n",
      "Epoch 148/400\n",
      "225/225 [==============================] - 1s 2ms/step - loss: 0.2980 - accuracy: 0.8807 - val_loss: 0.3331 - val_accuracy: 0.8587\n",
      "Epoch 149/400\n",
      "225/225 [==============================] - 1s 2ms/step - loss: 0.2968 - accuracy: 0.8750 - val_loss: 0.3400 - val_accuracy: 0.8525\n",
      "Epoch 150/400\n",
      "225/225 [==============================] - 1s 3ms/step - loss: 0.2975 - accuracy: 0.8763 - val_loss: 0.3397 - val_accuracy: 0.8550\n",
      "Epoch 151/400\n",
      "225/225 [==============================] - 1s 2ms/step - loss: 0.2963 - accuracy: 0.8788 - val_loss: 0.3371 - val_accuracy: 0.8600\n",
      "Epoch 152/400\n",
      "225/225 [==============================] - 1s 3ms/step - loss: 0.2991 - accuracy: 0.8771 - val_loss: 0.3460 - val_accuracy: 0.8637\n",
      "Epoch 153/400\n",
      "225/225 [==============================] - 1s 3ms/step - loss: 0.2952 - accuracy: 0.8794 - val_loss: 0.3423 - val_accuracy: 0.8587\n",
      "Epoch 154/400\n",
      "225/225 [==============================] - 1s 3ms/step - loss: 0.2941 - accuracy: 0.8801 - val_loss: 0.3353 - val_accuracy: 0.8712\n",
      "Epoch 155/400\n",
      "225/225 [==============================] - 1s 4ms/step - loss: 0.2943 - accuracy: 0.8814 - val_loss: 0.3352 - val_accuracy: 0.8712\n",
      "Epoch 156/400\n",
      "225/225 [==============================] - 1s 3ms/step - loss: 0.2945 - accuracy: 0.8815 - val_loss: 0.3381 - val_accuracy: 0.8650\n",
      "Epoch 157/400\n",
      "225/225 [==============================] - 1s 3ms/step - loss: 0.2955 - accuracy: 0.8776 - val_loss: 0.3423 - val_accuracy: 0.8575\n",
      "Epoch 158/400\n",
      "225/225 [==============================] - 1s 3ms/step - loss: 0.2981 - accuracy: 0.8776 - val_loss: 0.3500 - val_accuracy: 0.8487\n",
      "Epoch 159/400\n",
      "225/225 [==============================] - 1s 2ms/step - loss: 0.2929 - accuracy: 0.8790 - val_loss: 0.3579 - val_accuracy: 0.8500\n",
      "Epoch 160/400\n",
      "225/225 [==============================] - 1s 3ms/step - loss: 0.2948 - accuracy: 0.8806 - val_loss: 0.3358 - val_accuracy: 0.8625\n",
      "Epoch 161/400\n",
      "225/225 [==============================] - 1s 3ms/step - loss: 0.2948 - accuracy: 0.8807 - val_loss: 0.3381 - val_accuracy: 0.8575\n",
      "Epoch 162/400\n",
      "225/225 [==============================] - 1s 3ms/step - loss: 0.2937 - accuracy: 0.8779 - val_loss: 0.3503 - val_accuracy: 0.8537\n",
      "Epoch 163/400\n",
      "225/225 [==============================] - 1s 3ms/step - loss: 0.2926 - accuracy: 0.8789 - val_loss: 0.3380 - val_accuracy: 0.8625\n",
      "Epoch 164/400\n",
      "225/225 [==============================] - 1s 3ms/step - loss: 0.2927 - accuracy: 0.8783 - val_loss: 0.3432 - val_accuracy: 0.8662\n",
      "Epoch 165/400\n",
      "225/225 [==============================] - 1s 3ms/step - loss: 0.2927 - accuracy: 0.8790 - val_loss: 0.3438 - val_accuracy: 0.8675\n",
      "Epoch 166/400\n",
      "225/225 [==============================] - 1s 3ms/step - loss: 0.2908 - accuracy: 0.8792 - val_loss: 0.3358 - val_accuracy: 0.8662\n",
      "Epoch 167/400\n",
      "225/225 [==============================] - 1s 3ms/step - loss: 0.2923 - accuracy: 0.8800 - val_loss: 0.3421 - val_accuracy: 0.8575\n",
      "Epoch 168/400\n",
      "225/225 [==============================] - 1s 3ms/step - loss: 0.2901 - accuracy: 0.8818 - val_loss: 0.3390 - val_accuracy: 0.8612\n",
      "Epoch 169/400\n",
      "225/225 [==============================] - 1s 3ms/step - loss: 0.2909 - accuracy: 0.8817 - val_loss: 0.3464 - val_accuracy: 0.8550\n",
      "Epoch 170/400\n",
      "225/225 [==============================] - 1s 3ms/step - loss: 0.2916 - accuracy: 0.8815 - val_loss: 0.3371 - val_accuracy: 0.8562\n",
      "Epoch 171/400\n"
     ]
    },
    {
     "name": "stdout",
     "output_type": "stream",
     "text": [
      "225/225 [==============================] - 1s 3ms/step - loss: 0.2906 - accuracy: 0.8808 - val_loss: 0.3389 - val_accuracy: 0.8625\n",
      "Epoch 172/400\n",
      "225/225 [==============================] - 1s 3ms/step - loss: 0.2913 - accuracy: 0.8797 - val_loss: 0.3479 - val_accuracy: 0.8500\n",
      "Epoch 173/400\n",
      "225/225 [==============================] - 1s 3ms/step - loss: 0.2895 - accuracy: 0.8808 - val_loss: 0.3430 - val_accuracy: 0.8625\n",
      "Epoch 174/400\n",
      "225/225 [==============================] - 1s 3ms/step - loss: 0.2890 - accuracy: 0.8835 - val_loss: 0.3397 - val_accuracy: 0.8625\n",
      "Epoch 175/400\n",
      "225/225 [==============================] - 1s 3ms/step - loss: 0.2884 - accuracy: 0.8828 - val_loss: 0.3403 - val_accuracy: 0.8537\n",
      "Epoch 176/400\n",
      "225/225 [==============================] - 1s 3ms/step - loss: 0.2897 - accuracy: 0.8814 - val_loss: 0.3449 - val_accuracy: 0.8550\n",
      "Epoch 177/400\n",
      "225/225 [==============================] - 1s 3ms/step - loss: 0.2875 - accuracy: 0.8821 - val_loss: 0.3495 - val_accuracy: 0.8575\n",
      "Epoch 178/400\n",
      "225/225 [==============================] - 1s 3ms/step - loss: 0.2898 - accuracy: 0.8818 - val_loss: 0.3450 - val_accuracy: 0.8625\n",
      "Epoch 179/400\n",
      "225/225 [==============================] - 1s 3ms/step - loss: 0.2898 - accuracy: 0.8808 - val_loss: 0.3390 - val_accuracy: 0.8637\n",
      "Epoch 180/400\n",
      "225/225 [==============================] - 1s 2ms/step - loss: 0.2856 - accuracy: 0.8833 - val_loss: 0.3395 - val_accuracy: 0.8625\n",
      "Epoch 181/400\n",
      "225/225 [==============================] - 1s 2ms/step - loss: 0.2878 - accuracy: 0.8844 - val_loss: 0.3672 - val_accuracy: 0.8562\n",
      "Epoch 182/400\n",
      "225/225 [==============================] - 1s 3ms/step - loss: 0.2907 - accuracy: 0.8818 - val_loss: 0.3388 - val_accuracy: 0.8650\n",
      "Epoch 183/400\n",
      "225/225 [==============================] - 1s 3ms/step - loss: 0.2873 - accuracy: 0.8814 - val_loss: 0.3426 - val_accuracy: 0.8662\n",
      "Epoch 184/400\n",
      "225/225 [==============================] - 1s 3ms/step - loss: 0.2872 - accuracy: 0.8806 - val_loss: 0.3497 - val_accuracy: 0.8550\n",
      "Epoch 185/400\n",
      "225/225 [==============================] - 1s 2ms/step - loss: 0.2875 - accuracy: 0.8800 - val_loss: 0.3472 - val_accuracy: 0.8562\n",
      "Epoch 186/400\n",
      "225/225 [==============================] - 1s 3ms/step - loss: 0.2847 - accuracy: 0.8828 - val_loss: 0.3416 - val_accuracy: 0.8587\n",
      "Epoch 187/400\n",
      "225/225 [==============================] - 1s 3ms/step - loss: 0.2863 - accuracy: 0.8819 - val_loss: 0.3392 - val_accuracy: 0.8587\n",
      "Epoch 188/400\n",
      "225/225 [==============================] - 1s 3ms/step - loss: 0.2850 - accuracy: 0.8844 - val_loss: 0.3553 - val_accuracy: 0.8487\n",
      "Epoch 189/400\n",
      "225/225 [==============================] - 1s 3ms/step - loss: 0.2874 - accuracy: 0.8819 - val_loss: 0.3601 - val_accuracy: 0.8587\n",
      "Epoch 190/400\n",
      "225/225 [==============================] - 1s 3ms/step - loss: 0.2873 - accuracy: 0.8826 - val_loss: 0.3419 - val_accuracy: 0.8637\n",
      "Epoch 191/400\n",
      "225/225 [==============================] - 1s 3ms/step - loss: 0.2852 - accuracy: 0.8856 - val_loss: 0.3620 - val_accuracy: 0.8487\n",
      "Epoch 192/400\n",
      "225/225 [==============================] - 1s 3ms/step - loss: 0.2838 - accuracy: 0.8842 - val_loss: 0.3489 - val_accuracy: 0.8650\n",
      "Epoch 193/400\n",
      "225/225 [==============================] - 1s 3ms/step - loss: 0.2844 - accuracy: 0.8835 - val_loss: 0.3474 - val_accuracy: 0.8675\n",
      "Epoch 194/400\n",
      "225/225 [==============================] - 1s 3ms/step - loss: 0.2867 - accuracy: 0.8836 - val_loss: 0.3438 - val_accuracy: 0.8625\n",
      "Epoch 195/400\n",
      "225/225 [==============================] - 1s 2ms/step - loss: 0.2829 - accuracy: 0.8839 - val_loss: 0.3422 - val_accuracy: 0.8637\n",
      "Epoch 196/400\n",
      "225/225 [==============================] - 1s 3ms/step - loss: 0.2833 - accuracy: 0.8854 - val_loss: 0.3543 - val_accuracy: 0.8537\n",
      "Epoch 197/400\n",
      "225/225 [==============================] - 1s 3ms/step - loss: 0.2824 - accuracy: 0.8846 - val_loss: 0.3469 - val_accuracy: 0.8537\n",
      "Epoch 198/400\n",
      "225/225 [==============================] - 1s 3ms/step - loss: 0.2827 - accuracy: 0.8842 - val_loss: 0.3490 - val_accuracy: 0.8562\n",
      "Epoch 199/400\n",
      "225/225 [==============================] - 1s 3ms/step - loss: 0.2839 - accuracy: 0.8846 - val_loss: 0.3388 - val_accuracy: 0.8612\n",
      "Epoch 200/400\n",
      "225/225 [==============================] - 1s 3ms/step - loss: 0.2834 - accuracy: 0.8854 - val_loss: 0.3426 - val_accuracy: 0.8625\n",
      "Epoch 201/400\n",
      "225/225 [==============================] - 1s 3ms/step - loss: 0.2835 - accuracy: 0.8847 - val_loss: 0.3412 - val_accuracy: 0.8587\n",
      "Epoch 202/400\n",
      "225/225 [==============================] - 1s 3ms/step - loss: 0.2836 - accuracy: 0.8856 - val_loss: 0.3484 - val_accuracy: 0.8600\n",
      "Epoch 203/400\n",
      "225/225 [==============================] - 1s 3ms/step - loss: 0.2812 - accuracy: 0.8869 - val_loss: 0.3569 - val_accuracy: 0.8562\n",
      "Epoch 204/400\n",
      "225/225 [==============================] - 1s 3ms/step - loss: 0.2813 - accuracy: 0.8881 - val_loss: 0.3508 - val_accuracy: 0.8537\n",
      "Epoch 205/400\n",
      "225/225 [==============================] - 1s 3ms/step - loss: 0.2814 - accuracy: 0.8851 - val_loss: 0.3519 - val_accuracy: 0.8525\n",
      "Epoch 206/400\n",
      "225/225 [==============================] - 1s 5ms/step - loss: 0.2815 - accuracy: 0.8864 - val_loss: 0.3677 - val_accuracy: 0.8512\n",
      "Epoch 207/400\n",
      "225/225 [==============================] - 1s 3ms/step - loss: 0.2811 - accuracy: 0.8875 - val_loss: 0.3424 - val_accuracy: 0.8637\n",
      "Epoch 208/400\n",
      "225/225 [==============================] - 1s 3ms/step - loss: 0.2809 - accuracy: 0.8865 - val_loss: 0.3483 - val_accuracy: 0.8575\n",
      "Epoch 209/400\n",
      "225/225 [==============================] - 1s 3ms/step - loss: 0.2803 - accuracy: 0.8854 - val_loss: 0.3614 - val_accuracy: 0.8450\n",
      "Epoch 210/400\n",
      "225/225 [==============================] - 1s 3ms/step - loss: 0.2812 - accuracy: 0.8854 - val_loss: 0.3434 - val_accuracy: 0.8575\n",
      "Epoch 211/400\n",
      "225/225 [==============================] - 1s 3ms/step - loss: 0.2795 - accuracy: 0.8843 - val_loss: 0.3492 - val_accuracy: 0.8662\n",
      "Epoch 212/400\n",
      "225/225 [==============================] - 1s 3ms/step - loss: 0.2795 - accuracy: 0.8864 - val_loss: 0.3509 - val_accuracy: 0.8625\n",
      "Epoch 213/400\n",
      "225/225 [==============================] - 1s 3ms/step - loss: 0.2809 - accuracy: 0.8839 - val_loss: 0.3487 - val_accuracy: 0.8612\n",
      "Epoch 214/400\n",
      "225/225 [==============================] - 1s 3ms/step - loss: 0.2816 - accuracy: 0.8867 - val_loss: 0.3443 - val_accuracy: 0.8612\n",
      "Epoch 215/400\n",
      "225/225 [==============================] - 1s 3ms/step - loss: 0.2790 - accuracy: 0.8885 - val_loss: 0.3402 - val_accuracy: 0.8662\n",
      "Epoch 216/400\n",
      "225/225 [==============================] - 1s 3ms/step - loss: 0.2788 - accuracy: 0.8890 - val_loss: 0.3441 - val_accuracy: 0.8600\n",
      "Epoch 217/400\n",
      "225/225 [==============================] - 1s 3ms/step - loss: 0.2776 - accuracy: 0.8865 - val_loss: 0.3518 - val_accuracy: 0.8525\n",
      "Epoch 218/400\n",
      "225/225 [==============================] - 1s 3ms/step - loss: 0.2797 - accuracy: 0.8861 - val_loss: 0.3585 - val_accuracy: 0.8487\n",
      "Epoch 219/400\n",
      "225/225 [==============================] - 1s 3ms/step - loss: 0.2787 - accuracy: 0.8871 - val_loss: 0.3476 - val_accuracy: 0.8575\n",
      "Epoch 220/400\n",
      "225/225 [==============================] - 1s 3ms/step - loss: 0.2783 - accuracy: 0.8888 - val_loss: 0.3422 - val_accuracy: 0.8687\n",
      "Epoch 221/400\n",
      "225/225 [==============================] - 1s 3ms/step - loss: 0.2769 - accuracy: 0.8904 - val_loss: 0.3636 - val_accuracy: 0.8562\n",
      "Epoch 222/400\n",
      "225/225 [==============================] - 1s 3ms/step - loss: 0.2773 - accuracy: 0.8872 - val_loss: 0.3488 - val_accuracy: 0.8562\n",
      "Epoch 223/400\n",
      "225/225 [==============================] - 1s 4ms/step - loss: 0.2764 - accuracy: 0.8917 - val_loss: 0.3512 - val_accuracy: 0.8662\n",
      "Epoch 224/400\n",
      "225/225 [==============================] - 1s 3ms/step - loss: 0.2767 - accuracy: 0.8865 - val_loss: 0.3566 - val_accuracy: 0.8562\n",
      "Epoch 225/400\n",
      "225/225 [==============================] - 1s 3ms/step - loss: 0.2797 - accuracy: 0.8864 - val_loss: 0.3524 - val_accuracy: 0.8562\n",
      "Epoch 226/400\n",
      "225/225 [==============================] - 1s 3ms/step - loss: 0.2771 - accuracy: 0.8889 - val_loss: 0.3530 - val_accuracy: 0.8500\n",
      "Epoch 227/400\n"
     ]
    },
    {
     "name": "stdout",
     "output_type": "stream",
     "text": [
      "225/225 [==============================] - 1s 3ms/step - loss: 0.2771 - accuracy: 0.8890 - val_loss: 0.3470 - val_accuracy: 0.8600\n",
      "Epoch 228/400\n",
      "225/225 [==============================] - 1s 3ms/step - loss: 0.2774 - accuracy: 0.8878 - val_loss: 0.3555 - val_accuracy: 0.8562\n",
      "Epoch 229/400\n",
      "225/225 [==============================] - 1s 3ms/step - loss: 0.2750 - accuracy: 0.8894 - val_loss: 0.3484 - val_accuracy: 0.8637\n",
      "Epoch 230/400\n",
      "225/225 [==============================] - 1s 3ms/step - loss: 0.2761 - accuracy: 0.8879 - val_loss: 0.3532 - val_accuracy: 0.8675\n",
      "Epoch 231/400\n",
      "225/225 [==============================] - 1s 3ms/step - loss: 0.2757 - accuracy: 0.8881 - val_loss: 0.3533 - val_accuracy: 0.8612\n",
      "Epoch 232/400\n",
      "225/225 [==============================] - 1s 3ms/step - loss: 0.2783 - accuracy: 0.8885 - val_loss: 0.3501 - val_accuracy: 0.8600\n",
      "Epoch 233/400\n",
      "225/225 [==============================] - 1s 3ms/step - loss: 0.2756 - accuracy: 0.8881 - val_loss: 0.3737 - val_accuracy: 0.8462\n",
      "Epoch 234/400\n",
      "225/225 [==============================] - 1s 3ms/step - loss: 0.2757 - accuracy: 0.8899 - val_loss: 0.3717 - val_accuracy: 0.8462\n",
      "Epoch 235/400\n",
      "225/225 [==============================] - 1s 3ms/step - loss: 0.2731 - accuracy: 0.8896 - val_loss: 0.3542 - val_accuracy: 0.8612\n",
      "Epoch 236/400\n",
      "225/225 [==============================] - 1s 3ms/step - loss: 0.2751 - accuracy: 0.8878 - val_loss: 0.3458 - val_accuracy: 0.8625\n",
      "Epoch 237/400\n",
      "225/225 [==============================] - 1s 3ms/step - loss: 0.2750 - accuracy: 0.8889 - val_loss: 0.3553 - val_accuracy: 0.8587\n",
      "Epoch 238/400\n",
      "225/225 [==============================] - 1s 3ms/step - loss: 0.2739 - accuracy: 0.8893 - val_loss: 0.3956 - val_accuracy: 0.8338\n",
      "Epoch 239/400\n",
      "225/225 [==============================] - 1s 3ms/step - loss: 0.2767 - accuracy: 0.8878 - val_loss: 0.3517 - val_accuracy: 0.8575\n",
      "Epoch 240/400\n",
      "225/225 [==============================] - 1s 3ms/step - loss: 0.2751 - accuracy: 0.8892 - val_loss: 0.3461 - val_accuracy: 0.8587\n",
      "Epoch 241/400\n",
      "225/225 [==============================] - 1s 3ms/step - loss: 0.2740 - accuracy: 0.8903 - val_loss: 0.3463 - val_accuracy: 0.8575\n",
      "Epoch 242/400\n",
      "225/225 [==============================] - 1s 3ms/step - loss: 0.2735 - accuracy: 0.8893 - val_loss: 0.3494 - val_accuracy: 0.8525\n",
      "Epoch 243/400\n",
      "225/225 [==============================] - 1s 2ms/step - loss: 0.2718 - accuracy: 0.8894 - val_loss: 0.3642 - val_accuracy: 0.8512\n",
      "Epoch 244/400\n",
      "225/225 [==============================] - 1s 3ms/step - loss: 0.2725 - accuracy: 0.8907 - val_loss: 0.3470 - val_accuracy: 0.8700\n",
      "Epoch 245/400\n",
      "225/225 [==============================] - 1s 3ms/step - loss: 0.2724 - accuracy: 0.8906 - val_loss: 0.3624 - val_accuracy: 0.8462\n",
      "Epoch 246/400\n",
      "225/225 [==============================] - 1s 2ms/step - loss: 0.2724 - accuracy: 0.8921 - val_loss: 0.3629 - val_accuracy: 0.8475\n",
      "Epoch 247/400\n",
      "225/225 [==============================] - 1s 2ms/step - loss: 0.2731 - accuracy: 0.8914 - val_loss: 0.3578 - val_accuracy: 0.8637\n",
      "Epoch 248/400\n",
      "225/225 [==============================] - 1s 2ms/step - loss: 0.2715 - accuracy: 0.8947 - val_loss: 0.3638 - val_accuracy: 0.8562\n",
      "Epoch 249/400\n",
      "225/225 [==============================] - 1s 3ms/step - loss: 0.2722 - accuracy: 0.8919 - val_loss: 0.3608 - val_accuracy: 0.8550\n",
      "Epoch 250/400\n",
      "225/225 [==============================] - 1s 2ms/step - loss: 0.2703 - accuracy: 0.8903 - val_loss: 0.3544 - val_accuracy: 0.8500\n",
      "Epoch 251/400\n",
      "225/225 [==============================] - 1s 3ms/step - loss: 0.2701 - accuracy: 0.8938 - val_loss: 0.3570 - val_accuracy: 0.8550\n",
      "Epoch 252/400\n",
      "225/225 [==============================] - 1s 3ms/step - loss: 0.2698 - accuracy: 0.8908 - val_loss: 0.3524 - val_accuracy: 0.8637\n",
      "Epoch 253/400\n",
      "225/225 [==============================] - 1s 3ms/step - loss: 0.2705 - accuracy: 0.8918 - val_loss: 0.3555 - val_accuracy: 0.8700\n",
      "Epoch 254/400\n",
      "225/225 [==============================] - 1s 3ms/step - loss: 0.2715 - accuracy: 0.8890 - val_loss: 0.3548 - val_accuracy: 0.8675\n",
      "Epoch 255/400\n",
      "225/225 [==============================] - 1s 2ms/step - loss: 0.2710 - accuracy: 0.8917 - val_loss: 0.3511 - val_accuracy: 0.8550\n",
      "Epoch 256/400\n",
      "225/225 [==============================] - 1s 2ms/step - loss: 0.2698 - accuracy: 0.8913 - val_loss: 0.3598 - val_accuracy: 0.8625\n",
      "Epoch 257/400\n",
      "225/225 [==============================] - 1s 2ms/step - loss: 0.2723 - accuracy: 0.8874 - val_loss: 0.3951 - val_accuracy: 0.8375\n",
      "Epoch 258/400\n",
      "225/225 [==============================] - 1s 2ms/step - loss: 0.2696 - accuracy: 0.8889 - val_loss: 0.3438 - val_accuracy: 0.8687\n",
      "Epoch 259/400\n",
      "225/225 [==============================] - 1s 3ms/step - loss: 0.2716 - accuracy: 0.8906 - val_loss: 0.3631 - val_accuracy: 0.8512\n",
      "Epoch 260/400\n",
      "225/225 [==============================] - 1s 2ms/step - loss: 0.2691 - accuracy: 0.8921 - val_loss: 0.3470 - val_accuracy: 0.8650\n",
      "Epoch 261/400\n",
      "225/225 [==============================] - 1s 2ms/step - loss: 0.2676 - accuracy: 0.8933 - val_loss: 0.3595 - val_accuracy: 0.8650\n",
      "Epoch 262/400\n",
      "225/225 [==============================] - 1s 3ms/step - loss: 0.2699 - accuracy: 0.8906 - val_loss: 0.3803 - val_accuracy: 0.8438\n",
      "Epoch 263/400\n",
      "225/225 [==============================] - 1s 3ms/step - loss: 0.2693 - accuracy: 0.8914 - val_loss: 0.3512 - val_accuracy: 0.8675\n",
      "Epoch 264/400\n",
      "225/225 [==============================] - 1s 3ms/step - loss: 0.2674 - accuracy: 0.8931 - val_loss: 0.3713 - val_accuracy: 0.8525\n",
      "Epoch 265/400\n",
      "225/225 [==============================] - 1s 2ms/step - loss: 0.2694 - accuracy: 0.8904 - val_loss: 0.3670 - val_accuracy: 0.8438\n",
      "Epoch 266/400\n",
      "225/225 [==============================] - 1s 3ms/step - loss: 0.2680 - accuracy: 0.8925 - val_loss: 0.3621 - val_accuracy: 0.8525\n",
      "Epoch 267/400\n",
      "225/225 [==============================] - 1s 2ms/step - loss: 0.2693 - accuracy: 0.8922 - val_loss: 0.3530 - val_accuracy: 0.8537\n",
      "Epoch 268/400\n",
      "225/225 [==============================] - 1s 2ms/step - loss: 0.2662 - accuracy: 0.8949 - val_loss: 0.3798 - val_accuracy: 0.8425\n",
      "Epoch 269/400\n",
      "225/225 [==============================] - 1s 2ms/step - loss: 0.2672 - accuracy: 0.8921 - val_loss: 0.3564 - val_accuracy: 0.8487\n",
      "Epoch 270/400\n",
      "225/225 [==============================] - 1s 2ms/step - loss: 0.2679 - accuracy: 0.8926 - val_loss: 0.3638 - val_accuracy: 0.8525\n",
      "Epoch 271/400\n",
      "225/225 [==============================] - 1s 3ms/step - loss: 0.2673 - accuracy: 0.8929 - val_loss: 0.3520 - val_accuracy: 0.8650\n",
      "Epoch 272/400\n",
      "225/225 [==============================] - 1s 2ms/step - loss: 0.2664 - accuracy: 0.8926 - val_loss: 0.3620 - val_accuracy: 0.8550\n",
      "Epoch 273/400\n",
      "225/225 [==============================] - 1s 3ms/step - loss: 0.2683 - accuracy: 0.8925 - val_loss: 0.3594 - val_accuracy: 0.8587\n",
      "Epoch 274/400\n",
      "225/225 [==============================] - 1s 3ms/step - loss: 0.2665 - accuracy: 0.8926 - val_loss: 0.3828 - val_accuracy: 0.8400\n",
      "Epoch 275/400\n",
      "225/225 [==============================] - 1s 2ms/step - loss: 0.2681 - accuracy: 0.8942 - val_loss: 0.3525 - val_accuracy: 0.8587\n",
      "Epoch 276/400\n",
      "225/225 [==============================] - 1s 3ms/step - loss: 0.2695 - accuracy: 0.8919 - val_loss: 0.3693 - val_accuracy: 0.8438\n",
      "Epoch 277/400\n",
      "225/225 [==============================] - 1s 3ms/step - loss: 0.2657 - accuracy: 0.8906 - val_loss: 0.3535 - val_accuracy: 0.8587\n",
      "Epoch 278/400\n",
      "225/225 [==============================] - 1s 3ms/step - loss: 0.2647 - accuracy: 0.8949 - val_loss: 0.3613 - val_accuracy: 0.8562\n",
      "Epoch 279/400\n",
      "225/225 [==============================] - 1s 3ms/step - loss: 0.2632 - accuracy: 0.8939 - val_loss: 0.3777 - val_accuracy: 0.8438\n",
      "Epoch 280/400\n",
      "225/225 [==============================] - 1s 3ms/step - loss: 0.2649 - accuracy: 0.8936 - val_loss: 0.3524 - val_accuracy: 0.8525\n",
      "Epoch 281/400\n",
      "225/225 [==============================] - 1s 3ms/step - loss: 0.2640 - accuracy: 0.8963 - val_loss: 0.3607 - val_accuracy: 0.8637\n",
      "Epoch 282/400\n",
      "225/225 [==============================] - 1s 2ms/step - loss: 0.2658 - accuracy: 0.8944 - val_loss: 0.3627 - val_accuracy: 0.8487\n",
      "Epoch 283/400\n"
     ]
    },
    {
     "name": "stdout",
     "output_type": "stream",
     "text": [
      "225/225 [==============================] - 1s 3ms/step - loss: 0.2620 - accuracy: 0.8956 - val_loss: 0.3600 - val_accuracy: 0.8575\n",
      "Epoch 284/400\n",
      "225/225 [==============================] - 1s 2ms/step - loss: 0.2612 - accuracy: 0.8982 - val_loss: 0.3681 - val_accuracy: 0.8425\n",
      "Epoch 285/400\n",
      "225/225 [==============================] - 1s 3ms/step - loss: 0.2646 - accuracy: 0.8978 - val_loss: 0.3541 - val_accuracy: 0.8600\n",
      "Epoch 286/400\n",
      "225/225 [==============================] - 1s 2ms/step - loss: 0.2621 - accuracy: 0.8957 - val_loss: 0.3914 - val_accuracy: 0.8450\n",
      "Epoch 287/400\n",
      "225/225 [==============================] - 1s 2ms/step - loss: 0.2647 - accuracy: 0.8964 - val_loss: 0.3592 - val_accuracy: 0.8612\n",
      "Epoch 288/400\n",
      "225/225 [==============================] - 1s 2ms/step - loss: 0.2615 - accuracy: 0.8982 - val_loss: 0.3608 - val_accuracy: 0.8625\n",
      "Epoch 289/400\n",
      "225/225 [==============================] - 1s 2ms/step - loss: 0.2623 - accuracy: 0.8935 - val_loss: 0.3660 - val_accuracy: 0.8562\n",
      "Epoch 290/400\n",
      "225/225 [==============================] - 1s 2ms/step - loss: 0.2624 - accuracy: 0.8951 - val_loss: 0.3733 - val_accuracy: 0.8525\n",
      "Epoch 291/400\n",
      "225/225 [==============================] - 1s 2ms/step - loss: 0.2619 - accuracy: 0.8960 - val_loss: 0.3581 - val_accuracy: 0.8600\n",
      "Epoch 292/400\n",
      "225/225 [==============================] - 1s 2ms/step - loss: 0.2622 - accuracy: 0.8951 - val_loss: 0.3617 - val_accuracy: 0.8600\n",
      "Epoch 293/400\n",
      "225/225 [==============================] - 1s 2ms/step - loss: 0.2604 - accuracy: 0.8964 - val_loss: 0.3493 - val_accuracy: 0.8562\n",
      "Epoch 294/400\n",
      "225/225 [==============================] - 1s 3ms/step - loss: 0.2616 - accuracy: 0.8961 - val_loss: 0.3627 - val_accuracy: 0.8600\n",
      "Epoch 295/400\n",
      "225/225 [==============================] - 1s 3ms/step - loss: 0.2643 - accuracy: 0.8946 - val_loss: 0.3647 - val_accuracy: 0.8487\n",
      "Epoch 296/400\n",
      "225/225 [==============================] - 1s 2ms/step - loss: 0.2587 - accuracy: 0.8961 - val_loss: 0.3638 - val_accuracy: 0.8562\n",
      "Epoch 297/400\n",
      "225/225 [==============================] - 1s 2ms/step - loss: 0.2593 - accuracy: 0.8975 - val_loss: 0.3566 - val_accuracy: 0.8662\n",
      "Epoch 298/400\n",
      "225/225 [==============================] - 1s 2ms/step - loss: 0.2601 - accuracy: 0.8963 - val_loss: 0.3603 - val_accuracy: 0.8562\n",
      "Epoch 299/400\n",
      "225/225 [==============================] - 1s 2ms/step - loss: 0.2570 - accuracy: 0.8979 - val_loss: 0.3626 - val_accuracy: 0.8612\n",
      "Epoch 300/400\n",
      "225/225 [==============================] - 1s 2ms/step - loss: 0.2585 - accuracy: 0.8965 - val_loss: 0.3622 - val_accuracy: 0.8512\n",
      "Epoch 301/400\n",
      "225/225 [==============================] - 1s 2ms/step - loss: 0.2575 - accuracy: 0.8960 - val_loss: 0.3904 - val_accuracy: 0.8388\n",
      "Epoch 302/400\n",
      "225/225 [==============================] - 1s 2ms/step - loss: 0.2581 - accuracy: 0.8951 - val_loss: 0.3611 - val_accuracy: 0.8587\n",
      "Epoch 303/400\n",
      "225/225 [==============================] - 1s 2ms/step - loss: 0.2575 - accuracy: 0.8953 - val_loss: 0.3754 - val_accuracy: 0.8450\n",
      "Epoch 304/400\n",
      "225/225 [==============================] - 1s 2ms/step - loss: 0.2582 - accuracy: 0.8979 - val_loss: 0.3997 - val_accuracy: 0.8388\n",
      "Epoch 305/400\n",
      "225/225 [==============================] - 1s 2ms/step - loss: 0.2592 - accuracy: 0.8958 - val_loss: 0.3582 - val_accuracy: 0.8625\n",
      "Epoch 306/400\n",
      "225/225 [==============================] - 1s 3ms/step - loss: 0.2577 - accuracy: 0.8968 - val_loss: 0.3649 - val_accuracy: 0.8537\n",
      "Epoch 307/400\n",
      "225/225 [==============================] - 1s 2ms/step - loss: 0.2576 - accuracy: 0.8951 - val_loss: 0.3677 - val_accuracy: 0.8637\n",
      "Epoch 308/400\n",
      "225/225 [==============================] - 1s 2ms/step - loss: 0.2592 - accuracy: 0.8932 - val_loss: 0.3924 - val_accuracy: 0.8413\n",
      "Epoch 309/400\n",
      "225/225 [==============================] - 1s 2ms/step - loss: 0.2556 - accuracy: 0.8999 - val_loss: 0.3677 - val_accuracy: 0.8525\n",
      "Epoch 310/400\n",
      "225/225 [==============================] - 1s 3ms/step - loss: 0.2564 - accuracy: 0.8968 - val_loss: 0.3676 - val_accuracy: 0.8562\n",
      "Epoch 311/400\n",
      "225/225 [==============================] - 1s 2ms/step - loss: 0.2548 - accuracy: 0.8964 - val_loss: 0.3706 - val_accuracy: 0.8587\n",
      "Epoch 312/400\n",
      "225/225 [==============================] - 1s 2ms/step - loss: 0.2571 - accuracy: 0.8961 - val_loss: 0.3699 - val_accuracy: 0.8500\n",
      "Epoch 313/400\n",
      "225/225 [==============================] - 1s 2ms/step - loss: 0.2535 - accuracy: 0.8989 - val_loss: 0.3954 - val_accuracy: 0.8438\n",
      "Epoch 314/400\n",
      "225/225 [==============================] - 1s 3ms/step - loss: 0.2541 - accuracy: 0.8997 - val_loss: 0.3722 - val_accuracy: 0.8512\n",
      "Epoch 315/400\n",
      "225/225 [==============================] - 1s 2ms/step - loss: 0.2547 - accuracy: 0.8971 - val_loss: 0.3716 - val_accuracy: 0.8525\n",
      "Epoch 316/400\n",
      "225/225 [==============================] - 1s 2ms/step - loss: 0.2569 - accuracy: 0.8969 - val_loss: 0.3828 - val_accuracy: 0.8413\n",
      "Epoch 317/400\n",
      "225/225 [==============================] - 1s 2ms/step - loss: 0.2578 - accuracy: 0.8956 - val_loss: 0.3745 - val_accuracy: 0.8537\n",
      "Epoch 318/400\n",
      "225/225 [==============================] - 1s 2ms/step - loss: 0.2507 - accuracy: 0.8979 - val_loss: 0.3804 - val_accuracy: 0.8562\n",
      "Epoch 319/400\n",
      "225/225 [==============================] - 1s 2ms/step - loss: 0.2550 - accuracy: 0.8981 - val_loss: 0.3668 - val_accuracy: 0.8525\n",
      "Epoch 320/400\n",
      "225/225 [==============================] - 1s 2ms/step - loss: 0.2552 - accuracy: 0.8990 - val_loss: 0.3831 - val_accuracy: 0.8450\n",
      "Epoch 321/400\n",
      "225/225 [==============================] - 1s 2ms/step - loss: 0.2530 - accuracy: 0.8979 - val_loss: 0.3825 - val_accuracy: 0.8462\n",
      "Epoch 322/400\n",
      "225/225 [==============================] - 1s 2ms/step - loss: 0.2540 - accuracy: 0.8975 - val_loss: 0.3856 - val_accuracy: 0.8400\n",
      "Epoch 323/400\n",
      "225/225 [==============================] - 1s 2ms/step - loss: 0.2538 - accuracy: 0.8992 - val_loss: 0.3933 - val_accuracy: 0.8400\n",
      "Epoch 324/400\n",
      "225/225 [==============================] - 1s 2ms/step - loss: 0.2584 - accuracy: 0.8943 - val_loss: 0.3726 - val_accuracy: 0.8562\n",
      "Epoch 325/400\n",
      "225/225 [==============================] - 1s 2ms/step - loss: 0.2528 - accuracy: 0.8988 - val_loss: 0.3754 - val_accuracy: 0.8537\n",
      "Epoch 326/400\n",
      "225/225 [==============================] - 1s 2ms/step - loss: 0.2491 - accuracy: 0.9018 - val_loss: 0.3927 - val_accuracy: 0.8438\n",
      "Epoch 327/400\n",
      "225/225 [==============================] - 1s 3ms/step - loss: 0.2516 - accuracy: 0.8986 - val_loss: 0.3759 - val_accuracy: 0.8637\n",
      "Epoch 328/400\n",
      "225/225 [==============================] - 1s 2ms/step - loss: 0.2532 - accuracy: 0.8983 - val_loss: 0.3923 - val_accuracy: 0.8425\n",
      "Epoch 329/400\n",
      "225/225 [==============================] - 1s 2ms/step - loss: 0.2503 - accuracy: 0.8989 - val_loss: 0.3868 - val_accuracy: 0.8500\n",
      "Epoch 330/400\n",
      "225/225 [==============================] - 1s 2ms/step - loss: 0.2493 - accuracy: 0.9018 - val_loss: 0.3878 - val_accuracy: 0.8462\n",
      "Epoch 331/400\n",
      "225/225 [==============================] - 1s 2ms/step - loss: 0.2523 - accuracy: 0.9003 - val_loss: 0.3871 - val_accuracy: 0.8425\n",
      "Epoch 332/400\n",
      "225/225 [==============================] - 1s 2ms/step - loss: 0.2504 - accuracy: 0.8990 - val_loss: 0.3830 - val_accuracy: 0.8438\n",
      "Epoch 333/400\n",
      "225/225 [==============================] - 1s 2ms/step - loss: 0.2514 - accuracy: 0.8982 - val_loss: 0.3839 - val_accuracy: 0.8425\n",
      "Epoch 334/400\n",
      "225/225 [==============================] - 1s 2ms/step - loss: 0.2502 - accuracy: 0.9024 - val_loss: 0.3811 - val_accuracy: 0.8487\n",
      "Epoch 335/400\n",
      "225/225 [==============================] - 1s 2ms/step - loss: 0.2504 - accuracy: 0.8978 - val_loss: 0.3927 - val_accuracy: 0.8550\n",
      "Epoch 336/400\n",
      "225/225 [==============================] - 1s 3ms/step - loss: 0.2500 - accuracy: 0.9014 - val_loss: 0.3900 - val_accuracy: 0.8375\n",
      "Epoch 337/400\n",
      "225/225 [==============================] - 1s 2ms/step - loss: 0.2499 - accuracy: 0.8986 - val_loss: 0.3680 - val_accuracy: 0.8575\n",
      "Epoch 338/400\n",
      "225/225 [==============================] - 1s 3ms/step - loss: 0.2479 - accuracy: 0.9008 - val_loss: 0.3954 - val_accuracy: 0.8487\n",
      "Epoch 339/400\n"
     ]
    },
    {
     "name": "stdout",
     "output_type": "stream",
     "text": [
      "225/225 [==============================] - 1s 2ms/step - loss: 0.2507 - accuracy: 0.9014 - val_loss: 0.4094 - val_accuracy: 0.8350\n",
      "Epoch 340/400\n",
      "225/225 [==============================] - 1s 2ms/step - loss: 0.2519 - accuracy: 0.8996 - val_loss: 0.3772 - val_accuracy: 0.8537\n",
      "Epoch 341/400\n",
      "225/225 [==============================] - 1s 2ms/step - loss: 0.2480 - accuracy: 0.9007 - val_loss: 0.3855 - val_accuracy: 0.8487\n",
      "Epoch 342/400\n",
      "225/225 [==============================] - 1s 2ms/step - loss: 0.2523 - accuracy: 0.8983 - val_loss: 0.3785 - val_accuracy: 0.8462\n",
      "Epoch 343/400\n",
      "225/225 [==============================] - 1s 2ms/step - loss: 0.2498 - accuracy: 0.9007 - val_loss: 0.3850 - val_accuracy: 0.8475\n",
      "Epoch 344/400\n",
      "225/225 [==============================] - 1s 2ms/step - loss: 0.2491 - accuracy: 0.9010 - val_loss: 0.3863 - val_accuracy: 0.8450\n",
      "Epoch 345/400\n",
      "225/225 [==============================] - 1s 2ms/step - loss: 0.2480 - accuracy: 0.9025 - val_loss: 0.3946 - val_accuracy: 0.8438\n",
      "Epoch 346/400\n",
      "225/225 [==============================] - 1s 2ms/step - loss: 0.2476 - accuracy: 0.9001 - val_loss: 0.3809 - val_accuracy: 0.8500\n",
      "Epoch 347/400\n",
      "225/225 [==============================] - 1s 2ms/step - loss: 0.2466 - accuracy: 0.9014 - val_loss: 0.3822 - val_accuracy: 0.8500\n",
      "Epoch 348/400\n",
      "225/225 [==============================] - 1s 2ms/step - loss: 0.2458 - accuracy: 0.9026 - val_loss: 0.4119 - val_accuracy: 0.8350\n",
      "Epoch 349/400\n",
      "225/225 [==============================] - 1s 2ms/step - loss: 0.2464 - accuracy: 0.8992 - val_loss: 0.4019 - val_accuracy: 0.8388\n",
      "Epoch 350/400\n",
      "225/225 [==============================] - 1s 2ms/step - loss: 0.2452 - accuracy: 0.9026 - val_loss: 0.3765 - val_accuracy: 0.8512\n",
      "Epoch 351/400\n",
      "225/225 [==============================] - 1s 2ms/step - loss: 0.2460 - accuracy: 0.9021 - val_loss: 0.3930 - val_accuracy: 0.8413\n",
      "Epoch 352/400\n",
      "225/225 [==============================] - 1s 2ms/step - loss: 0.2483 - accuracy: 0.8996 - val_loss: 0.3826 - val_accuracy: 0.8550\n",
      "Epoch 353/400\n",
      "225/225 [==============================] - 1s 2ms/step - loss: 0.2487 - accuracy: 0.8996 - val_loss: 0.3692 - val_accuracy: 0.8500\n",
      "Epoch 354/400\n",
      "225/225 [==============================] - 1s 2ms/step - loss: 0.2464 - accuracy: 0.9024 - val_loss: 0.3830 - val_accuracy: 0.8525\n",
      "Epoch 355/400\n",
      "225/225 [==============================] - 1s 3ms/step - loss: 0.2456 - accuracy: 0.8996 - val_loss: 0.3957 - val_accuracy: 0.8450\n",
      "Epoch 356/400\n",
      "225/225 [==============================] - 1s 3ms/step - loss: 0.2438 - accuracy: 0.9031 - val_loss: 0.3924 - val_accuracy: 0.8525\n",
      "Epoch 357/400\n",
      "225/225 [==============================] - 1s 2ms/step - loss: 0.2503 - accuracy: 0.8981 - val_loss: 0.3801 - val_accuracy: 0.8537\n",
      "Epoch 358/400\n",
      "225/225 [==============================] - 1s 2ms/step - loss: 0.2442 - accuracy: 0.9019 - val_loss: 0.3933 - val_accuracy: 0.8512\n",
      "Epoch 359/400\n",
      "225/225 [==============================] - 1s 3ms/step - loss: 0.2420 - accuracy: 0.9050 - val_loss: 0.3838 - val_accuracy: 0.8525\n",
      "Epoch 360/400\n",
      "225/225 [==============================] - 1s 2ms/step - loss: 0.2456 - accuracy: 0.9015 - val_loss: 0.3877 - val_accuracy: 0.8500\n",
      "Epoch 361/400\n",
      "225/225 [==============================] - 1s 3ms/step - loss: 0.2429 - accuracy: 0.9021 - val_loss: 0.4037 - val_accuracy: 0.8525\n",
      "Epoch 362/400\n",
      "225/225 [==============================] - 1s 2ms/step - loss: 0.2424 - accuracy: 0.9019 - val_loss: 0.4096 - val_accuracy: 0.8338\n",
      "Epoch 363/400\n",
      "225/225 [==============================] - 1s 3ms/step - loss: 0.2459 - accuracy: 0.8993 - val_loss: 0.4071 - val_accuracy: 0.8438\n",
      "Epoch 364/400\n",
      "225/225 [==============================] - 1s 2ms/step - loss: 0.2454 - accuracy: 0.9015 - val_loss: 0.4039 - val_accuracy: 0.8625\n",
      "Epoch 365/400\n",
      "225/225 [==============================] - 1s 2ms/step - loss: 0.2469 - accuracy: 0.9031 - val_loss: 0.4002 - val_accuracy: 0.8425\n",
      "Epoch 366/400\n",
      "225/225 [==============================] - 1s 2ms/step - loss: 0.2453 - accuracy: 0.9011 - val_loss: 0.3831 - val_accuracy: 0.8512\n",
      "Epoch 367/400\n",
      "225/225 [==============================] - 1s 2ms/step - loss: 0.2415 - accuracy: 0.9033 - val_loss: 0.3960 - val_accuracy: 0.8550\n",
      "Epoch 368/400\n",
      "225/225 [==============================] - 1s 2ms/step - loss: 0.2431 - accuracy: 0.9018 - val_loss: 0.4035 - val_accuracy: 0.8462\n",
      "Epoch 369/400\n",
      "225/225 [==============================] - 1s 2ms/step - loss: 0.2402 - accuracy: 0.9040 - val_loss: 0.4037 - val_accuracy: 0.8313\n",
      "Epoch 370/400\n",
      "225/225 [==============================] - 1s 2ms/step - loss: 0.2414 - accuracy: 0.9060 - val_loss: 0.3951 - val_accuracy: 0.8562\n",
      "Epoch 371/400\n",
      "225/225 [==============================] - 1s 2ms/step - loss: 0.2445 - accuracy: 0.8982 - val_loss: 0.3900 - val_accuracy: 0.8363\n",
      "Epoch 372/400\n",
      "225/225 [==============================] - 1s 2ms/step - loss: 0.2429 - accuracy: 0.9039 - val_loss: 0.4120 - val_accuracy: 0.8338\n",
      "Epoch 373/400\n",
      "225/225 [==============================] - 1s 2ms/step - loss: 0.2434 - accuracy: 0.8999 - val_loss: 0.4016 - val_accuracy: 0.8388\n",
      "Epoch 374/400\n",
      "225/225 [==============================] - 1s 2ms/step - loss: 0.2432 - accuracy: 0.9031 - val_loss: 0.4088 - val_accuracy: 0.8375\n",
      "Epoch 375/400\n",
      "225/225 [==============================] - 1s 3ms/step - loss: 0.2402 - accuracy: 0.9058 - val_loss: 0.3974 - val_accuracy: 0.8413\n",
      "Epoch 376/400\n",
      "225/225 [==============================] - 1s 3ms/step - loss: 0.2414 - accuracy: 0.9026 - val_loss: 0.3930 - val_accuracy: 0.8587\n",
      "Epoch 377/400\n",
      "225/225 [==============================] - 1s 2ms/step - loss: 0.2431 - accuracy: 0.9017 - val_loss: 0.4058 - val_accuracy: 0.8512\n",
      "Epoch 378/400\n",
      "225/225 [==============================] - 1s 3ms/step - loss: 0.2422 - accuracy: 0.9040 - val_loss: 0.3983 - val_accuracy: 0.8487\n",
      "Epoch 379/400\n",
      "225/225 [==============================] - 1s 2ms/step - loss: 0.2400 - accuracy: 0.9033 - val_loss: 0.4139 - val_accuracy: 0.8388\n",
      "Epoch 380/400\n",
      "225/225 [==============================] - 1s 3ms/step - loss: 0.2417 - accuracy: 0.9019 - val_loss: 0.3999 - val_accuracy: 0.8400\n",
      "Epoch 381/400\n",
      "225/225 [==============================] - 1s 2ms/step - loss: 0.2437 - accuracy: 0.8997 - val_loss: 0.4214 - val_accuracy: 0.8375\n",
      "Epoch 382/400\n",
      "225/225 [==============================] - 1s 2ms/step - loss: 0.2409 - accuracy: 0.9025 - val_loss: 0.3995 - val_accuracy: 0.8288\n",
      "Epoch 383/400\n",
      "225/225 [==============================] - 1s 2ms/step - loss: 0.2399 - accuracy: 0.9040 - val_loss: 0.4330 - val_accuracy: 0.8325\n",
      "Epoch 384/400\n",
      "225/225 [==============================] - 1s 2ms/step - loss: 0.2408 - accuracy: 0.9049 - val_loss: 0.4011 - val_accuracy: 0.8438\n",
      "Epoch 385/400\n",
      "225/225 [==============================] - 1s 3ms/step - loss: 0.2371 - accuracy: 0.9065 - val_loss: 0.3863 - val_accuracy: 0.8438\n",
      "Epoch 386/400\n",
      "225/225 [==============================] - 1s 2ms/step - loss: 0.2415 - accuracy: 0.9044 - val_loss: 0.4056 - val_accuracy: 0.8425\n",
      "Epoch 387/400\n",
      "225/225 [==============================] - 1s 2ms/step - loss: 0.2396 - accuracy: 0.9024 - val_loss: 0.4069 - val_accuracy: 0.8487\n",
      "Epoch 388/400\n",
      "225/225 [==============================] - 1s 2ms/step - loss: 0.2371 - accuracy: 0.9018 - val_loss: 0.4197 - val_accuracy: 0.8375\n",
      "Epoch 389/400\n",
      "225/225 [==============================] - 1s 2ms/step - loss: 0.2391 - accuracy: 0.9035 - val_loss: 0.4141 - val_accuracy: 0.8413\n",
      "Epoch 390/400\n",
      "225/225 [==============================] - 1s 3ms/step - loss: 0.2390 - accuracy: 0.9014 - val_loss: 0.4036 - val_accuracy: 0.8525\n",
      "Epoch 391/400\n",
      "225/225 [==============================] - 1s 3ms/step - loss: 0.2391 - accuracy: 0.9057 - val_loss: 0.4025 - val_accuracy: 0.8562\n",
      "Epoch 392/400\n",
      "225/225 [==============================] - 1s 2ms/step - loss: 0.2397 - accuracy: 0.9024 - val_loss: 0.4022 - val_accuracy: 0.8325\n",
      "Epoch 393/400\n",
      "225/225 [==============================] - 1s 2ms/step - loss: 0.2353 - accuracy: 0.9064 - val_loss: 0.4069 - val_accuracy: 0.8413\n",
      "Epoch 394/400\n",
      "225/225 [==============================] - 1s 2ms/step - loss: 0.2354 - accuracy: 0.9062 - val_loss: 0.4190 - val_accuracy: 0.8413\n",
      "Epoch 395/400\n"
     ]
    },
    {
     "name": "stdout",
     "output_type": "stream",
     "text": [
      "225/225 [==============================] - 1s 2ms/step - loss: 0.2365 - accuracy: 0.9028 - val_loss: 0.4179 - val_accuracy: 0.8363\n",
      "Epoch 396/400\n",
      "225/225 [==============================] - 1s 2ms/step - loss: 0.2357 - accuracy: 0.9069 - val_loss: 0.4158 - val_accuracy: 0.8475\n",
      "Epoch 397/400\n",
      "225/225 [==============================] - 1s 2ms/step - loss: 0.2356 - accuracy: 0.9035 - val_loss: 0.4083 - val_accuracy: 0.8388\n",
      "Epoch 398/400\n",
      "225/225 [==============================] - 1s 2ms/step - loss: 0.2402 - accuracy: 0.9011 - val_loss: 0.4152 - val_accuracy: 0.8363\n",
      "Epoch 399/400\n",
      "225/225 [==============================] - 1s 2ms/step - loss: 0.2369 - accuracy: 0.9047 - val_loss: 0.4116 - val_accuracy: 0.8425\n",
      "Epoch 400/400\n",
      "225/225 [==============================] - 1s 2ms/step - loss: 0.2381 - accuracy: 0.9036 - val_loss: 0.4095 - val_accuracy: 0.8462\n"
     ]
    },
    {
     "data": {
      "text/plain": [
       "<keras.callbacks.History at 0x7f879df22e50>"
      ]
     },
     "execution_count": 39,
     "metadata": {},
     "output_type": "execute_result"
    }
   ],
   "source": [
    "model.fit(x = X_train, y = y_train, validation_split = 0.1, batch_size = 32, epochs = 400, verbose=1)"
   ]
  },
  {
   "cell_type": "code",
   "execution_count": 40,
   "metadata": {
    "colab": {
     "base_uri": "https://localhost:8080/"
    },
    "id": "xa5S1cxY0Xj9",
    "outputId": "7feb4220-2cea-4e71-d8a2-d4c8354ebbfe"
   },
   "outputs": [
    {
     "name": "stdout",
     "output_type": "stream",
     "text": [
      "Model: \"sequential\"\n",
      "_________________________________________________________________\n",
      " Layer (type)                Output Shape              Param #   \n",
      "=================================================================\n",
      " dense (Dense)               (None, 24)                312       \n",
      "                                                                 \n",
      " dense_1 (Dense)             (None, 24)                600       \n",
      "                                                                 \n",
      " dense_2 (Dense)             (None, 12)                300       \n",
      "                                                                 \n",
      " dense_3 (Dense)             (None, 6)                 78        \n",
      "                                                                 \n",
      " dense_4 (Dense)             (None, 1)                 7         \n",
      "                                                                 \n",
      "=================================================================\n",
      "Total params: 1,297\n",
      "Trainable params: 1,297\n",
      "Non-trainable params: 0\n",
      "_________________________________________________________________\n"
     ]
    }
   ],
   "source": [
    "model.summary()"
   ]
  },
  {
   "cell_type": "code",
   "execution_count": 41,
   "metadata": {
    "colab": {
     "base_uri": "https://localhost:8080/",
     "height": 206
    },
    "id": "xiyKoW3P1Wy1",
    "outputId": "7166b619-2ae5-4084-a2b8-bb21c5c9d689"
   },
   "outputs": [
    {
     "data": {
      "text/html": [
       "<div>\n",
       "<style scoped>\n",
       "    .dataframe tbody tr th:only-of-type {\n",
       "        vertical-align: middle;\n",
       "    }\n",
       "\n",
       "    .dataframe tbody tr th {\n",
       "        vertical-align: top;\n",
       "    }\n",
       "\n",
       "    .dataframe thead th {\n",
       "        text-align: right;\n",
       "    }\n",
       "</style>\n",
       "<table border=\"1\" class=\"dataframe\">\n",
       "  <thead>\n",
       "    <tr style=\"text-align: right;\">\n",
       "      <th></th>\n",
       "      <th>loss</th>\n",
       "      <th>accuracy</th>\n",
       "      <th>val_loss</th>\n",
       "      <th>val_accuracy</th>\n",
       "    </tr>\n",
       "  </thead>\n",
       "  <tbody>\n",
       "    <tr>\n",
       "      <th>0</th>\n",
       "      <td>0.497</td>\n",
       "      <td>0.793</td>\n",
       "      <td>0.451</td>\n",
       "      <td>0.810</td>\n",
       "    </tr>\n",
       "    <tr>\n",
       "      <th>1</th>\n",
       "      <td>0.460</td>\n",
       "      <td>0.799</td>\n",
       "      <td>0.429</td>\n",
       "      <td>0.827</td>\n",
       "    </tr>\n",
       "    <tr>\n",
       "      <th>2</th>\n",
       "      <td>0.442</td>\n",
       "      <td>0.812</td>\n",
       "      <td>0.414</td>\n",
       "      <td>0.835</td>\n",
       "    </tr>\n",
       "    <tr>\n",
       "      <th>3</th>\n",
       "      <td>0.429</td>\n",
       "      <td>0.819</td>\n",
       "      <td>0.416</td>\n",
       "      <td>0.827</td>\n",
       "    </tr>\n",
       "    <tr>\n",
       "      <th>4</th>\n",
       "      <td>0.422</td>\n",
       "      <td>0.823</td>\n",
       "      <td>0.399</td>\n",
       "      <td>0.841</td>\n",
       "    </tr>\n",
       "  </tbody>\n",
       "</table>\n",
       "</div>"
      ],
      "text/plain": [
       "   loss  accuracy  val_loss  val_accuracy\n",
       "0 0.497     0.793     0.451         0.810\n",
       "1 0.460     0.799     0.429         0.827\n",
       "2 0.442     0.812     0.414         0.835\n",
       "3 0.429     0.819     0.416         0.827\n",
       "4 0.422     0.823     0.399         0.841"
      ]
     },
     "execution_count": 41,
     "metadata": {},
     "output_type": "execute_result"
    }
   ],
   "source": [
    "loss_df = pd.DataFrame(model.history.history)\n",
    "loss_df.head()"
   ]
  },
  {
   "cell_type": "code",
   "execution_count": 42,
   "metadata": {
    "colab": {
     "base_uri": "https://localhost:8080/",
     "height": 374
    },
    "id": "GY9cbY-f1byF",
    "outputId": "8deff2af-5813-477c-942f-98758903080a"
   },
   "outputs": [
    {
     "data": {
      "image/png": "[encoded data removed]",
      "text/plain": [
       "<Figure size 432x288 with 1 Axes>"
      ]
     },
     "metadata": {
      "needs_background": "light"
     },
     "output_type": "display_data"
    }
   ],
   "source": [
    "loss_df.plot();"
   ]
  },
  {
   "cell_type": "markdown",
   "metadata": {
    "id": "3DksG2FamvBP"
   },
   "source": [
    "## without class_weigth"
   ]
  },
  {
   "cell_type": "markdown",
   "metadata": {
    "id": "dYCYtdtmmvBQ"
   },
   "source": [
    "### Create The Model"
   ]
  },
  {
   "cell_type": "code",
   "execution_count": null,
   "metadata": {
    "id": "e13nQPwEmvBQ"
   },
   "outputs": [],
   "source": []
  },
  {
   "cell_type": "markdown",
   "metadata": {
    "id": "yVQNMWd5mvBQ"
   },
   "source": [
    "### Evaluate The Model\n",
    "\n",
    "- Plot the model history to observe the changing of metrics\n",
    "- Make prediction to see \"confusion matrix\" and \"classification report\"\n",
    "- Check ROC (Receiver Operating Curve) and AUC (Area Under Curve) for the model"
   ]
  },
  {
   "cell_type": "code",
   "execution_count": 43,
   "metadata": {
    "colab": {
     "base_uri": "https://localhost:8080/"
    },
    "id": "_P9uQI43mvBQ",
    "outputId": "c9740a55-0836-4d9a-94f8-0c37ea279be0"
   },
   "outputs": [
    {
     "data": {
      "text/plain": [
       "[0.4646235704421997, 0.8355000019073486]"
      ]
     },
     "execution_count": 43,
     "metadata": {},
     "output_type": "execute_result"
    }
   ],
   "source": [
    "model.evaluate(X_test, y_test, verbose=0)"
   ]
  },
  {
   "cell_type": "code",
   "execution_count": 44,
   "metadata": {
    "colab": {
     "base_uri": "https://localhost:8080/"
    },
    "id": "xCzhht6j1k8p",
    "outputId": "fe1a097d-8167-4db4-8ed6-ee0242402252"
   },
   "outputs": [
    {
     "name": "stdout",
     "output_type": "stream",
     "text": [
      "loss :  0.4646235704421997\n",
      "accuracy :  0.8355000019073486\n"
     ]
    }
   ],
   "source": [
    "loss, accuracy = model.evaluate(X_test, y_test, verbose=0)\n",
    "print(\"loss : \", loss)\n",
    "print(\"accuracy : \", accuracy)"
   ]
  },
  {
   "cell_type": "code",
   "execution_count": 45,
   "metadata": {
    "colab": {
     "base_uri": "https://localhost:8080/"
    },
    "id": "Fl7GW68Y1oZE",
    "outputId": "103487e0-94af-4570-ee8f-3d1991356a26"
   },
   "outputs": [
    {
     "name": "stdout",
     "output_type": "stream",
     "text": [
      "63/63 [==============================] - 0s 2ms/step\n",
      "[[1478  115]\n",
      " [ 214  193]]\n",
      "              precision    recall  f1-score   support\n",
      "\n",
      "           0       0.87      0.93      0.90      1593\n",
      "           1       0.63      0.47      0.54       407\n",
      "\n",
      "    accuracy                           0.84      2000\n",
      "   macro avg       0.75      0.70      0.72      2000\n",
      "weighted avg       0.82      0.84      0.83      2000\n",
      "\n"
     ]
    }
   ],
   "source": [
    "y_pred = model.predict(X_test) > 0.5\n",
    "#y_pred = model.predict_classes(X_test) for tf 2.5.0\n",
    "print(confusion_matrix(y_test, y_pred))\n",
    "print(classification_report(y_test, y_pred))"
   ]
  },
  {
   "cell_type": "markdown",
   "metadata": {
    "id": "dXHa_LdBmvBR"
   },
   "source": [
    "## with class_weigth\n",
    "\n",
    "Investigate how the \"class_weight\" hyper-parameter is used in a Neural Network."
   ]
  },
  {
   "cell_type": "markdown",
   "metadata": {
    "id": "8vhVMAwOmvBR"
   },
   "source": [
    "### Create The Model"
   ]
  },
  {
   "cell_type": "code",
   "execution_count": null,
   "metadata": {
    "id": "5mu-bfrvmvBR"
   },
   "outputs": [],
   "source": []
  },
  {
   "cell_type": "markdown",
   "metadata": {
    "id": "jd8HgJJqmvBR"
   },
   "source": [
    "### Evaluate The Model\n",
    "\n",
    "- Plot the model history to observe the changing of metrics\n",
    "- Make prediction to see \"confusion matrix\" and \"classification report\"\n",
    "- Check ROC (Receiver Operating Curve) and AUC (Area Under Curve) for the model"
   ]
  },
  {
   "cell_type": "code",
   "execution_count": null,
   "metadata": {
    "id": "Cyn2VpELmvBR"
   },
   "outputs": [],
   "source": []
  },
  {
   "cell_type": "markdown",
   "metadata": {
    "id": "VneSh6EbmvBR"
   },
   "source": [
    "## Implementation Different Methods to Develop The Model\n",
    "\n",
    "- Implement the following methods on model creating with \"class_weight\" parameter\n",
    "- Create and evaluate model for each method "
   ]
  },
  {
   "cell_type": "markdown",
   "metadata": {
    "id": "6VGnqM5kmvBS"
   },
   "source": [
    "### Increase The Learning Rate and Observe The Results"
   ]
  },
  {
   "cell_type": "code",
   "execution_count": 46,
   "metadata": {
    "id": "_uN4sLWnmvBS"
   },
   "outputs": [],
   "source": [
    "from tensorflow.keras.optimizers import Adam"
   ]
  },
  {
   "cell_type": "code",
   "execution_count": 47,
   "metadata": {
    "id": "AQGYSBAC2c4m"
   },
   "outputs": [
    {
     "name": "stderr",
     "output_type": "stream",
     "text": [
      "WARNING:absl:`lr` is deprecated, please use `learning_rate` instead, or use the legacy optimizer, e.g.,tf.keras.optimizers.legacy.Adam.\n"
     ]
    }
   ],
   "source": [
    "tf.random.set_seed(seed)\n",
    "\n",
    "model = Sequential()\n",
    "\n",
    "model.add(Dense(36, activation = \"relu\", input_dim = X_train.shape[1]))\n",
    "model.add(Dense(18, activation = \"relu\"))\n",
    "model.add(Dense(9, activation = \"relu\"))\n",
    "model.add(Dense(1, activation = \"sigmoid\"))\n",
    "\n",
    "opt = Adam(lr = 0.005)#default degeri 0.001 ben arttirdim, stepsize= slope*LR adim sayim artti, hizli ogrenecek.\n",
    "model.compile(optimizer = opt, loss = \"binary_crossentropy\", metrics = [\"accuracy\"])"
   ]
  },
  {
   "cell_type": "code",
   "execution_count": 50,
   "metadata": {
    "id": "3prkbjIn2ibn"
   },
   "outputs": [],
   "source": [
    "early_stop = EarlyStopping(monitor = \"val_loss\", mode = \"min\", verbose = 1, patience = 15, restore_best_weights = True)\n",
    "#patience 15 sefer sonuc degismiyorsa azaliyorsa yukselmiyorsa dur. \n",
    "#restore_best_weights = True, en son degeri alma en iyi degeri al. cunku en son deger azalan olabilir."
   ]
  },
  {
   "cell_type": "code",
   "execution_count": 49,
   "metadata": {},
   "outputs": [],
   "source": [
    "from keras.callbacks import ModelCheckpoint, EarlyStopping"
   ]
  },
  {
   "cell_type": "code",
   "execution_count": 51,
   "metadata": {
    "colab": {
     "base_uri": "https://localhost:8080/"
    },
    "id": "i-FZi0922k4k",
    "outputId": "73b17a98-da94-4132-e557-a24dd883139a"
   },
   "outputs": [
    {
     "name": "stdout",
     "output_type": "stream",
     "text": [
      "Epoch 1/1000\n",
      "225/225 [==============================] - 2s 3ms/step - loss: 0.4928 - accuracy: 0.7942 - val_loss: 0.4458 - val_accuracy: 0.8100\n",
      "Epoch 2/1000\n",
      "225/225 [==============================] - 1s 3ms/step - loss: 0.4553 - accuracy: 0.7975 - val_loss: 0.4276 - val_accuracy: 0.8188\n",
      "Epoch 3/1000\n",
      "225/225 [==============================] - 1s 3ms/step - loss: 0.4358 - accuracy: 0.8106 - val_loss: 0.4102 - val_accuracy: 0.8238\n",
      "Epoch 4/1000\n",
      "225/225 [==============================] - 1s 4ms/step - loss: 0.4151 - accuracy: 0.8225 - val_loss: 0.3909 - val_accuracy: 0.8350\n",
      "Epoch 5/1000\n",
      "225/225 [==============================] - 1s 3ms/step - loss: 0.3937 - accuracy: 0.8314 - val_loss: 0.3801 - val_accuracy: 0.8450\n",
      "Epoch 6/1000\n",
      "225/225 [==============================] - 1s 4ms/step - loss: 0.3802 - accuracy: 0.8356 - val_loss: 0.3535 - val_accuracy: 0.8537\n",
      "Epoch 7/1000\n",
      "225/225 [==============================] - 1s 3ms/step - loss: 0.3713 - accuracy: 0.8413 - val_loss: 0.3437 - val_accuracy: 0.8600\n",
      "Epoch 8/1000\n",
      "225/225 [==============================] - 1s 3ms/step - loss: 0.3681 - accuracy: 0.8451 - val_loss: 0.3418 - val_accuracy: 0.8575\n",
      "Epoch 9/1000\n",
      "225/225 [==============================] - 1s 4ms/step - loss: 0.3637 - accuracy: 0.8471 - val_loss: 0.3405 - val_accuracy: 0.8575\n",
      "Epoch 10/1000\n",
      "225/225 [==============================] - 1s 3ms/step - loss: 0.3586 - accuracy: 0.8489 - val_loss: 0.3356 - val_accuracy: 0.8587\n",
      "Epoch 11/1000\n",
      "225/225 [==============================] - 1s 3ms/step - loss: 0.3573 - accuracy: 0.8528 - val_loss: 0.3438 - val_accuracy: 0.8600\n",
      "Epoch 12/1000\n",
      "225/225 [==============================] - 1s 3ms/step - loss: 0.3568 - accuracy: 0.8519 - val_loss: 0.3353 - val_accuracy: 0.8587\n",
      "Epoch 13/1000\n",
      "225/225 [==============================] - 1s 3ms/step - loss: 0.3554 - accuracy: 0.8503 - val_loss: 0.3386 - val_accuracy: 0.8625\n",
      "Epoch 14/1000\n",
      "225/225 [==============================] - 1s 3ms/step - loss: 0.3556 - accuracy: 0.8504 - val_loss: 0.3383 - val_accuracy: 0.8600\n",
      "Epoch 15/1000\n",
      "225/225 [==============================] - 1s 3ms/step - loss: 0.3524 - accuracy: 0.8529 - val_loss: 0.3315 - val_accuracy: 0.8575\n",
      "Epoch 16/1000\n",
      "225/225 [==============================] - 1s 3ms/step - loss: 0.3518 - accuracy: 0.8544 - val_loss: 0.3301 - val_accuracy: 0.8612\n",
      "Epoch 17/1000\n",
      "225/225 [==============================] - 1s 3ms/step - loss: 0.3496 - accuracy: 0.8561 - val_loss: 0.3295 - val_accuracy: 0.8625\n",
      "Epoch 18/1000\n",
      "225/225 [==============================] - 1s 3ms/step - loss: 0.3483 - accuracy: 0.8544 - val_loss: 0.3309 - val_accuracy: 0.8625\n",
      "Epoch 19/1000\n",
      "225/225 [==============================] - 1s 3ms/step - loss: 0.3477 - accuracy: 0.8561 - val_loss: 0.3375 - val_accuracy: 0.8550\n",
      "Epoch 20/1000\n",
      "225/225 [==============================] - 1s 3ms/step - loss: 0.3490 - accuracy: 0.8542 - val_loss: 0.3346 - val_accuracy: 0.8500\n",
      "Epoch 21/1000\n",
      "225/225 [==============================] - 1s 3ms/step - loss: 0.3475 - accuracy: 0.8564 - val_loss: 0.3313 - val_accuracy: 0.8612\n",
      "Epoch 22/1000\n",
      "225/225 [==============================] - 1s 3ms/step - loss: 0.3467 - accuracy: 0.8553 - val_loss: 0.3333 - val_accuracy: 0.8612\n",
      "Epoch 23/1000\n",
      "225/225 [==============================] - 1s 3ms/step - loss: 0.3461 - accuracy: 0.8557 - val_loss: 0.3332 - val_accuracy: 0.8637\n",
      "Epoch 24/1000\n",
      "225/225 [==============================] - 1s 3ms/step - loss: 0.3457 - accuracy: 0.8556 - val_loss: 0.3354 - val_accuracy: 0.8625\n",
      "Epoch 25/1000\n",
      "225/225 [==============================] - 1s 3ms/step - loss: 0.3458 - accuracy: 0.8561 - val_loss: 0.3340 - val_accuracy: 0.8662\n",
      "Epoch 26/1000\n",
      "225/225 [==============================] - 1s 3ms/step - loss: 0.3453 - accuracy: 0.8567 - val_loss: 0.3280 - val_accuracy: 0.8650\n",
      "Epoch 27/1000\n",
      "225/225 [==============================] - 1s 3ms/step - loss: 0.3445 - accuracy: 0.8569 - val_loss: 0.3277 - val_accuracy: 0.8662\n",
      "Epoch 28/1000\n",
      "225/225 [==============================] - 1s 3ms/step - loss: 0.3433 - accuracy: 0.8582 - val_loss: 0.3299 - val_accuracy: 0.8575\n",
      "Epoch 29/1000\n",
      "225/225 [==============================] - 1s 3ms/step - loss: 0.3432 - accuracy: 0.8589 - val_loss: 0.3333 - val_accuracy: 0.8587\n",
      "Epoch 30/1000\n",
      "225/225 [==============================] - 1s 3ms/step - loss: 0.3428 - accuracy: 0.8583 - val_loss: 0.3388 - val_accuracy: 0.8637\n",
      "Epoch 31/1000\n",
      "225/225 [==============================] - 1s 3ms/step - loss: 0.3406 - accuracy: 0.8585 - val_loss: 0.3325 - val_accuracy: 0.8662\n",
      "Epoch 32/1000\n",
      "225/225 [==============================] - 1s 3ms/step - loss: 0.3417 - accuracy: 0.8589 - val_loss: 0.3315 - val_accuracy: 0.8550\n",
      "Epoch 33/1000\n",
      "225/225 [==============================] - 1s 3ms/step - loss: 0.3402 - accuracy: 0.8611 - val_loss: 0.3406 - val_accuracy: 0.8575\n",
      "Epoch 34/1000\n",
      "225/225 [==============================] - 1s 3ms/step - loss: 0.3396 - accuracy: 0.8589 - val_loss: 0.3309 - val_accuracy: 0.8575\n",
      "Epoch 35/1000\n",
      "225/225 [==============================] - 1s 3ms/step - loss: 0.3389 - accuracy: 0.8603 - val_loss: 0.3324 - val_accuracy: 0.8637\n",
      "Epoch 36/1000\n",
      "225/225 [==============================] - 1s 3ms/step - loss: 0.3380 - accuracy: 0.8601 - val_loss: 0.3291 - val_accuracy: 0.8600\n",
      "Epoch 37/1000\n",
      "225/225 [==============================] - 1s 2ms/step - loss: 0.3376 - accuracy: 0.8603 - val_loss: 0.3305 - val_accuracy: 0.8575\n",
      "Epoch 38/1000\n",
      "225/225 [==============================] - 1s 3ms/step - loss: 0.3361 - accuracy: 0.8582 - val_loss: 0.3302 - val_accuracy: 0.8650\n",
      "Epoch 39/1000\n",
      "225/225 [==============================] - 1s 3ms/step - loss: 0.3342 - accuracy: 0.8601 - val_loss: 0.3343 - val_accuracy: 0.8600\n",
      "Epoch 40/1000\n",
      "225/225 [==============================] - 1s 3ms/step - loss: 0.3359 - accuracy: 0.8625 - val_loss: 0.3315 - val_accuracy: 0.8500\n",
      "Epoch 41/1000\n",
      "225/225 [==============================] - 1s 2ms/step - loss: 0.3339 - accuracy: 0.8625 - val_loss: 0.3320 - val_accuracy: 0.8612\n",
      "Epoch 42/1000\n",
      "211/225 [===========================>..] - ETA: 0s - loss: 0.3345 - accuracy: 0.8621Restoring model weights from the end of the best epoch: 27.\n",
      "225/225 [==============================] - 1s 3ms/step - loss: 0.3352 - accuracy: 0.8614 - val_loss: 0.3311 - val_accuracy: 0.8612\n",
      "Epoch 42: early stopping\n"
     ]
    },
    {
     "data": {
      "text/plain": [
       "<keras.callbacks.History at 0x7f879e9c6670>"
      ]
     },
     "execution_count": 51,
     "metadata": {},
     "output_type": "execute_result"
    }
   ],
   "source": [
    "model.fit(x = X_train, y = y_train, validation_split = 0.1, batch_size = 32, epochs = 1000, verbose = 1,\n",
    "          callbacks = [early_stop])"
   ]
  },
  {
   "cell_type": "code",
   "execution_count": 52,
   "metadata": {
    "colab": {
     "base_uri": "https://localhost:8080/",
     "height": 393
    },
    "id": "OymG3U0v2oAU",
    "outputId": "93c36b6e-e08f-43ac-e7a2-d0e82d439909"
   },
   "outputs": [
    {
     "data": {
      "text/plain": [
       "<AxesSubplot:>"
      ]
     },
     "execution_count": 52,
     "metadata": {},
     "output_type": "execute_result"
    },
    {
     "data": {
      "image/png": "[encoded data removed]",
      "text/plain": [
       "<Figure size 432x288 with 1 Axes>"
      ]
     },
     "metadata": {
      "needs_background": "light"
     },
     "output_type": "display_data"
    }
   ],
   "source": [
    "loss_df = pd.DataFrame(model.history.history)\n",
    "loss_df.plot()"
   ]
  },
  {
   "cell_type": "code",
   "execution_count": 53,
   "metadata": {
    "colab": {
     "base_uri": "https://localhost:8080/"
    },
    "id": "VJ0b6OV62qxm",
    "outputId": "7b995920-d80d-4952-9106-aa2307edcfe6"
   },
   "outputs": [
    {
     "name": "stdout",
     "output_type": "stream",
     "text": [
      "loss :  0.3550775945186615\n",
      "accuracy :  0.8560000061988831\n"
     ]
    }
   ],
   "source": [
    "loss, accuracy = model.evaluate(X_test, y_test, verbose=0)\n",
    "print(\"loss : \", loss)\n",
    "print(\"accuracy : \", accuracy)"
   ]
  },
  {
   "cell_type": "code",
   "execution_count": 54,
   "metadata": {
    "colab": {
     "base_uri": "https://localhost:8080/"
    },
    "id": "j-EUNIrH2teC",
    "outputId": "442f2e98-a779-44f7-921d-ebfcf0e75f08"
   },
   "outputs": [
    {
     "name": "stdout",
     "output_type": "stream",
     "text": [
      "63/63 [==============================] - 0s 2ms/step\n",
      "[[1551   42]\n",
      " [ 246  161]]\n",
      "              precision    recall  f1-score   support\n",
      "\n",
      "           0       0.86      0.97      0.92      1593\n",
      "           1       0.79      0.40      0.53       407\n",
      "\n",
      "    accuracy                           0.86      2000\n",
      "   macro avg       0.83      0.68      0.72      2000\n",
      "weighted avg       0.85      0.86      0.84      2000\n",
      "\n"
     ]
    }
   ],
   "source": [
    "y_pred = model.predict(X_test) > 0.5\n",
    "#y_pred = model.predict_classes(X_test) for tf 2.5.0\n",
    "print(confusion_matrix(y_test, y_pred))\n",
    "print(classification_report(y_test, y_pred))"
   ]
  },
  {
   "cell_type": "markdown",
   "metadata": {
    "id": "FK910hBpmvBS"
   },
   "source": [
    "### Add Dropout Layer"
   ]
  },
  {
   "cell_type": "code",
   "execution_count": 55,
   "metadata": {
    "id": "1Bh5jcE6mvBS"
   },
   "outputs": [],
   "source": [
    "from tensorflow.keras.layers import Dropout\n",
    "#overfit' engellemek icin bazi noronlari donduruyorum."
   ]
  },
  {
   "cell_type": "code",
   "execution_count": 56,
   "metadata": {
    "id": "yi2Y6j3W2w__"
   },
   "outputs": [
    {
     "name": "stderr",
     "output_type": "stream",
     "text": [
      "WARNING:absl:`lr` is deprecated, please use `learning_rate` instead, or use the legacy optimizer, e.g.,tf.keras.optimizers.legacy.Adam.\n"
     ]
    }
   ],
   "source": [
    "tf.random.set_seed(seed)\n",
    "\n",
    "model = Sequential()\n",
    "\n",
    "model.add(Dense(36, activation=\"relu\", input_dim = X_train.shape[1]))\n",
    "model.add(Dropout(0.5))\n",
    "\n",
    "model.add(Dense(18, activation=\"relu\"))\n",
    "model.add(Dropout(0.5))\n",
    "\n",
    "model.add(Dense(9, activation=\"relu\"))\n",
    "model.add(Dropout(0.5))\n",
    "\n",
    "model.add(Dense(1, activation=\"sigmoid\"))\n",
    "\n",
    "opt = Adam(lr = 0.001)\n",
    "model.compile(optimizer = opt, loss = \"binary_crossentropy\", metrics = [\"accuracy\"])"
   ]
  },
  {
   "cell_type": "code",
   "execution_count": null,
   "metadata": {
    "id": "o8qRmLgD2w8n"
   },
   "outputs": [
    {
     "name": "stdout",
     "output_type": "stream",
     "text": [
      "Epoch 1/1000\n",
      "225/225 [==============================] - 2s 4ms/step - loss: 0.5871 - accuracy: 0.7611 - val_loss: 0.5039 - val_accuracy: 0.8100\n",
      "Epoch 2/1000\n",
      "225/225 [==============================] - 1s 3ms/step - loss: 0.5351 - accuracy: 0.7939 - val_loss: 0.4781 - val_accuracy: 0.8100\n",
      "Epoch 3/1000\n",
      "225/225 [==============================] - 1s 4ms/step - loss: 0.5173 - accuracy: 0.7947 - val_loss: 0.4661 - val_accuracy: 0.8100\n",
      "Epoch 4/1000\n",
      "225/225 [==============================] - 1s 3ms/step - loss: 0.5079 - accuracy: 0.7947 - val_loss: 0.4640 - val_accuracy: 0.8100\n",
      "Epoch 5/1000\n",
      "225/225 [==============================] - 1s 4ms/step - loss: 0.5050 - accuracy: 0.7947 - val_loss: 0.4622 - val_accuracy: 0.8100\n",
      "Epoch 6/1000\n",
      "225/225 [==============================] - 1s 3ms/step - loss: 0.4998 - accuracy: 0.7947 - val_loss: 0.4561 - val_accuracy: 0.8100\n",
      "Epoch 7/1000\n",
      "225/225 [==============================] - 1s 3ms/step - loss: 0.4963 - accuracy: 0.7947 - val_loss: 0.4526 - val_accuracy: 0.8100\n",
      "Epoch 8/1000\n",
      "225/225 [==============================] - 1s 3ms/step - loss: 0.4933 - accuracy: 0.7947 - val_loss: 0.4497 - val_accuracy: 0.8100\n",
      "Epoch 9/1000\n",
      "225/225 [==============================] - 1s 3ms/step - loss: 0.4859 - accuracy: 0.7947 - val_loss: 0.4402 - val_accuracy: 0.8100\n",
      "Epoch 10/1000\n",
      "225/225 [==============================] - 1s 3ms/step - loss: 0.4821 - accuracy: 0.7949 - val_loss: 0.4404 - val_accuracy: 0.8100\n",
      "Epoch 11/1000\n",
      "225/225 [==============================] - 1s 3ms/step - loss: 0.4815 - accuracy: 0.7951 - val_loss: 0.4508 - val_accuracy: 0.8100\n",
      "Epoch 12/1000\n",
      "225/225 [==============================] - 1s 3ms/step - loss: 0.4760 - accuracy: 0.7950 - val_loss: 0.4300 - val_accuracy: 0.8100\n",
      "Epoch 13/1000\n",
      "225/225 [==============================] - 1s 3ms/step - loss: 0.4751 - accuracy: 0.7946 - val_loss: 0.4279 - val_accuracy: 0.8100\n",
      "Epoch 14/1000\n",
      "225/225 [==============================] - 1s 3ms/step - loss: 0.4707 - accuracy: 0.7964 - val_loss: 0.4252 - val_accuracy: 0.8100\n",
      "Epoch 15/1000\n",
      "225/225 [==============================] - 1s 3ms/step - loss: 0.4719 - accuracy: 0.7951 - val_loss: 0.4172 - val_accuracy: 0.8100\n",
      "Epoch 16/1000\n",
      "225/225 [==============================] - 1s 3ms/step - loss: 0.4635 - accuracy: 0.7978 - val_loss: 0.4166 - val_accuracy: 0.8100\n",
      "Epoch 17/1000\n",
      "225/225 [==============================] - 1s 3ms/step - loss: 0.4579 - accuracy: 0.8000 - val_loss: 0.4100 - val_accuracy: 0.8100\n",
      "Epoch 18/1000\n",
      "225/225 [==============================] - 1s 3ms/step - loss: 0.4509 - accuracy: 0.8006 - val_loss: 0.4002 - val_accuracy: 0.8100\n",
      "Epoch 19/1000\n",
      "225/225 [==============================] - 1s 3ms/step - loss: 0.4575 - accuracy: 0.8024 - val_loss: 0.3985 - val_accuracy: 0.8100\n",
      "Epoch 20/1000\n",
      "225/225 [==============================] - 1s 3ms/step - loss: 0.4505 - accuracy: 0.8042 - val_loss: 0.3941 - val_accuracy: 0.8100\n",
      "Epoch 21/1000\n",
      "225/225 [==============================] - 1s 3ms/step - loss: 0.4490 - accuracy: 0.8053 - val_loss: 0.3925 - val_accuracy: 0.8188\n",
      "Epoch 22/1000\n",
      "225/225 [==============================] - 1s 3ms/step - loss: 0.4501 - accuracy: 0.8040 - val_loss: 0.3892 - val_accuracy: 0.8188\n",
      "Epoch 23/1000\n",
      "225/225 [==============================] - 1s 3ms/step - loss: 0.4429 - accuracy: 0.8064 - val_loss: 0.3821 - val_accuracy: 0.8213\n",
      "Epoch 24/1000\n",
      "225/225 [==============================] - 1s 3ms/step - loss: 0.4440 - accuracy: 0.8085 - val_loss: 0.3832 - val_accuracy: 0.8213\n",
      "Epoch 25/1000\n",
      "225/225 [==============================] - 1s 3ms/step - loss: 0.4481 - accuracy: 0.8071 - val_loss: 0.3815 - val_accuracy: 0.8213\n",
      "Epoch 26/1000\n",
      "225/225 [==============================] - 1s 3ms/step - loss: 0.4437 - accuracy: 0.8065 - val_loss: 0.3741 - val_accuracy: 0.8238\n",
      "Epoch 27/1000\n",
      "225/225 [==============================] - 1s 3ms/step - loss: 0.4397 - accuracy: 0.8058 - val_loss: 0.3731 - val_accuracy: 0.8288\n",
      "Epoch 28/1000\n",
      "225/225 [==============================] - 1s 3ms/step - loss: 0.4367 - accuracy: 0.8107 - val_loss: 0.3723 - val_accuracy: 0.8300\n",
      "Epoch 29/1000\n",
      "225/225 [==============================] - 1s 3ms/step - loss: 0.4351 - accuracy: 0.8079 - val_loss: 0.3683 - val_accuracy: 0.8300\n",
      "Epoch 30/1000\n",
      "225/225 [==============================] - 1s 3ms/step - loss: 0.4354 - accuracy: 0.8110 - val_loss: 0.3712 - val_accuracy: 0.8300\n",
      "Epoch 31/1000\n",
      "225/225 [==============================] - 1s 3ms/step - loss: 0.4397 - accuracy: 0.8104 - val_loss: 0.3715 - val_accuracy: 0.8350\n",
      "Epoch 32/1000\n",
      "225/225 [==============================] - 1s 3ms/step - loss: 0.4315 - accuracy: 0.8122 - val_loss: 0.3630 - val_accuracy: 0.8425\n",
      "Epoch 33/1000\n",
      "225/225 [==============================] - 1s 3ms/step - loss: 0.4297 - accuracy: 0.8132 - val_loss: 0.3624 - val_accuracy: 0.8537\n",
      "Epoch 34/1000\n",
      "225/225 [==============================] - 1s 3ms/step - loss: 0.4272 - accuracy: 0.8172 - val_loss: 0.3521 - val_accuracy: 0.8575\n",
      "Epoch 35/1000\n",
      "225/225 [==============================] - 1s 3ms/step - loss: 0.4242 - accuracy: 0.8185 - val_loss: 0.3519 - val_accuracy: 0.8487\n",
      "Epoch 36/1000\n",
      "225/225 [==============================] - 1s 3ms/step - loss: 0.4288 - accuracy: 0.8146 - val_loss: 0.3528 - val_accuracy: 0.8550\n",
      "Epoch 37/1000\n",
      "225/225 [==============================] - 1s 3ms/step - loss: 0.4312 - accuracy: 0.8131 - val_loss: 0.3586 - val_accuracy: 0.8450\n",
      "Epoch 38/1000\n",
      "225/225 [==============================] - 1s 3ms/step - loss: 0.4285 - accuracy: 0.8143 - val_loss: 0.3520 - val_accuracy: 0.8525\n",
      "Epoch 39/1000\n",
      "225/225 [==============================] - 1s 3ms/step - loss: 0.4225 - accuracy: 0.8164 - val_loss: 0.3528 - val_accuracy: 0.8512\n",
      "Epoch 40/1000\n",
      "225/225 [==============================] - 1s 3ms/step - loss: 0.4164 - accuracy: 0.8240 - val_loss: 0.3526 - val_accuracy: 0.8562\n",
      "Epoch 41/1000\n",
      "225/225 [==============================] - 1s 3ms/step - loss: 0.4255 - accuracy: 0.8193 - val_loss: 0.3470 - val_accuracy: 0.8637\n",
      "Epoch 42/1000\n",
      "225/225 [==============================] - 1s 3ms/step - loss: 0.4227 - accuracy: 0.8188 - val_loss: 0.3487 - val_accuracy: 0.8537\n",
      "Epoch 43/1000\n",
      "225/225 [==============================] - 1s 3ms/step - loss: 0.4190 - accuracy: 0.8222 - val_loss: 0.3479 - val_accuracy: 0.8550\n",
      "Epoch 44/1000\n",
      "225/225 [==============================] - 1s 3ms/step - loss: 0.4157 - accuracy: 0.8207 - val_loss: 0.3453 - val_accuracy: 0.8675\n",
      "Epoch 45/1000\n",
      "225/225 [==============================] - 1s 3ms/step - loss: 0.4213 - accuracy: 0.8201 - val_loss: 0.3504 - val_accuracy: 0.8525\n",
      "Epoch 46/1000\n",
      "225/225 [==============================] - 1s 4ms/step - loss: 0.4153 - accuracy: 0.8218 - val_loss: 0.3453 - val_accuracy: 0.8637\n",
      "Epoch 47/1000\n",
      "225/225 [==============================] - 1s 4ms/step - loss: 0.4254 - accuracy: 0.8193 - val_loss: 0.3522 - val_accuracy: 0.8525\n",
      "Epoch 48/1000\n",
      "225/225 [==============================] - 1s 3ms/step - loss: 0.4140 - accuracy: 0.8231 - val_loss: 0.3489 - val_accuracy: 0.8487\n",
      "Epoch 49/1000\n",
      "225/225 [==============================] - 1s 3ms/step - loss: 0.4207 - accuracy: 0.8163 - val_loss: 0.3526 - val_accuracy: 0.8600\n",
      "Epoch 50/1000\n",
      "225/225 [==============================] - 1s 4ms/step - loss: 0.4161 - accuracy: 0.8217 - val_loss: 0.3495 - val_accuracy: 0.8700\n",
      "Epoch 51/1000\n",
      "225/225 [==============================] - 1s 2ms/step - loss: 0.4227 - accuracy: 0.8182 - val_loss: 0.3487 - val_accuracy: 0.8587\n",
      "Epoch 52/1000\n",
      "225/225 [==============================] - 1s 2ms/step - loss: 0.4171 - accuracy: 0.8193 - val_loss: 0.3459 - val_accuracy: 0.8550\n",
      "Epoch 53/1000\n",
      "225/225 [==============================] - 1s 2ms/step - loss: 0.4129 - accuracy: 0.8213 - val_loss: 0.3459 - val_accuracy: 0.8625\n",
      "Epoch 54/1000\n",
      "225/225 [==============================] - 1s 2ms/step - loss: 0.4187 - accuracy: 0.8199 - val_loss: 0.3491 - val_accuracy: 0.8575\n",
      "Epoch 55/1000\n",
      "225/225 [==============================] - 1s 2ms/step - loss: 0.4213 - accuracy: 0.8178 - val_loss: 0.3456 - val_accuracy: 0.8625\n",
      "Epoch 56/1000\n",
      "225/225 [==============================] - 1s 2ms/step - loss: 0.4198 - accuracy: 0.8186 - val_loss: 0.3522 - val_accuracy: 0.8650\n",
      "Epoch 57/1000\n"
     ]
    },
    {
     "name": "stdout",
     "output_type": "stream",
     "text": [
      "225/225 [==============================] - 1s 2ms/step - loss: 0.4125 - accuracy: 0.8236 - val_loss: 0.3418 - val_accuracy: 0.8700\n",
      "Epoch 58/1000\n",
      "225/225 [==============================] - 1s 2ms/step - loss: 0.4106 - accuracy: 0.8242 - val_loss: 0.3437 - val_accuracy: 0.8725\n",
      "Epoch 59/1000\n",
      "225/225 [==============================] - 1s 2ms/step - loss: 0.4149 - accuracy: 0.8235 - val_loss: 0.3430 - val_accuracy: 0.8675\n",
      "Epoch 60/1000\n",
      "225/225 [==============================] - 1s 2ms/step - loss: 0.4048 - accuracy: 0.8254 - val_loss: 0.3459 - val_accuracy: 0.8637\n",
      "Epoch 61/1000\n",
      "225/225 [==============================] - 1s 2ms/step - loss: 0.4145 - accuracy: 0.8210 - val_loss: 0.3427 - val_accuracy: 0.8650\n",
      "Epoch 62/1000\n",
      "225/225 [==============================] - 1s 2ms/step - loss: 0.4141 - accuracy: 0.8229 - val_loss: 0.3464 - val_accuracy: 0.8537\n",
      "Epoch 63/1000\n",
      "225/225 [==============================] - 1s 2ms/step - loss: 0.4098 - accuracy: 0.8214 - val_loss: 0.3431 - val_accuracy: 0.8637\n",
      "Epoch 64/1000\n",
      "225/225 [==============================] - 1s 2ms/step - loss: 0.4075 - accuracy: 0.8269 - val_loss: 0.3439 - val_accuracy: 0.8637\n",
      "Epoch 65/1000\n",
      "225/225 [==============================] - 1s 2ms/step - loss: 0.4080 - accuracy: 0.8290 - val_loss: 0.3396 - val_accuracy: 0.8662\n",
      "Epoch 66/1000\n",
      "225/225 [==============================] - 1s 2ms/step - loss: 0.4093 - accuracy: 0.8189 - val_loss: 0.3407 - val_accuracy: 0.8587\n",
      "Epoch 67/1000\n",
      "225/225 [==============================] - 1s 2ms/step - loss: 0.4122 - accuracy: 0.8243 - val_loss: 0.3447 - val_accuracy: 0.8650\n",
      "Epoch 68/1000\n",
      "225/225 [==============================] - 1s 2ms/step - loss: 0.4202 - accuracy: 0.8224 - val_loss: 0.3452 - val_accuracy: 0.8612\n",
      "Epoch 69/1000\n",
      "225/225 [==============================] - 1s 2ms/step - loss: 0.4083 - accuracy: 0.8257 - val_loss: 0.3465 - val_accuracy: 0.8662\n",
      "Epoch 70/1000\n",
      "225/225 [==============================] - 1s 2ms/step - loss: 0.4103 - accuracy: 0.8250 - val_loss: 0.3419 - val_accuracy: 0.8675\n",
      "Epoch 71/1000\n",
      "225/225 [==============================] - 1s 2ms/step - loss: 0.4145 - accuracy: 0.8253 - val_loss: 0.3395 - val_accuracy: 0.8687\n",
      "Epoch 72/1000\n",
      "225/225 [==============================] - 1s 2ms/step - loss: 0.4094 - accuracy: 0.8260 - val_loss: 0.3438 - val_accuracy: 0.8550\n",
      "Epoch 73/1000\n",
      "225/225 [==============================] - 1s 2ms/step - loss: 0.4146 - accuracy: 0.8247 - val_loss: 0.3456 - val_accuracy: 0.8675\n",
      "Epoch 74/1000\n",
      "225/225 [==============================] - 1s 2ms/step - loss: 0.4084 - accuracy: 0.8265 - val_loss: 0.3366 - val_accuracy: 0.8675\n",
      "Epoch 75/1000\n",
      "225/225 [==============================] - 1s 2ms/step - loss: 0.4158 - accuracy: 0.8194 - val_loss: 0.3444 - val_accuracy: 0.8525\n",
      "Epoch 76/1000\n",
      "225/225 [==============================] - 1s 2ms/step - loss: 0.4127 - accuracy: 0.8239 - val_loss: 0.3420 - val_accuracy: 0.8650\n",
      "Epoch 77/1000\n",
      "225/225 [==============================] - 1s 4ms/step - loss: 0.4048 - accuracy: 0.8250 - val_loss: 0.3432 - val_accuracy: 0.8587\n",
      "Epoch 78/1000\n",
      "225/225 [==============================] - 1s 2ms/step - loss: 0.4088 - accuracy: 0.8246 - val_loss: 0.3413 - val_accuracy: 0.8587\n",
      "Epoch 79/1000\n",
      "225/225 [==============================] - 1s 2ms/step - loss: 0.4126 - accuracy: 0.8226 - val_loss: 0.3410 - val_accuracy: 0.8612\n",
      "Epoch 80/1000\n",
      "225/225 [==============================] - 1s 2ms/step - loss: 0.4158 - accuracy: 0.8239 - val_loss: 0.3459 - val_accuracy: 0.8587\n",
      "Epoch 81/1000\n",
      "225/225 [==============================] - 1s 2ms/step - loss: 0.4064 - accuracy: 0.8249 - val_loss: 0.3387 - val_accuracy: 0.8600\n",
      "Epoch 82/1000\n",
      "225/225 [==============================] - 1s 2ms/step - loss: 0.4107 - accuracy: 0.8314 - val_loss: 0.3404 - val_accuracy: 0.8587\n",
      "Epoch 83/1000\n",
      "225/225 [==============================] - 1s 2ms/step - loss: 0.4101 - accuracy: 0.8236 - val_loss: 0.3397 - val_accuracy: 0.8675\n",
      "Epoch 84/1000\n",
      "225/225 [==============================] - 1s 2ms/step - loss: 0.4093 - accuracy: 0.8283 - val_loss: 0.3391 - val_accuracy: 0.8675\n",
      "Epoch 85/1000\n",
      "225/225 [==============================] - 1s 2ms/step - loss: 0.4119 - accuracy: 0.8282 - val_loss: 0.3478 - val_accuracy: 0.8650\n",
      "Epoch 86/1000\n",
      "225/225 [==============================] - 1s 2ms/step - loss: 0.4113 - accuracy: 0.8250 - val_loss: 0.3393 - val_accuracy: 0.8637\n",
      "Epoch 87/1000\n",
      "225/225 [==============================] - 1s 2ms/step - loss: 0.4057 - accuracy: 0.8256 - val_loss: 0.3390 - val_accuracy: 0.8612\n",
      "Epoch 88/1000\n",
      "225/225 [==============================] - 1s 3ms/step - loss: 0.4085 - accuracy: 0.8251 - val_loss: 0.3377 - val_accuracy: 0.8600\n",
      "Epoch 89/1000\n",
      "225/225 [==============================] - 1s 3ms/step - loss: 0.4053 - accuracy: 0.8256 - val_loss: 0.3404 - val_accuracy: 0.8662\n",
      "Epoch 90/1000\n",
      "225/225 [==============================] - 1s 4ms/step - loss: 0.4108 - accuracy: 0.8242 - val_loss: 0.3383 - val_accuracy: 0.8637\n",
      "Epoch 91/1000\n",
      "225/225 [==============================] - 1s 2ms/step - loss: 0.4021 - accuracy: 0.8283 - val_loss: 0.3387 - val_accuracy: 0.8625\n",
      "Epoch 92/1000\n",
      "225/225 [==============================] - 1s 3ms/step - loss: 0.4150 - accuracy: 0.8279 - val_loss: 0.3431 - val_accuracy: 0.8637\n",
      "Epoch 93/1000\n",
      "225/225 [==============================] - 1s 2ms/step - loss: 0.4131 - accuracy: 0.8244 - val_loss: 0.3365 - val_accuracy: 0.8650\n",
      "Epoch 94/1000\n",
      "225/225 [==============================] - 1s 3ms/step - loss: 0.4041 - accuracy: 0.8289 - val_loss: 0.3428 - val_accuracy: 0.8700\n",
      "Epoch 95/1000\n",
      "225/225 [==============================] - 1s 2ms/step - loss: 0.4102 - accuracy: 0.8267 - val_loss: 0.3431 - val_accuracy: 0.8612\n",
      "Epoch 96/1000\n",
      "225/225 [==============================] - 1s 3ms/step - loss: 0.4046 - accuracy: 0.8293 - val_loss: 0.3401 - val_accuracy: 0.8687\n",
      "Epoch 97/1000\n",
      "225/225 [==============================] - 1s 2ms/step - loss: 0.4055 - accuracy: 0.8289 - val_loss: 0.3348 - val_accuracy: 0.8637\n",
      "Epoch 98/1000\n",
      "225/225 [==============================] - 1s 2ms/step - loss: 0.4047 - accuracy: 0.8306 - val_loss: 0.3439 - val_accuracy: 0.8650\n",
      "Epoch 99/1000\n",
      "225/225 [==============================] - 1s 3ms/step - loss: 0.4080 - accuracy: 0.8263 - val_loss: 0.3449 - val_accuracy: 0.8612\n",
      "Epoch 100/1000\n",
      "225/225 [==============================] - 1s 2ms/step - loss: 0.4016 - accuracy: 0.8335 - val_loss: 0.3434 - val_accuracy: 0.8637\n",
      "Epoch 101/1000\n",
      "225/225 [==============================] - 1s 3ms/step - loss: 0.4028 - accuracy: 0.8260 - val_loss: 0.3375 - val_accuracy: 0.8650\n",
      "Epoch 102/1000\n",
      "225/225 [==============================] - 1s 2ms/step - loss: 0.4071 - accuracy: 0.8251 - val_loss: 0.3397 - val_accuracy: 0.8600\n",
      "Epoch 103/1000\n",
      "225/225 [==============================] - 1s 2ms/step - loss: 0.4027 - accuracy: 0.8274 - val_loss: 0.3387 - val_accuracy: 0.8625\n",
      "Epoch 104/1000\n",
      "225/225 [==============================] - 1s 3ms/step - loss: 0.4097 - accuracy: 0.8276 - val_loss: 0.3419 - val_accuracy: 0.8637\n",
      "Epoch 105/1000\n",
      "225/225 [==============================] - 1s 2ms/step - loss: 0.4084 - accuracy: 0.8258 - val_loss: 0.3388 - val_accuracy: 0.8587\n",
      "Epoch 106/1000\n",
      "225/225 [==============================] - 1s 2ms/step - loss: 0.4125 - accuracy: 0.8229 - val_loss: 0.3416 - val_accuracy: 0.8562\n",
      "Epoch 107/1000\n",
      "225/225 [==============================] - 1s 3ms/step - loss: 0.4116 - accuracy: 0.8276 - val_loss: 0.3442 - val_accuracy: 0.8650\n",
      "Epoch 108/1000\n",
      "225/225 [==============================] - 1s 2ms/step - loss: 0.4116 - accuracy: 0.8249 - val_loss: 0.3408 - val_accuracy: 0.8625\n",
      "Epoch 109/1000\n",
      "225/225 [==============================] - 1s 3ms/step - loss: 0.4052 - accuracy: 0.8293 - val_loss: 0.3374 - val_accuracy: 0.8662\n",
      "Epoch 110/1000\n",
      "225/225 [==============================] - 1s 3ms/step - loss: 0.4100 - accuracy: 0.8242 - val_loss: 0.3445 - val_accuracy: 0.8625\n",
      "Epoch 111/1000\n",
      "225/225 [==============================] - 1s 3ms/step - loss: 0.4108 - accuracy: 0.8276 - val_loss: 0.3443 - val_accuracy: 0.8675\n",
      "Epoch 112/1000\n",
      "225/225 [==============================] - 1s 3ms/step - loss: 0.4003 - accuracy: 0.8318 - val_loss: 0.3418 - val_accuracy: 0.8662\n",
      "Epoch 113/1000\n"
     ]
    },
    {
     "name": "stdout",
     "output_type": "stream",
     "text": [
      "225/225 [==============================] - 1s 2ms/step - loss: 0.4133 - accuracy: 0.8233 - val_loss: 0.3496 - val_accuracy: 0.8637\n",
      "Epoch 114/1000\n",
      "225/225 [==============================] - 1s 2ms/step - loss: 0.4066 - accuracy: 0.8293 - val_loss: 0.3386 - val_accuracy: 0.8662\n",
      "Epoch 115/1000\n",
      "225/225 [==============================] - 1s 2ms/step - loss: 0.4083 - accuracy: 0.8253 - val_loss: 0.3458 - val_accuracy: 0.8637\n",
      "Epoch 116/1000\n",
      "225/225 [==============================] - 1s 2ms/step - loss: 0.4032 - accuracy: 0.8271 - val_loss: 0.3415 - val_accuracy: 0.8637\n",
      "Epoch 117/1000\n",
      "225/225 [==============================] - 1s 2ms/step - loss: 0.4056 - accuracy: 0.8289 - val_loss: 0.3399 - val_accuracy: 0.8637\n",
      "Epoch 118/1000\n",
      "225/225 [==============================] - 1s 2ms/step - loss: 0.4053 - accuracy: 0.8297 - val_loss: 0.3405 - val_accuracy: 0.8650\n",
      "Epoch 119/1000\n",
      "225/225 [==============================] - 1s 2ms/step - loss: 0.4082 - accuracy: 0.8289 - val_loss: 0.3407 - val_accuracy: 0.8625\n",
      "Epoch 120/1000\n",
      "225/225 [==============================] - 1s 3ms/step - loss: 0.3971 - accuracy: 0.8274 - val_loss: 0.3438 - val_accuracy: 0.8637\n",
      "Epoch 121/1000\n",
      "225/225 [==============================] - 1s 2ms/step - loss: 0.3973 - accuracy: 0.8300 - val_loss: 0.3404 - val_accuracy: 0.8662\n",
      "Epoch 122/1000\n",
      "225/225 [==============================] - 1s 2ms/step - loss: 0.4078 - accuracy: 0.8235 - val_loss: 0.3405 - val_accuracy: 0.8637\n",
      "Epoch 123/1000\n",
      "225/225 [==============================] - 1s 2ms/step - loss: 0.4034 - accuracy: 0.8310 - val_loss: 0.3388 - val_accuracy: 0.8600\n",
      "Epoch 124/1000\n",
      "225/225 [==============================] - 1s 2ms/step - loss: 0.4068 - accuracy: 0.8265 - val_loss: 0.3375 - val_accuracy: 0.8650\n",
      "Epoch 125/1000\n",
      "225/225 [==============================] - 1s 2ms/step - loss: 0.4091 - accuracy: 0.8304 - val_loss: 0.3458 - val_accuracy: 0.8662\n",
      "Epoch 126/1000\n",
      "225/225 [==============================] - 1s 2ms/step - loss: 0.4053 - accuracy: 0.8246 - val_loss: 0.3367 - val_accuracy: 0.8625\n",
      "Epoch 127/1000\n",
      "225/225 [==============================] - 1s 2ms/step - loss: 0.4014 - accuracy: 0.8303 - val_loss: 0.3382 - val_accuracy: 0.8650\n",
      "Epoch 128/1000\n",
      "225/225 [==============================] - 1s 2ms/step - loss: 0.4012 - accuracy: 0.8268 - val_loss: 0.3425 - val_accuracy: 0.8650\n",
      "Epoch 129/1000\n",
      "225/225 [==============================] - 1s 2ms/step - loss: 0.3971 - accuracy: 0.8356 - val_loss: 0.3368 - val_accuracy: 0.8637\n",
      "Epoch 130/1000\n",
      "225/225 [==============================] - 1s 2ms/step - loss: 0.4001 - accuracy: 0.8254 - val_loss: 0.3345 - val_accuracy: 0.8637\n",
      "Epoch 131/1000\n",
      "225/225 [==============================] - 1s 2ms/step - loss: 0.4017 - accuracy: 0.8292 - val_loss: 0.3396 - val_accuracy: 0.8612\n",
      "Epoch 132/1000\n",
      "225/225 [==============================] - 1s 2ms/step - loss: 0.4049 - accuracy: 0.8267 - val_loss: 0.3344 - val_accuracy: 0.8625\n",
      "Epoch 133/1000\n",
      "225/225 [==============================] - 1s 2ms/step - loss: 0.4008 - accuracy: 0.8297 - val_loss: 0.3378 - val_accuracy: 0.8637\n",
      "Epoch 134/1000\n",
      "225/225 [==============================] - 1s 2ms/step - loss: 0.4046 - accuracy: 0.8283 - val_loss: 0.3336 - val_accuracy: 0.8600\n",
      "Epoch 135/1000\n",
      "225/225 [==============================] - 1s 2ms/step - loss: 0.3964 - accuracy: 0.8311 - val_loss: 0.3359 - val_accuracy: 0.8600\n",
      "Epoch 136/1000\n",
      "225/225 [==============================] - 1s 2ms/step - loss: 0.3936 - accuracy: 0.8322 - val_loss: 0.3365 - val_accuracy: 0.8612\n",
      "Epoch 137/1000\n",
      "225/225 [==============================] - 1s 2ms/step - loss: 0.4027 - accuracy: 0.8313 - val_loss: 0.3377 - val_accuracy: 0.8675\n",
      "Epoch 138/1000\n",
      "225/225 [==============================] - 1s 2ms/step - loss: 0.3993 - accuracy: 0.8329 - val_loss: 0.3367 - val_accuracy: 0.8650\n",
      "Epoch 139/1000\n",
      "225/225 [==============================] - 1s 2ms/step - loss: 0.4017 - accuracy: 0.8299 - val_loss: 0.3371 - val_accuracy: 0.8600\n",
      "Epoch 140/1000\n",
      "225/225 [==============================] - 1s 3ms/step - loss: 0.3989 - accuracy: 0.8297 - val_loss: 0.3360 - val_accuracy: 0.8662\n",
      "Epoch 141/1000\n",
      "225/225 [==============================] - 1s 2ms/step - loss: 0.4033 - accuracy: 0.8276 - val_loss: 0.3398 - val_accuracy: 0.8612\n",
      "Epoch 142/1000\n",
      "225/225 [==============================] - 1s 2ms/step - loss: 0.4049 - accuracy: 0.8296 - val_loss: 0.3463 - val_accuracy: 0.8650\n",
      "Epoch 143/1000\n",
      "225/225 [==============================] - 1s 2ms/step - loss: 0.3969 - accuracy: 0.8264 - val_loss: 0.3400 - val_accuracy: 0.8587\n",
      "Epoch 144/1000\n",
      "225/225 [==============================] - 1s 2ms/step - loss: 0.3958 - accuracy: 0.8333 - val_loss: 0.3313 - val_accuracy: 0.8637\n",
      "Epoch 145/1000\n",
      "225/225 [==============================] - 1s 2ms/step - loss: 0.4014 - accuracy: 0.8317 - val_loss: 0.3366 - val_accuracy: 0.8637\n",
      "Epoch 146/1000\n",
      "225/225 [==============================] - 1s 2ms/step - loss: 0.4024 - accuracy: 0.8333 - val_loss: 0.3379 - val_accuracy: 0.8612\n",
      "Epoch 147/1000\n",
      "225/225 [==============================] - 1s 2ms/step - loss: 0.4003 - accuracy: 0.8290 - val_loss: 0.3414 - val_accuracy: 0.8625\n",
      "Epoch 148/1000\n",
      "225/225 [==============================] - 1s 2ms/step - loss: 0.3993 - accuracy: 0.8342 - val_loss: 0.3380 - val_accuracy: 0.8637\n",
      "Epoch 149/1000\n",
      "225/225 [==============================] - 1s 2ms/step - loss: 0.4040 - accuracy: 0.8310 - val_loss: 0.3376 - val_accuracy: 0.8612\n",
      "Epoch 150/1000\n",
      "225/225 [==============================] - 1s 2ms/step - loss: 0.4041 - accuracy: 0.8308 - val_loss: 0.3381 - val_accuracy: 0.8600\n",
      "Epoch 151/1000\n",
      "225/225 [==============================] - 1s 2ms/step - loss: 0.4004 - accuracy: 0.8286 - val_loss: 0.3370 - val_accuracy: 0.8575\n",
      "Epoch 152/1000\n",
      "225/225 [==============================] - 1s 2ms/step - loss: 0.4019 - accuracy: 0.8268 - val_loss: 0.3360 - val_accuracy: 0.8650\n",
      "Epoch 153/1000\n",
      "225/225 [==============================] - 1s 2ms/step - loss: 0.4053 - accuracy: 0.8271 - val_loss: 0.3365 - val_accuracy: 0.8637\n",
      "Epoch 154/1000\n",
      "225/225 [==============================] - 1s 2ms/step - loss: 0.4011 - accuracy: 0.8268 - val_loss: 0.3335 - val_accuracy: 0.8612\n",
      "Epoch 155/1000\n",
      "225/225 [==============================] - 1s 3ms/step - loss: 0.3966 - accuracy: 0.8340 - val_loss: 0.3376 - val_accuracy: 0.8562\n",
      "Epoch 156/1000\n",
      "225/225 [==============================] - 1s 3ms/step - loss: 0.4029 - accuracy: 0.8299 - val_loss: 0.3345 - val_accuracy: 0.8650\n",
      "Epoch 157/1000\n",
      "225/225 [==============================] - 1s 3ms/step - loss: 0.3996 - accuracy: 0.8275 - val_loss: 0.3301 - val_accuracy: 0.8550\n",
      "Epoch 158/1000\n",
      "225/225 [==============================] - 1s 2ms/step - loss: 0.3953 - accuracy: 0.8303 - val_loss: 0.3306 - val_accuracy: 0.8625\n",
      "Epoch 159/1000\n",
      "225/225 [==============================] - 1s 2ms/step - loss: 0.3990 - accuracy: 0.8279 - val_loss: 0.3392 - val_accuracy: 0.8662\n",
      "Epoch 160/1000\n",
      "225/225 [==============================] - 1s 2ms/step - loss: 0.3985 - accuracy: 0.8294 - val_loss: 0.3357 - val_accuracy: 0.8575\n",
      "Epoch 161/1000\n",
      "225/225 [==============================] - 1s 2ms/step - loss: 0.3999 - accuracy: 0.8281 - val_loss: 0.3357 - val_accuracy: 0.8650\n",
      "Epoch 162/1000\n",
      "225/225 [==============================] - 1s 2ms/step - loss: 0.4029 - accuracy: 0.8261 - val_loss: 0.3390 - val_accuracy: 0.8600\n",
      "Epoch 163/1000\n",
      "225/225 [==============================] - 1s 2ms/step - loss: 0.3950 - accuracy: 0.8293 - val_loss: 0.3395 - val_accuracy: 0.8637\n",
      "Epoch 164/1000\n",
      "225/225 [==============================] - 1s 2ms/step - loss: 0.3964 - accuracy: 0.8306 - val_loss: 0.3348 - val_accuracy: 0.8650\n",
      "Epoch 165/1000\n",
      "225/225 [==============================] - 1s 2ms/step - loss: 0.4010 - accuracy: 0.8257 - val_loss: 0.3314 - val_accuracy: 0.8625\n",
      "Epoch 166/1000\n",
      "225/225 [==============================] - 1s 3ms/step - loss: 0.4035 - accuracy: 0.8263 - val_loss: 0.3338 - val_accuracy: 0.8650\n",
      "Epoch 167/1000\n",
      "225/225 [==============================] - 1s 3ms/step - loss: 0.3985 - accuracy: 0.8300 - val_loss: 0.3337 - val_accuracy: 0.8600\n",
      "Epoch 168/1000\n",
      "225/225 [==============================] - 1s 3ms/step - loss: 0.4002 - accuracy: 0.8297 - val_loss: 0.3376 - val_accuracy: 0.8625\n",
      "Epoch 169/1000\n"
     ]
    },
    {
     "name": "stdout",
     "output_type": "stream",
     "text": [
      "225/225 [==============================] - 1s 2ms/step - loss: 0.4010 - accuracy: 0.8271 - val_loss: 0.3337 - val_accuracy: 0.8637\n",
      "Epoch 170/1000\n",
      "225/225 [==============================] - 1s 3ms/step - loss: 0.3999 - accuracy: 0.8300 - val_loss: 0.3382 - val_accuracy: 0.8637\n",
      "Epoch 171/1000\n",
      "225/225 [==============================] - 1s 2ms/step - loss: 0.4027 - accuracy: 0.8263 - val_loss: 0.3389 - val_accuracy: 0.8600\n",
      "Epoch 172/1000\n",
      "225/225 [==============================] - 1s 3ms/step - loss: 0.3989 - accuracy: 0.8297 - val_loss: 0.3332 - val_accuracy: 0.8600\n",
      "Epoch 173/1000\n",
      "225/225 [==============================] - 1s 3ms/step - loss: 0.3943 - accuracy: 0.8279 - val_loss: 0.3357 - val_accuracy: 0.8637\n",
      "Epoch 174/1000\n",
      "225/225 [==============================] - 1s 2ms/step - loss: 0.3989 - accuracy: 0.8264 - val_loss: 0.3372 - val_accuracy: 0.8562\n",
      "Epoch 175/1000\n",
      "225/225 [==============================] - 1s 2ms/step - loss: 0.3964 - accuracy: 0.8318 - val_loss: 0.3333 - val_accuracy: 0.8662\n",
      "Epoch 176/1000\n",
      "225/225 [==============================] - 1s 2ms/step - loss: 0.3996 - accuracy: 0.8299 - val_loss: 0.3348 - val_accuracy: 0.8625\n",
      "Epoch 177/1000\n",
      "225/225 [==============================] - 1s 2ms/step - loss: 0.3924 - accuracy: 0.8335 - val_loss: 0.3301 - val_accuracy: 0.8637\n",
      "Epoch 178/1000\n",
      "225/225 [==============================] - 1s 2ms/step - loss: 0.4033 - accuracy: 0.8242 - val_loss: 0.3430 - val_accuracy: 0.8625\n",
      "Epoch 179/1000\n",
      "225/225 [==============================] - 1s 2ms/step - loss: 0.3951 - accuracy: 0.8325 - val_loss: 0.3359 - val_accuracy: 0.8625\n",
      "Epoch 180/1000\n",
      "225/225 [==============================] - 1s 2ms/step - loss: 0.3947 - accuracy: 0.8360 - val_loss: 0.3289 - val_accuracy: 0.8637\n",
      "Epoch 181/1000\n",
      "225/225 [==============================] - 1s 3ms/step - loss: 0.3990 - accuracy: 0.8326 - val_loss: 0.3363 - val_accuracy: 0.8662\n",
      "Epoch 182/1000\n",
      "225/225 [==============================] - 1s 2ms/step - loss: 0.3942 - accuracy: 0.8343 - val_loss: 0.3294 - val_accuracy: 0.8650\n",
      "Epoch 183/1000\n",
      "225/225 [==============================] - 1s 3ms/step - loss: 0.3972 - accuracy: 0.8332 - val_loss: 0.3284 - val_accuracy: 0.8612\n",
      "Epoch 184/1000\n",
      "225/225 [==============================] - 1s 3ms/step - loss: 0.3988 - accuracy: 0.8251 - val_loss: 0.3353 - val_accuracy: 0.8612\n",
      "Epoch 185/1000\n",
      "225/225 [==============================] - 1s 2ms/step - loss: 0.3959 - accuracy: 0.8310 - val_loss: 0.3338 - val_accuracy: 0.8637\n",
      "Epoch 186/1000\n",
      "225/225 [==============================] - 1s 2ms/step - loss: 0.4017 - accuracy: 0.8296 - val_loss: 0.3386 - val_accuracy: 0.8662\n",
      "Epoch 187/1000\n",
      "225/225 [==============================] - 1s 2ms/step - loss: 0.3979 - accuracy: 0.8289 - val_loss: 0.3379 - val_accuracy: 0.8600\n",
      "Epoch 188/1000\n",
      "225/225 [==============================] - 1s 2ms/step - loss: 0.3966 - accuracy: 0.8340 - val_loss: 0.3387 - val_accuracy: 0.8612\n",
      "Epoch 189/1000\n",
      "225/225 [==============================] - 1s 2ms/step - loss: 0.3989 - accuracy: 0.8338 - val_loss: 0.3372 - val_accuracy: 0.8637\n",
      "Epoch 190/1000\n",
      "225/225 [==============================] - 1s 2ms/step - loss: 0.4023 - accuracy: 0.8279 - val_loss: 0.3346 - val_accuracy: 0.8575\n",
      "Epoch 191/1000\n",
      "225/225 [==============================] - 1s 2ms/step - loss: 0.3962 - accuracy: 0.8372 - val_loss: 0.3350 - val_accuracy: 0.8637\n",
      "Epoch 192/1000\n",
      "225/225 [==============================] - 1s 3ms/step - loss: 0.4018 - accuracy: 0.8307 - val_loss: 0.3375 - val_accuracy: 0.8625\n",
      "Epoch 193/1000\n",
      "225/225 [==============================] - 1s 2ms/step - loss: 0.3999 - accuracy: 0.8274 - val_loss: 0.3349 - val_accuracy: 0.8687\n",
      "Epoch 194/1000\n",
      "225/225 [==============================] - 1s 3ms/step - loss: 0.3934 - accuracy: 0.8285 - val_loss: 0.3451 - val_accuracy: 0.8650\n",
      "Epoch 195/1000\n",
      "225/225 [==============================] - 1s 2ms/step - loss: 0.4010 - accuracy: 0.8293 - val_loss: 0.3382 - val_accuracy: 0.8662\n",
      "Epoch 196/1000\n",
      "225/225 [==============================] - 1s 2ms/step - loss: 0.4000 - accuracy: 0.8283 - val_loss: 0.3309 - val_accuracy: 0.8625\n",
      "Epoch 197/1000\n",
      "225/225 [==============================] - 1s 2ms/step - loss: 0.3990 - accuracy: 0.8325 - val_loss: 0.3368 - val_accuracy: 0.8637\n",
      "Epoch 198/1000\n",
      "225/225 [==============================] - 1s 3ms/step - loss: 0.3925 - accuracy: 0.8324 - val_loss: 0.3341 - val_accuracy: 0.8650\n",
      "Epoch 199/1000\n",
      "225/225 [==============================] - 1s 4ms/step - loss: 0.3932 - accuracy: 0.8343 - val_loss: 0.3368 - val_accuracy: 0.8662\n",
      "Epoch 200/1000\n",
      "225/225 [==============================] - 1s 3ms/step - loss: 0.3992 - accuracy: 0.8313 - val_loss: 0.3362 - val_accuracy: 0.8650\n",
      "Epoch 201/1000\n",
      "225/225 [==============================] - 1s 3ms/step - loss: 0.3959 - accuracy: 0.8299 - val_loss: 0.3363 - val_accuracy: 0.8612\n",
      "Epoch 202/1000\n",
      "225/225 [==============================] - 1s 3ms/step - loss: 0.3938 - accuracy: 0.8275 - val_loss: 0.3353 - val_accuracy: 0.8637\n",
      "Epoch 203/1000\n",
      "225/225 [==============================] - 1s 3ms/step - loss: 0.3942 - accuracy: 0.8349 - val_loss: 0.3424 - val_accuracy: 0.8637\n",
      "Epoch 204/1000\n",
      "225/225 [==============================] - 1s 2ms/step - loss: 0.3965 - accuracy: 0.8331 - val_loss: 0.3367 - val_accuracy: 0.8612\n",
      "Epoch 205/1000\n",
      "225/225 [==============================] - 1s 2ms/step - loss: 0.3958 - accuracy: 0.8315 - val_loss: 0.3343 - val_accuracy: 0.8612\n",
      "Epoch 206/1000\n",
      "225/225 [==============================] - 1s 3ms/step - loss: 0.3941 - accuracy: 0.8347 - val_loss: 0.3439 - val_accuracy: 0.8637\n",
      "Epoch 207/1000\n",
      "225/225 [==============================] - 1s 2ms/step - loss: 0.3968 - accuracy: 0.8346 - val_loss: 0.3398 - val_accuracy: 0.8625\n",
      "Epoch 208/1000\n",
      "225/225 [==============================] - 1s 2ms/step - loss: 0.4028 - accuracy: 0.8311 - val_loss: 0.3381 - val_accuracy: 0.8650\n",
      "Epoch 209/1000\n",
      "225/225 [==============================] - 1s 2ms/step - loss: 0.3988 - accuracy: 0.8342 - val_loss: 0.3451 - val_accuracy: 0.8662\n",
      "Epoch 210/1000\n",
      "225/225 [==============================] - 1s 2ms/step - loss: 0.3988 - accuracy: 0.8289 - val_loss: 0.3401 - val_accuracy: 0.8650\n",
      "Epoch 211/1000\n",
      "225/225 [==============================] - 1s 2ms/step - loss: 0.3960 - accuracy: 0.8294 - val_loss: 0.3387 - val_accuracy: 0.8625\n",
      "Epoch 212/1000\n",
      "225/225 [==============================] - 1s 2ms/step - loss: 0.3904 - accuracy: 0.8339 - val_loss: 0.3421 - val_accuracy: 0.8675\n",
      "Epoch 213/1000\n",
      "225/225 [==============================] - 1s 2ms/step - loss: 0.3916 - accuracy: 0.8329 - val_loss: 0.3379 - val_accuracy: 0.8687\n",
      "Epoch 214/1000\n",
      "225/225 [==============================] - 1s 3ms/step - loss: 0.3962 - accuracy: 0.8318 - val_loss: 0.3366 - val_accuracy: 0.8675\n",
      "Epoch 215/1000\n",
      "225/225 [==============================] - 1s 2ms/step - loss: 0.3947 - accuracy: 0.8340 - val_loss: 0.3359 - val_accuracy: 0.8712\n",
      "Epoch 216/1000\n",
      "225/225 [==============================] - 1s 2ms/step - loss: 0.3960 - accuracy: 0.8331 - val_loss: 0.3381 - val_accuracy: 0.8650\n",
      "Epoch 217/1000\n",
      "225/225 [==============================] - 1s 3ms/step - loss: 0.3931 - accuracy: 0.8342 - val_loss: 0.3431 - val_accuracy: 0.8587\n",
      "Epoch 218/1000\n",
      "225/225 [==============================] - 1s 3ms/step - loss: 0.3908 - accuracy: 0.8360 - val_loss: 0.3393 - val_accuracy: 0.8662\n",
      "Epoch 219/1000\n",
      "225/225 [==============================] - 1s 2ms/step - loss: 0.3945 - accuracy: 0.8317 - val_loss: 0.3401 - val_accuracy: 0.8637\n",
      "Epoch 220/1000\n",
      "225/225 [==============================] - 1s 2ms/step - loss: 0.3929 - accuracy: 0.8331 - val_loss: 0.3443 - val_accuracy: 0.8650\n",
      "Epoch 221/1000\n",
      "225/225 [==============================] - 1s 2ms/step - loss: 0.3928 - accuracy: 0.8332 - val_loss: 0.3417 - val_accuracy: 0.8700\n",
      "Epoch 222/1000\n",
      "225/225 [==============================] - 1s 2ms/step - loss: 0.4022 - accuracy: 0.8288 - val_loss: 0.3416 - val_accuracy: 0.8650\n",
      "Epoch 223/1000\n",
      "225/225 [==============================] - 1s 2ms/step - loss: 0.3990 - accuracy: 0.8322 - val_loss: 0.3406 - val_accuracy: 0.8662\n",
      "Epoch 224/1000\n",
      "225/225 [==============================] - 1s 3ms/step - loss: 0.4012 - accuracy: 0.8292 - val_loss: 0.3439 - val_accuracy: 0.8625\n",
      "Epoch 225/1000\n"
     ]
    },
    {
     "name": "stdout",
     "output_type": "stream",
     "text": [
      "225/225 [==============================] - 1s 2ms/step - loss: 0.3995 - accuracy: 0.8369 - val_loss: 0.3370 - val_accuracy: 0.8612\n",
      "Epoch 226/1000\n",
      "225/225 [==============================] - 1s 2ms/step - loss: 0.3972 - accuracy: 0.8347 - val_loss: 0.3448 - val_accuracy: 0.8637\n",
      "Epoch 227/1000\n",
      "225/225 [==============================] - 1s 2ms/step - loss: 0.3956 - accuracy: 0.8304 - val_loss: 0.3380 - val_accuracy: 0.8612\n",
      "Epoch 228/1000\n",
      "225/225 [==============================] - 1s 2ms/step - loss: 0.3965 - accuracy: 0.8313 - val_loss: 0.3361 - val_accuracy: 0.8637\n",
      "Epoch 229/1000\n",
      "225/225 [==============================] - 1s 2ms/step - loss: 0.3983 - accuracy: 0.8299 - val_loss: 0.3418 - val_accuracy: 0.8650\n",
      "Epoch 230/1000\n",
      "225/225 [==============================] - 1s 2ms/step - loss: 0.3978 - accuracy: 0.8340 - val_loss: 0.3390 - val_accuracy: 0.8675\n",
      "Epoch 231/1000\n",
      "225/225 [==============================] - 1s 2ms/step - loss: 0.3905 - accuracy: 0.8335 - val_loss: 0.3347 - val_accuracy: 0.8700\n",
      "Epoch 232/1000\n",
      "225/225 [==============================] - 1s 2ms/step - loss: 0.3975 - accuracy: 0.8331 - val_loss: 0.3378 - val_accuracy: 0.8600\n",
      "Epoch 233/1000\n",
      "225/225 [==============================] - 1s 3ms/step - loss: 0.3940 - accuracy: 0.8331 - val_loss: 0.3390 - val_accuracy: 0.8712\n",
      "Epoch 234/1000\n",
      "225/225 [==============================] - 1s 3ms/step - loss: 0.3952 - accuracy: 0.8304 - val_loss: 0.3474 - val_accuracy: 0.8712\n",
      "Epoch 235/1000\n",
      "225/225 [==============================] - 1s 3ms/step - loss: 0.3982 - accuracy: 0.8325 - val_loss: 0.3453 - val_accuracy: 0.8637\n",
      "Epoch 236/1000\n",
      "225/225 [==============================] - 1s 3ms/step - loss: 0.3951 - accuracy: 0.8372 - val_loss: 0.3474 - val_accuracy: 0.8662\n",
      "Epoch 237/1000\n",
      "225/225 [==============================] - 1s 3ms/step - loss: 0.3971 - accuracy: 0.8326 - val_loss: 0.3381 - val_accuracy: 0.8625\n",
      "Epoch 238/1000\n",
      "225/225 [==============================] - 1s 3ms/step - loss: 0.3935 - accuracy: 0.8318 - val_loss: 0.3409 - val_accuracy: 0.8712\n",
      "Epoch 239/1000\n",
      "225/225 [==============================] - 1s 2ms/step - loss: 0.3928 - accuracy: 0.8313 - val_loss: 0.3380 - val_accuracy: 0.8725\n",
      "Epoch 240/1000\n",
      "225/225 [==============================] - 1s 3ms/step - loss: 0.3976 - accuracy: 0.8299 - val_loss: 0.3392 - val_accuracy: 0.8675\n",
      "Epoch 241/1000\n",
      "225/225 [==============================] - 1s 2ms/step - loss: 0.3952 - accuracy: 0.8346 - val_loss: 0.3423 - val_accuracy: 0.8712\n",
      "Epoch 242/1000\n",
      "225/225 [==============================] - 1s 3ms/step - loss: 0.3961 - accuracy: 0.8343 - val_loss: 0.3431 - val_accuracy: 0.8650\n",
      "Epoch 243/1000\n",
      "225/225 [==============================] - 1s 2ms/step - loss: 0.3947 - accuracy: 0.8331 - val_loss: 0.3386 - val_accuracy: 0.8650\n",
      "Epoch 244/1000\n",
      "225/225 [==============================] - 1s 3ms/step - loss: 0.3953 - accuracy: 0.8324 - val_loss: 0.3405 - val_accuracy: 0.8700\n",
      "Epoch 245/1000\n",
      "225/225 [==============================] - 1s 2ms/step - loss: 0.3987 - accuracy: 0.8285 - val_loss: 0.3449 - val_accuracy: 0.8637\n",
      "Epoch 246/1000\n",
      "225/225 [==============================] - 1s 2ms/step - loss: 0.4036 - accuracy: 0.8293 - val_loss: 0.3494 - val_accuracy: 0.8625\n",
      "Epoch 247/1000\n",
      "225/225 [==============================] - 1s 2ms/step - loss: 0.3903 - accuracy: 0.8324 - val_loss: 0.3367 - val_accuracy: 0.8650\n",
      "Epoch 248/1000\n",
      "225/225 [==============================] - 1s 2ms/step - loss: 0.3939 - accuracy: 0.8343 - val_loss: 0.3404 - val_accuracy: 0.8650\n",
      "Epoch 249/1000\n",
      "225/225 [==============================] - 1s 2ms/step - loss: 0.3857 - accuracy: 0.8358 - val_loss: 0.3351 - val_accuracy: 0.8675\n",
      "Epoch 250/1000\n",
      "225/225 [==============================] - 1s 2ms/step - loss: 0.3962 - accuracy: 0.8322 - val_loss: 0.3448 - val_accuracy: 0.8650\n",
      "Epoch 251/1000\n",
      "225/225 [==============================] - 1s 2ms/step - loss: 0.3946 - accuracy: 0.8376 - val_loss: 0.3345 - val_accuracy: 0.8675\n",
      "Epoch 252/1000\n",
      "225/225 [==============================] - 1s 2ms/step - loss: 0.3965 - accuracy: 0.8315 - val_loss: 0.3366 - val_accuracy: 0.8650\n",
      "Epoch 253/1000\n",
      "225/225 [==============================] - 1s 2ms/step - loss: 0.3984 - accuracy: 0.8292 - val_loss: 0.3374 - val_accuracy: 0.8612\n",
      "Epoch 254/1000\n",
      "225/225 [==============================] - 1s 2ms/step - loss: 0.3925 - accuracy: 0.8338 - val_loss: 0.3387 - val_accuracy: 0.8675\n",
      "Epoch 255/1000\n",
      "225/225 [==============================] - 1s 2ms/step - loss: 0.3876 - accuracy: 0.8383 - val_loss: 0.3428 - val_accuracy: 0.8662\n",
      "Epoch 256/1000\n",
      "225/225 [==============================] - 1s 2ms/step - loss: 0.3883 - accuracy: 0.8349 - val_loss: 0.3330 - val_accuracy: 0.8687\n",
      "Epoch 257/1000\n",
      "225/225 [==============================] - 1s 3ms/step - loss: 0.3926 - accuracy: 0.8372 - val_loss: 0.3344 - val_accuracy: 0.8662\n",
      "Epoch 258/1000\n",
      "225/225 [==============================] - 1s 2ms/step - loss: 0.3951 - accuracy: 0.8303 - val_loss: 0.3363 - val_accuracy: 0.8650\n",
      "Epoch 259/1000\n",
      "225/225 [==============================] - 1s 3ms/step - loss: 0.4069 - accuracy: 0.8258 - val_loss: 0.3410 - val_accuracy: 0.8662\n",
      "Epoch 260/1000\n",
      "225/225 [==============================] - 1s 2ms/step - loss: 0.4062 - accuracy: 0.8289 - val_loss: 0.3426 - val_accuracy: 0.8687\n",
      "Epoch 261/1000\n",
      "225/225 [==============================] - 1s 2ms/step - loss: 0.3925 - accuracy: 0.8329 - val_loss: 0.3369 - val_accuracy: 0.8637\n",
      "Epoch 262/1000\n",
      "225/225 [==============================] - 1s 2ms/step - loss: 0.3965 - accuracy: 0.8306 - val_loss: 0.3399 - val_accuracy: 0.8600\n",
      "Epoch 263/1000\n",
      "225/225 [==============================] - 1s 2ms/step - loss: 0.3987 - accuracy: 0.8329 - val_loss: 0.3416 - val_accuracy: 0.8650\n",
      "Epoch 264/1000\n",
      "225/225 [==============================] - 1s 2ms/step - loss: 0.3943 - accuracy: 0.8317 - val_loss: 0.3432 - val_accuracy: 0.8637\n",
      "Epoch 265/1000\n",
      "225/225 [==============================] - 1s 2ms/step - loss: 0.4010 - accuracy: 0.8314 - val_loss: 0.3405 - val_accuracy: 0.8675\n",
      "Epoch 266/1000\n",
      "225/225 [==============================] - 1s 2ms/step - loss: 0.3980 - accuracy: 0.8293 - val_loss: 0.3411 - val_accuracy: 0.8662\n",
      "Epoch 267/1000\n",
      "225/225 [==============================] - 1s 2ms/step - loss: 0.3924 - accuracy: 0.8317 - val_loss: 0.3424 - val_accuracy: 0.8650\n",
      "Epoch 268/1000\n",
      "225/225 [==============================] - 1s 2ms/step - loss: 0.3952 - accuracy: 0.8340 - val_loss: 0.3395 - val_accuracy: 0.8600\n",
      "Epoch 269/1000\n",
      "225/225 [==============================] - 1s 2ms/step - loss: 0.3969 - accuracy: 0.8307 - val_loss: 0.3400 - val_accuracy: 0.8637\n",
      "Epoch 270/1000\n",
      "225/225 [==============================] - 1s 3ms/step - loss: 0.3994 - accuracy: 0.8307 - val_loss: 0.3447 - val_accuracy: 0.8650\n",
      "Epoch 271/1000\n",
      "225/225 [==============================] - 1s 2ms/step - loss: 0.3934 - accuracy: 0.8350 - val_loss: 0.3431 - val_accuracy: 0.8625\n",
      "Epoch 272/1000\n",
      "225/225 [==============================] - 1s 3ms/step - loss: 0.3865 - accuracy: 0.8394 - val_loss: 0.3362 - val_accuracy: 0.8637\n",
      "Epoch 273/1000\n",
      "225/225 [==============================] - 1s 3ms/step - loss: 0.3944 - accuracy: 0.8353 - val_loss: 0.3415 - val_accuracy: 0.8637\n",
      "Epoch 274/1000\n",
      "225/225 [==============================] - 1s 3ms/step - loss: 0.3923 - accuracy: 0.8347 - val_loss: 0.3367 - val_accuracy: 0.8725\n",
      "Epoch 275/1000\n",
      "225/225 [==============================] - 1s 3ms/step - loss: 0.3929 - accuracy: 0.8358 - val_loss: 0.3372 - val_accuracy: 0.8712\n",
      "Epoch 276/1000\n",
      "225/225 [==============================] - 1s 2ms/step - loss: 0.3938 - accuracy: 0.8365 - val_loss: 0.3403 - val_accuracy: 0.8675\n",
      "Epoch 277/1000\n",
      "225/225 [==============================] - 1s 3ms/step - loss: 0.3937 - accuracy: 0.8338 - val_loss: 0.3454 - val_accuracy: 0.8612\n",
      "Epoch 278/1000\n",
      "225/225 [==============================] - 1s 3ms/step - loss: 0.3914 - accuracy: 0.8358 - val_loss: 0.3415 - val_accuracy: 0.8650\n",
      "Epoch 279/1000\n",
      "225/225 [==============================] - 1s 2ms/step - loss: 0.3960 - accuracy: 0.8353 - val_loss: 0.3449 - val_accuracy: 0.8662\n",
      "Epoch 280/1000\n",
      "225/225 [==============================] - 1s 3ms/step - loss: 0.3907 - accuracy: 0.8372 - val_loss: 0.3388 - val_accuracy: 0.8700\n",
      "Epoch 281/1000\n"
     ]
    },
    {
     "name": "stdout",
     "output_type": "stream",
     "text": [
      "225/225 [==============================] - 1s 3ms/step - loss: 0.3980 - accuracy: 0.8339 - val_loss: 0.3512 - val_accuracy: 0.8562\n",
      "Epoch 282/1000\n",
      "225/225 [==============================] - 1s 2ms/step - loss: 0.3975 - accuracy: 0.8303 - val_loss: 0.3429 - val_accuracy: 0.8637\n",
      "Epoch 283/1000\n",
      "225/225 [==============================] - 1s 2ms/step - loss: 0.3921 - accuracy: 0.8344 - val_loss: 0.3395 - val_accuracy: 0.8712\n",
      "Epoch 284/1000\n",
      "225/225 [==============================] - 1s 2ms/step - loss: 0.3909 - accuracy: 0.8343 - val_loss: 0.3390 - val_accuracy: 0.8675\n",
      "Epoch 285/1000\n",
      "225/225 [==============================] - 1s 3ms/step - loss: 0.3933 - accuracy: 0.8336 - val_loss: 0.3409 - val_accuracy: 0.8725\n",
      "Epoch 286/1000\n",
      "225/225 [==============================] - 1s 3ms/step - loss: 0.3976 - accuracy: 0.8340 - val_loss: 0.3460 - val_accuracy: 0.8612\n",
      "Epoch 287/1000\n",
      "225/225 [==============================] - 1s 2ms/step - loss: 0.3910 - accuracy: 0.8389 - val_loss: 0.3444 - val_accuracy: 0.8712\n",
      "Epoch 288/1000\n",
      "225/225 [==============================] - 1s 3ms/step - loss: 0.3947 - accuracy: 0.8319 - val_loss: 0.3445 - val_accuracy: 0.8625\n",
      "Epoch 289/1000\n",
      "225/225 [==============================] - 1s 3ms/step - loss: 0.3926 - accuracy: 0.8361 - val_loss: 0.3405 - val_accuracy: 0.8612\n",
      "Epoch 290/1000\n",
      "225/225 [==============================] - 1s 2ms/step - loss: 0.3947 - accuracy: 0.8301 - val_loss: 0.3431 - val_accuracy: 0.8675\n",
      "Epoch 291/1000\n",
      "225/225 [==============================] - 1s 2ms/step - loss: 0.3919 - accuracy: 0.8369 - val_loss: 0.3405 - val_accuracy: 0.8700\n",
      "Epoch 292/1000\n",
      "225/225 [==============================] - 1s 2ms/step - loss: 0.3924 - accuracy: 0.8328 - val_loss: 0.3348 - val_accuracy: 0.8637\n",
      "Epoch 293/1000\n",
      "225/225 [==============================] - 1s 2ms/step - loss: 0.3885 - accuracy: 0.8351 - val_loss: 0.3397 - val_accuracy: 0.8600\n",
      "Epoch 294/1000\n",
      "225/225 [==============================] - 1s 2ms/step - loss: 0.3990 - accuracy: 0.8347 - val_loss: 0.3443 - val_accuracy: 0.8650\n",
      "Epoch 295/1000\n",
      "225/225 [==============================] - 1s 2ms/step - loss: 0.3950 - accuracy: 0.8313 - val_loss: 0.3435 - val_accuracy: 0.8637\n",
      "Epoch 296/1000\n",
      "225/225 [==============================] - 1s 2ms/step - loss: 0.3920 - accuracy: 0.8349 - val_loss: 0.3353 - val_accuracy: 0.8737\n",
      "Epoch 297/1000\n",
      "225/225 [==============================] - 1s 2ms/step - loss: 0.3884 - accuracy: 0.8390 - val_loss: 0.3385 - val_accuracy: 0.8637\n",
      "Epoch 298/1000\n",
      "225/225 [==============================] - 1s 2ms/step - loss: 0.3946 - accuracy: 0.8335 - val_loss: 0.3431 - val_accuracy: 0.8625\n",
      "Epoch 299/1000\n",
      "225/225 [==============================] - 1s 2ms/step - loss: 0.3919 - accuracy: 0.8326 - val_loss: 0.3445 - val_accuracy: 0.8612\n",
      "Epoch 300/1000\n",
      "225/225 [==============================] - 1s 2ms/step - loss: 0.3921 - accuracy: 0.8347 - val_loss: 0.3386 - val_accuracy: 0.8625\n",
      "Epoch 301/1000\n",
      "225/225 [==============================] - 1s 2ms/step - loss: 0.3937 - accuracy: 0.8367 - val_loss: 0.3433 - val_accuracy: 0.8687\n",
      "Epoch 302/1000\n",
      "225/225 [==============================] - 1s 2ms/step - loss: 0.3911 - accuracy: 0.8344 - val_loss: 0.3369 - val_accuracy: 0.8712\n",
      "Epoch 303/1000\n",
      "225/225 [==============================] - 1s 2ms/step - loss: 0.3975 - accuracy: 0.8283 - val_loss: 0.3405 - val_accuracy: 0.8625\n",
      "Epoch 304/1000\n",
      "225/225 [==============================] - 1s 2ms/step - loss: 0.3911 - accuracy: 0.8294 - val_loss: 0.3354 - val_accuracy: 0.8612\n",
      "Epoch 305/1000\n",
      "225/225 [==============================] - 1s 2ms/step - loss: 0.3930 - accuracy: 0.8343 - val_loss: 0.3375 - val_accuracy: 0.8637\n",
      "Epoch 306/1000\n",
      "225/225 [==============================] - 1s 3ms/step - loss: 0.3807 - accuracy: 0.8397 - val_loss: 0.3384 - val_accuracy: 0.8662\n",
      "Epoch 307/1000\n",
      "225/225 [==============================] - 1s 2ms/step - loss: 0.3986 - accuracy: 0.8286 - val_loss: 0.3385 - val_accuracy: 0.8637\n",
      "Epoch 308/1000\n",
      "225/225 [==============================] - 1s 3ms/step - loss: 0.3932 - accuracy: 0.8328 - val_loss: 0.3384 - val_accuracy: 0.8612\n",
      "Epoch 309/1000\n",
      "225/225 [==============================] - 1s 2ms/step - loss: 0.3971 - accuracy: 0.8331 - val_loss: 0.3384 - val_accuracy: 0.8675\n",
      "Epoch 310/1000\n",
      "225/225 [==============================] - 1s 2ms/step - loss: 0.3881 - accuracy: 0.8360 - val_loss: 0.3423 - val_accuracy: 0.8662\n",
      "Epoch 311/1000\n",
      "225/225 [==============================] - 1s 2ms/step - loss: 0.3977 - accuracy: 0.8343 - val_loss: 0.3454 - val_accuracy: 0.8662\n",
      "Epoch 312/1000\n",
      "225/225 [==============================] - 1s 2ms/step - loss: 0.3902 - accuracy: 0.8371 - val_loss: 0.3405 - val_accuracy: 0.8637\n",
      "Epoch 313/1000\n",
      "225/225 [==============================] - 1s 2ms/step - loss: 0.3956 - accuracy: 0.8347 - val_loss: 0.3407 - val_accuracy: 0.8650\n",
      "Epoch 314/1000\n",
      "225/225 [==============================] - 1s 2ms/step - loss: 0.3962 - accuracy: 0.8324 - val_loss: 0.3391 - val_accuracy: 0.8662\n",
      "Epoch 315/1000\n",
      "225/225 [==============================] - 1s 2ms/step - loss: 0.3863 - accuracy: 0.8372 - val_loss: 0.3366 - val_accuracy: 0.8650\n",
      "Epoch 316/1000\n",
      "225/225 [==============================] - 1s 2ms/step - loss: 0.3866 - accuracy: 0.8360 - val_loss: 0.3404 - val_accuracy: 0.8662\n",
      "Epoch 317/1000\n",
      "225/225 [==============================] - 1s 3ms/step - loss: 0.3960 - accuracy: 0.8349 - val_loss: 0.3474 - val_accuracy: 0.8600\n",
      "Epoch 318/1000\n",
      "225/225 [==============================] - 1s 3ms/step - loss: 0.3935 - accuracy: 0.8379 - val_loss: 0.3430 - val_accuracy: 0.8700\n",
      "Epoch 319/1000\n",
      "225/225 [==============================] - 1s 2ms/step - loss: 0.3911 - accuracy: 0.8347 - val_loss: 0.3428 - val_accuracy: 0.8662\n",
      "Epoch 320/1000\n",
      "225/225 [==============================] - 1s 3ms/step - loss: 0.3905 - accuracy: 0.8397 - val_loss: 0.3414 - val_accuracy: 0.8662\n",
      "Epoch 321/1000\n",
      "225/225 [==============================] - 1s 3ms/step - loss: 0.4024 - accuracy: 0.8314 - val_loss: 0.3454 - val_accuracy: 0.8625\n",
      "Epoch 322/1000\n",
      "225/225 [==============================] - 1s 3ms/step - loss: 0.3897 - accuracy: 0.8356 - val_loss: 0.3433 - val_accuracy: 0.8675\n",
      "Epoch 323/1000\n",
      "225/225 [==============================] - 1s 2ms/step - loss: 0.3912 - accuracy: 0.8326 - val_loss: 0.3415 - val_accuracy: 0.8662\n",
      "Epoch 324/1000\n",
      "225/225 [==============================] - 1s 2ms/step - loss: 0.3909 - accuracy: 0.8288 - val_loss: 0.3427 - val_accuracy: 0.8637\n",
      "Epoch 325/1000\n",
      "225/225 [==============================] - 1s 2ms/step - loss: 0.3885 - accuracy: 0.8365 - val_loss: 0.3442 - val_accuracy: 0.8612\n",
      "Epoch 326/1000\n",
      "225/225 [==============================] - 1s 2ms/step - loss: 0.3930 - accuracy: 0.8371 - val_loss: 0.3436 - val_accuracy: 0.8637\n",
      "Epoch 327/1000\n",
      "225/225 [==============================] - 1s 3ms/step - loss: 0.3915 - accuracy: 0.8344 - val_loss: 0.3442 - val_accuracy: 0.8600\n",
      "Epoch 328/1000\n",
      "225/225 [==============================] - 1s 3ms/step - loss: 0.3952 - accuracy: 0.8357 - val_loss: 0.3377 - val_accuracy: 0.8712\n",
      "Epoch 329/1000\n",
      "225/225 [==============================] - 1s 2ms/step - loss: 0.3959 - accuracy: 0.8382 - val_loss: 0.3379 - val_accuracy: 0.8700\n",
      "Epoch 330/1000\n",
      "225/225 [==============================] - 1s 3ms/step - loss: 0.3928 - accuracy: 0.8375 - val_loss: 0.3443 - val_accuracy: 0.8675\n",
      "Epoch 331/1000\n",
      "225/225 [==============================] - 1s 2ms/step - loss: 0.3961 - accuracy: 0.8340 - val_loss: 0.3422 - val_accuracy: 0.8662\n",
      "Epoch 332/1000\n",
      "225/225 [==============================] - 1s 2ms/step - loss: 0.3904 - accuracy: 0.8318 - val_loss: 0.3434 - val_accuracy: 0.8675\n",
      "Epoch 333/1000\n",
      "225/225 [==============================] - 1s 2ms/step - loss: 0.3933 - accuracy: 0.8364 - val_loss: 0.3402 - val_accuracy: 0.8662\n",
      "Epoch 334/1000\n",
      "225/225 [==============================] - 1s 2ms/step - loss: 0.3932 - accuracy: 0.8378 - val_loss: 0.3373 - val_accuracy: 0.8637\n",
      "Epoch 335/1000\n",
      "225/225 [==============================] - 1s 2ms/step - loss: 0.3915 - accuracy: 0.8354 - val_loss: 0.3369 - val_accuracy: 0.8687\n",
      "Epoch 336/1000\n",
      "225/225 [==============================] - 1s 2ms/step - loss: 0.3948 - accuracy: 0.8349 - val_loss: 0.3420 - val_accuracy: 0.8725\n",
      "Epoch 337/1000\n"
     ]
    },
    {
     "name": "stdout",
     "output_type": "stream",
     "text": [
      "225/225 [==============================] - 1s 3ms/step - loss: 0.3895 - accuracy: 0.8356 - val_loss: 0.3403 - val_accuracy: 0.8687\n",
      "Epoch 338/1000\n",
      "225/225 [==============================] - 1s 2ms/step - loss: 0.3867 - accuracy: 0.8396 - val_loss: 0.3394 - val_accuracy: 0.8775\n",
      "Epoch 339/1000\n",
      "225/225 [==============================] - 1s 2ms/step - loss: 0.3936 - accuracy: 0.8339 - val_loss: 0.3433 - val_accuracy: 0.8675\n",
      "Epoch 340/1000\n",
      "225/225 [==============================] - 1s 3ms/step - loss: 0.3938 - accuracy: 0.8389 - val_loss: 0.3550 - val_accuracy: 0.8562\n",
      "Epoch 341/1000\n",
      "225/225 [==============================] - 1s 2ms/step - loss: 0.3873 - accuracy: 0.8371 - val_loss: 0.3378 - val_accuracy: 0.8662\n",
      "Epoch 342/1000\n",
      "225/225 [==============================] - 1s 2ms/step - loss: 0.3928 - accuracy: 0.8368 - val_loss: 0.3414 - val_accuracy: 0.8650\n",
      "Epoch 343/1000\n",
      "225/225 [==============================] - 1s 2ms/step - loss: 0.3911 - accuracy: 0.8344 - val_loss: 0.3403 - val_accuracy: 0.8650\n",
      "Epoch 344/1000\n",
      "225/225 [==============================] - 1s 2ms/step - loss: 0.3895 - accuracy: 0.8350 - val_loss: 0.3391 - val_accuracy: 0.8675\n",
      "Epoch 345/1000\n",
      "225/225 [==============================] - 1s 3ms/step - loss: 0.3907 - accuracy: 0.8324 - val_loss: 0.3408 - val_accuracy: 0.8687\n",
      "Epoch 346/1000\n",
      "225/225 [==============================] - 1s 2ms/step - loss: 0.3994 - accuracy: 0.8301 - val_loss: 0.3432 - val_accuracy: 0.8600\n",
      "Epoch 347/1000\n",
      "225/225 [==============================] - 1s 2ms/step - loss: 0.3854 - accuracy: 0.8383 - val_loss: 0.3408 - val_accuracy: 0.8637\n",
      "Epoch 348/1000\n",
      "225/225 [==============================] - 1s 2ms/step - loss: 0.3872 - accuracy: 0.8338 - val_loss: 0.3319 - val_accuracy: 0.8712\n",
      "Epoch 349/1000\n",
      "225/225 [==============================] - 1s 2ms/step - loss: 0.3881 - accuracy: 0.8358 - val_loss: 0.3473 - val_accuracy: 0.8612\n",
      "Epoch 350/1000\n",
      "225/225 [==============================] - 1s 2ms/step - loss: 0.3863 - accuracy: 0.8394 - val_loss: 0.3436 - val_accuracy: 0.8612\n",
      "Epoch 351/1000\n",
      "225/225 [==============================] - 1s 2ms/step - loss: 0.3947 - accuracy: 0.8332 - val_loss: 0.3431 - val_accuracy: 0.8650\n",
      "Epoch 352/1000\n",
      "225/225 [==============================] - 1s 3ms/step - loss: 0.3940 - accuracy: 0.8346 - val_loss: 0.3416 - val_accuracy: 0.8625\n",
      "Epoch 353/1000\n",
      "225/225 [==============================] - 1s 2ms/step - loss: 0.3912 - accuracy: 0.8349 - val_loss: 0.3366 - val_accuracy: 0.8662\n",
      "Epoch 354/1000\n",
      "225/225 [==============================] - 1s 2ms/step - loss: 0.3924 - accuracy: 0.8383 - val_loss: 0.3402 - val_accuracy: 0.8625\n",
      "Epoch 355/1000\n",
      "225/225 [==============================] - 1s 3ms/step - loss: 0.3864 - accuracy: 0.8393 - val_loss: 0.3399 - val_accuracy: 0.8687\n",
      "Epoch 356/1000\n",
      "225/225 [==============================] - 1s 2ms/step - loss: 0.3930 - accuracy: 0.8371 - val_loss: 0.3426 - val_accuracy: 0.8650\n",
      "Epoch 357/1000\n",
      "225/225 [==============================] - 1s 2ms/step - loss: 0.4003 - accuracy: 0.8342 - val_loss: 0.3390 - val_accuracy: 0.8675\n",
      "Epoch 358/1000\n",
      "225/225 [==============================] - 1s 2ms/step - loss: 0.3911 - accuracy: 0.8339 - val_loss: 0.3436 - val_accuracy: 0.8650\n",
      "Epoch 359/1000\n",
      "225/225 [==============================] - 1s 2ms/step - loss: 0.3934 - accuracy: 0.8317 - val_loss: 0.3401 - val_accuracy: 0.8675\n",
      "Epoch 360/1000\n",
      "225/225 [==============================] - 1s 3ms/step - loss: 0.3894 - accuracy: 0.8303 - val_loss: 0.3424 - val_accuracy: 0.8625\n",
      "Epoch 361/1000\n",
      "225/225 [==============================] - 1s 2ms/step - loss: 0.3881 - accuracy: 0.8367 - val_loss: 0.3390 - val_accuracy: 0.8600\n",
      "Epoch 362/1000\n",
      "225/225 [==============================] - 1s 2ms/step - loss: 0.3901 - accuracy: 0.8300 - val_loss: 0.3481 - val_accuracy: 0.8625\n",
      "Epoch 363/1000\n",
      "225/225 [==============================] - 1s 2ms/step - loss: 0.3898 - accuracy: 0.8335 - val_loss: 0.3431 - val_accuracy: 0.8650\n",
      "Epoch 364/1000\n",
      "225/225 [==============================] - 1s 3ms/step - loss: 0.3986 - accuracy: 0.8251 - val_loss: 0.3470 - val_accuracy: 0.8637\n",
      "Epoch 365/1000\n",
      "225/225 [==============================] - 1s 3ms/step - loss: 0.3841 - accuracy: 0.8367 - val_loss: 0.3494 - val_accuracy: 0.8625\n",
      "Epoch 366/1000\n",
      "225/225 [==============================] - 1s 3ms/step - loss: 0.3903 - accuracy: 0.8354 - val_loss: 0.3428 - val_accuracy: 0.8637\n",
      "Epoch 367/1000\n",
      "225/225 [==============================] - 1s 3ms/step - loss: 0.3942 - accuracy: 0.8340 - val_loss: 0.3450 - val_accuracy: 0.8650\n",
      "Epoch 368/1000\n",
      "225/225 [==============================] - 1s 4ms/step - loss: 0.3927 - accuracy: 0.8315 - val_loss: 0.3495 - val_accuracy: 0.8650\n",
      "Epoch 369/1000\n",
      "225/225 [==============================] - 1s 3ms/step - loss: 0.3874 - accuracy: 0.8343 - val_loss: 0.3434 - val_accuracy: 0.8675\n",
      "Epoch 370/1000\n",
      "225/225 [==============================] - 1s 3ms/step - loss: 0.3925 - accuracy: 0.8381 - val_loss: 0.3395 - val_accuracy: 0.8675\n",
      "Epoch 371/1000\n",
      "225/225 [==============================] - 1s 3ms/step - loss: 0.3875 - accuracy: 0.8350 - val_loss: 0.3448 - val_accuracy: 0.8650\n",
      "Epoch 372/1000\n",
      "225/225 [==============================] - 1s 3ms/step - loss: 0.3990 - accuracy: 0.8317 - val_loss: 0.3466 - val_accuracy: 0.8662\n",
      "Epoch 373/1000\n",
      "225/225 [==============================] - 1s 3ms/step - loss: 0.3938 - accuracy: 0.8368 - val_loss: 0.3438 - val_accuracy: 0.8700\n",
      "Epoch 374/1000\n",
      "225/225 [==============================] - 1s 3ms/step - loss: 0.3968 - accuracy: 0.8314 - val_loss: 0.3398 - val_accuracy: 0.8650\n",
      "Epoch 375/1000\n",
      "225/225 [==============================] - 1s 3ms/step - loss: 0.3903 - accuracy: 0.8338 - val_loss: 0.3364 - val_accuracy: 0.8662\n",
      "Epoch 376/1000\n",
      "225/225 [==============================] - 1s 3ms/step - loss: 0.3863 - accuracy: 0.8368 - val_loss: 0.3336 - val_accuracy: 0.8725\n",
      "Epoch 377/1000\n",
      "225/225 [==============================] - 1s 3ms/step - loss: 0.3913 - accuracy: 0.8299 - val_loss: 0.3389 - val_accuracy: 0.8687\n",
      "Epoch 378/1000\n",
      "225/225 [==============================] - 1s 3ms/step - loss: 0.3917 - accuracy: 0.8338 - val_loss: 0.3455 - val_accuracy: 0.8612\n",
      "Epoch 379/1000\n",
      "225/225 [==============================] - 1s 3ms/step - loss: 0.3884 - accuracy: 0.8365 - val_loss: 0.3512 - val_accuracy: 0.8625\n",
      "Epoch 380/1000\n",
      "225/225 [==============================] - 1s 3ms/step - loss: 0.3834 - accuracy: 0.8393 - val_loss: 0.3481 - val_accuracy: 0.8600\n",
      "Epoch 381/1000\n",
      "225/225 [==============================] - 1s 3ms/step - loss: 0.3913 - accuracy: 0.8386 - val_loss: 0.3488 - val_accuracy: 0.8700\n",
      "Epoch 382/1000\n",
      "225/225 [==============================] - 1s 3ms/step - loss: 0.3969 - accuracy: 0.8349 - val_loss: 0.3471 - val_accuracy: 0.8725\n",
      "Epoch 383/1000\n",
      "225/225 [==============================] - 1s 3ms/step - loss: 0.3872 - accuracy: 0.8367 - val_loss: 0.3434 - val_accuracy: 0.8637\n",
      "Epoch 384/1000\n",
      "225/225 [==============================] - 1s 3ms/step - loss: 0.3974 - accuracy: 0.8335 - val_loss: 0.3428 - val_accuracy: 0.8712\n",
      "Epoch 385/1000\n",
      "225/225 [==============================] - 1s 3ms/step - loss: 0.3923 - accuracy: 0.8335 - val_loss: 0.3485 - val_accuracy: 0.8675\n",
      "Epoch 386/1000\n",
      "225/225 [==============================] - 1s 4ms/step - loss: 0.3869 - accuracy: 0.8383 - val_loss: 0.3412 - val_accuracy: 0.8737\n",
      "Epoch 387/1000\n",
      "225/225 [==============================] - 1s 4ms/step - loss: 0.3929 - accuracy: 0.8351 - val_loss: 0.3469 - val_accuracy: 0.8662\n",
      "Epoch 388/1000\n",
      "225/225 [==============================] - 1s 3ms/step - loss: 0.3938 - accuracy: 0.8357 - val_loss: 0.3466 - val_accuracy: 0.8712\n",
      "Epoch 389/1000\n",
      "225/225 [==============================] - 1s 3ms/step - loss: 0.3937 - accuracy: 0.8344 - val_loss: 0.3461 - val_accuracy: 0.8675\n",
      "Epoch 390/1000\n",
      "225/225 [==============================] - 1s 3ms/step - loss: 0.3899 - accuracy: 0.8340 - val_loss: 0.3420 - val_accuracy: 0.8637\n",
      "Epoch 391/1000\n",
      "225/225 [==============================] - 1s 3ms/step - loss: 0.3888 - accuracy: 0.8349 - val_loss: 0.3463 - val_accuracy: 0.8650\n",
      "Epoch 392/1000\n",
      "225/225 [==============================] - 1s 3ms/step - loss: 0.3872 - accuracy: 0.8397 - val_loss: 0.3448 - val_accuracy: 0.8687\n",
      "Epoch 393/1000\n"
     ]
    },
    {
     "name": "stdout",
     "output_type": "stream",
     "text": [
      "225/225 [==============================] - 1s 2ms/step - loss: 0.3924 - accuracy: 0.8351 - val_loss: 0.3482 - val_accuracy: 0.8700\n",
      "Epoch 394/1000\n",
      "225/225 [==============================] - 1s 2ms/step - loss: 0.3910 - accuracy: 0.8340 - val_loss: 0.3475 - val_accuracy: 0.8687\n",
      "Epoch 395/1000\n",
      "225/225 [==============================] - 1s 2ms/step - loss: 0.3903 - accuracy: 0.8364 - val_loss: 0.3495 - val_accuracy: 0.8763\n",
      "Epoch 396/1000\n",
      "225/225 [==============================] - 1s 2ms/step - loss: 0.3930 - accuracy: 0.8336 - val_loss: 0.3475 - val_accuracy: 0.8650\n",
      "Epoch 397/1000\n",
      "225/225 [==============================] - 1s 2ms/step - loss: 0.3958 - accuracy: 0.8325 - val_loss: 0.3409 - val_accuracy: 0.8700\n",
      "Epoch 398/1000\n",
      "225/225 [==============================] - 1s 2ms/step - loss: 0.3938 - accuracy: 0.8357 - val_loss: 0.3478 - val_accuracy: 0.8650\n",
      "Epoch 399/1000\n",
      "225/225 [==============================] - 1s 2ms/step - loss: 0.3840 - accuracy: 0.8403 - val_loss: 0.3361 - val_accuracy: 0.8687\n",
      "Epoch 400/1000\n",
      "225/225 [==============================] - 1s 3ms/step - loss: 0.3932 - accuracy: 0.8349 - val_loss: 0.3467 - val_accuracy: 0.8650\n",
      "Epoch 401/1000\n",
      "225/225 [==============================] - 1s 2ms/step - loss: 0.3967 - accuracy: 0.8342 - val_loss: 0.3431 - val_accuracy: 0.8650\n",
      "Epoch 402/1000\n",
      "225/225 [==============================] - 1s 3ms/step - loss: 0.3898 - accuracy: 0.8388 - val_loss: 0.3376 - val_accuracy: 0.8737\n",
      "Epoch 403/1000\n",
      "225/225 [==============================] - 1s 2ms/step - loss: 0.3923 - accuracy: 0.8363 - val_loss: 0.3445 - val_accuracy: 0.8700\n",
      "Epoch 404/1000\n",
      "225/225 [==============================] - 1s 2ms/step - loss: 0.3860 - accuracy: 0.8343 - val_loss: 0.3539 - val_accuracy: 0.8662\n",
      "Epoch 405/1000\n",
      "225/225 [==============================] - 1s 2ms/step - loss: 0.3985 - accuracy: 0.8317 - val_loss: 0.3462 - val_accuracy: 0.8725\n",
      "Epoch 406/1000\n",
      "225/225 [==============================] - 1s 2ms/step - loss: 0.3900 - accuracy: 0.8346 - val_loss: 0.3397 - val_accuracy: 0.8725\n",
      "Epoch 407/1000\n",
      "225/225 [==============================] - 1s 3ms/step - loss: 0.3918 - accuracy: 0.8372 - val_loss: 0.3461 - val_accuracy: 0.8637\n",
      "Epoch 408/1000\n",
      "225/225 [==============================] - 1s 2ms/step - loss: 0.3909 - accuracy: 0.8381 - val_loss: 0.3455 - val_accuracy: 0.8675\n",
      "Epoch 409/1000\n",
      "225/225 [==============================] - 1s 2ms/step - loss: 0.3901 - accuracy: 0.8344 - val_loss: 0.3439 - val_accuracy: 0.8625\n",
      "Epoch 410/1000\n",
      "225/225 [==============================] - 1s 2ms/step - loss: 0.3819 - accuracy: 0.8413 - val_loss: 0.3450 - val_accuracy: 0.8675\n",
      "Epoch 411/1000\n",
      "225/225 [==============================] - 1s 3ms/step - loss: 0.3856 - accuracy: 0.8351 - val_loss: 0.3497 - val_accuracy: 0.8662\n",
      "Epoch 412/1000\n",
      "225/225 [==============================] - 1s 2ms/step - loss: 0.3872 - accuracy: 0.8368 - val_loss: 0.3450 - val_accuracy: 0.8763\n",
      "Epoch 413/1000\n",
      "225/225 [==============================] - 1s 3ms/step - loss: 0.3921 - accuracy: 0.8342 - val_loss: 0.3426 - val_accuracy: 0.8687\n",
      "Epoch 414/1000\n",
      "225/225 [==============================] - 1s 2ms/step - loss: 0.3886 - accuracy: 0.8342 - val_loss: 0.3502 - val_accuracy: 0.8712\n",
      "Epoch 415/1000\n",
      "225/225 [==============================] - 1s 2ms/step - loss: 0.3942 - accuracy: 0.8361 - val_loss: 0.3476 - val_accuracy: 0.8650\n",
      "Epoch 416/1000\n",
      "225/225 [==============================] - 1s 2ms/step - loss: 0.3872 - accuracy: 0.8347 - val_loss: 0.3515 - val_accuracy: 0.8662\n",
      "Epoch 417/1000\n",
      "225/225 [==============================] - 1s 2ms/step - loss: 0.3940 - accuracy: 0.8368 - val_loss: 0.3391 - val_accuracy: 0.8687\n",
      "Epoch 418/1000\n",
      "225/225 [==============================] - 1s 3ms/step - loss: 0.3864 - accuracy: 0.8389 - val_loss: 0.3419 - val_accuracy: 0.8687\n",
      "Epoch 419/1000\n",
      "225/225 [==============================] - 1s 3ms/step - loss: 0.3961 - accuracy: 0.8333 - val_loss: 0.3523 - val_accuracy: 0.8650\n",
      "Epoch 420/1000\n",
      "225/225 [==============================] - 1s 2ms/step - loss: 0.3832 - accuracy: 0.8436 - val_loss: 0.3455 - val_accuracy: 0.8712\n",
      "Epoch 421/1000\n",
      "225/225 [==============================] - 1s 2ms/step - loss: 0.3932 - accuracy: 0.8360 - val_loss: 0.3416 - val_accuracy: 0.8737\n",
      "Epoch 422/1000\n",
      "225/225 [==============================] - 1s 2ms/step - loss: 0.3869 - accuracy: 0.8347 - val_loss: 0.3420 - val_accuracy: 0.8700\n",
      "Epoch 423/1000\n",
      "225/225 [==============================] - 1s 2ms/step - loss: 0.3879 - accuracy: 0.8358 - val_loss: 0.3464 - val_accuracy: 0.8712\n",
      "Epoch 424/1000\n",
      "225/225 [==============================] - 1s 3ms/step - loss: 0.3845 - accuracy: 0.8357 - val_loss: 0.3528 - val_accuracy: 0.8700\n",
      "Epoch 425/1000\n",
      "225/225 [==============================] - 1s 2ms/step - loss: 0.3881 - accuracy: 0.8336 - val_loss: 0.3449 - val_accuracy: 0.8700\n",
      "Epoch 426/1000\n",
      "225/225 [==============================] - 1s 3ms/step - loss: 0.3828 - accuracy: 0.8369 - val_loss: 0.3471 - val_accuracy: 0.8687\n",
      "Epoch 427/1000\n",
      "225/225 [==============================] - 1s 3ms/step - loss: 0.3849 - accuracy: 0.8360 - val_loss: 0.3505 - val_accuracy: 0.8650\n",
      "Epoch 428/1000\n",
      "225/225 [==============================] - 1s 2ms/step - loss: 0.3909 - accuracy: 0.8368 - val_loss: 0.3471 - val_accuracy: 0.8725\n",
      "Epoch 429/1000\n",
      "225/225 [==============================] - 1s 2ms/step - loss: 0.3920 - accuracy: 0.8340 - val_loss: 0.3454 - val_accuracy: 0.8687\n",
      "Epoch 430/1000\n",
      "225/225 [==============================] - 1s 3ms/step - loss: 0.3906 - accuracy: 0.8374 - val_loss: 0.3494 - val_accuracy: 0.8700\n",
      "Epoch 431/1000\n",
      "225/225 [==============================] - 1s 3ms/step - loss: 0.3811 - accuracy: 0.8406 - val_loss: 0.3466 - val_accuracy: 0.8700\n",
      "Epoch 432/1000\n",
      "225/225 [==============================] - 1s 3ms/step - loss: 0.3980 - accuracy: 0.8338 - val_loss: 0.3477 - val_accuracy: 0.8700\n",
      "Epoch 433/1000\n",
      "225/225 [==============================] - 1s 3ms/step - loss: 0.3905 - accuracy: 0.8360 - val_loss: 0.3408 - val_accuracy: 0.8700\n",
      "Epoch 434/1000\n",
      "225/225 [==============================] - 1s 2ms/step - loss: 0.3998 - accuracy: 0.8283 - val_loss: 0.3461 - val_accuracy: 0.8725\n",
      "Epoch 435/1000\n",
      "225/225 [==============================] - 1s 3ms/step - loss: 0.3899 - accuracy: 0.8378 - val_loss: 0.3453 - val_accuracy: 0.8650\n",
      "Epoch 436/1000\n",
      "225/225 [==============================] - 1s 3ms/step - loss: 0.3923 - accuracy: 0.8339 - val_loss: 0.3482 - val_accuracy: 0.8675\n",
      "Epoch 437/1000\n",
      "225/225 [==============================] - 1s 3ms/step - loss: 0.3856 - accuracy: 0.8368 - val_loss: 0.3407 - val_accuracy: 0.8700\n",
      "Epoch 438/1000\n",
      "225/225 [==============================] - 1s 3ms/step - loss: 0.3944 - accuracy: 0.8360 - val_loss: 0.3493 - val_accuracy: 0.8750\n",
      "Epoch 439/1000\n",
      "225/225 [==============================] - 1s 3ms/step - loss: 0.3946 - accuracy: 0.8349 - val_loss: 0.3423 - val_accuracy: 0.8625\n",
      "Epoch 440/1000\n",
      "225/225 [==============================] - 1s 3ms/step - loss: 0.3913 - accuracy: 0.8363 - val_loss: 0.3466 - val_accuracy: 0.8625\n",
      "Epoch 441/1000\n",
      "225/225 [==============================] - 1s 2ms/step - loss: 0.3851 - accuracy: 0.8413 - val_loss: 0.3472 - val_accuracy: 0.8650\n",
      "Epoch 442/1000\n",
      "225/225 [==============================] - 1s 2ms/step - loss: 0.3878 - accuracy: 0.8381 - val_loss: 0.3508 - val_accuracy: 0.8650\n",
      "Epoch 443/1000\n",
      "225/225 [==============================] - 1s 2ms/step - loss: 0.3985 - accuracy: 0.8342 - val_loss: 0.3462 - val_accuracy: 0.8687\n",
      "Epoch 444/1000\n",
      "225/225 [==============================] - 1s 2ms/step - loss: 0.3919 - accuracy: 0.8357 - val_loss: 0.3492 - val_accuracy: 0.8687\n",
      "Epoch 445/1000\n",
      "225/225 [==============================] - 1s 2ms/step - loss: 0.3940 - accuracy: 0.8293 - val_loss: 0.3478 - val_accuracy: 0.8662\n",
      "Epoch 446/1000\n",
      "225/225 [==============================] - 1s 2ms/step - loss: 0.3912 - accuracy: 0.8333 - val_loss: 0.3496 - val_accuracy: 0.8650\n",
      "Epoch 447/1000\n",
      "225/225 [==============================] - 1s 2ms/step - loss: 0.3927 - accuracy: 0.8349 - val_loss: 0.3462 - val_accuracy: 0.8675\n",
      "Epoch 448/1000\n",
      "225/225 [==============================] - 1s 3ms/step - loss: 0.3841 - accuracy: 0.8388 - val_loss: 0.3552 - val_accuracy: 0.8637\n",
      "Epoch 449/1000\n"
     ]
    },
    {
     "name": "stdout",
     "output_type": "stream",
     "text": [
      "225/225 [==============================] - 1s 2ms/step - loss: 0.3895 - accuracy: 0.8392 - val_loss: 0.3516 - val_accuracy: 0.8687\n",
      "Epoch 450/1000\n",
      "225/225 [==============================] - 1s 2ms/step - loss: 0.3956 - accuracy: 0.8326 - val_loss: 0.3494 - val_accuracy: 0.8637\n",
      "Epoch 451/1000\n",
      "225/225 [==============================] - 1s 3ms/step - loss: 0.3905 - accuracy: 0.8354 - val_loss: 0.3425 - val_accuracy: 0.8712\n",
      "Epoch 452/1000\n",
      "225/225 [==============================] - 1s 2ms/step - loss: 0.3866 - accuracy: 0.8397 - val_loss: 0.3486 - val_accuracy: 0.8650\n",
      "Epoch 453/1000\n",
      "225/225 [==============================] - 1s 2ms/step - loss: 0.3873 - accuracy: 0.8354 - val_loss: 0.3413 - val_accuracy: 0.8687\n",
      "Epoch 454/1000\n",
      "225/225 [==============================] - 1s 2ms/step - loss: 0.3950 - accuracy: 0.8351 - val_loss: 0.3426 - val_accuracy: 0.8712\n",
      "Epoch 455/1000\n",
      "225/225 [==============================] - 1s 2ms/step - loss: 0.3906 - accuracy: 0.8354 - val_loss: 0.3463 - val_accuracy: 0.8662\n",
      "Epoch 456/1000\n",
      "225/225 [==============================] - 1s 2ms/step - loss: 0.3853 - accuracy: 0.8400 - val_loss: 0.3428 - val_accuracy: 0.8662\n",
      "Epoch 457/1000\n",
      "225/225 [==============================] - 1s 2ms/step - loss: 0.3898 - accuracy: 0.8344 - val_loss: 0.3437 - val_accuracy: 0.8687\n",
      "Epoch 458/1000\n",
      "225/225 [==============================] - 1s 2ms/step - loss: 0.3887 - accuracy: 0.8371 - val_loss: 0.3480 - val_accuracy: 0.8662\n",
      "Epoch 459/1000\n",
      "225/225 [==============================] - 1s 3ms/step - loss: 0.3956 - accuracy: 0.8326 - val_loss: 0.3519 - val_accuracy: 0.8637\n",
      "Epoch 460/1000\n",
      "225/225 [==============================] - 1s 3ms/step - loss: 0.3906 - accuracy: 0.8389 - val_loss: 0.3508 - val_accuracy: 0.8625\n",
      "Epoch 461/1000\n",
      "225/225 [==============================] - 1s 3ms/step - loss: 0.3958 - accuracy: 0.8313 - val_loss: 0.3566 - val_accuracy: 0.8675\n",
      "Epoch 462/1000\n",
      "225/225 [==============================] - 1s 2ms/step - loss: 0.3921 - accuracy: 0.8360 - val_loss: 0.3453 - val_accuracy: 0.8700\n",
      "Epoch 463/1000\n",
      "225/225 [==============================] - 1s 2ms/step - loss: 0.3860 - accuracy: 0.8356 - val_loss: 0.3413 - val_accuracy: 0.8750\n",
      "Epoch 464/1000\n",
      "225/225 [==============================] - 1s 2ms/step - loss: 0.3858 - accuracy: 0.8358 - val_loss: 0.3487 - val_accuracy: 0.8637\n",
      "Epoch 465/1000\n",
      "225/225 [==============================] - 1s 2ms/step - loss: 0.3960 - accuracy: 0.8335 - val_loss: 0.3507 - val_accuracy: 0.8687\n",
      "Epoch 466/1000\n",
      "225/225 [==============================] - 1s 2ms/step - loss: 0.3891 - accuracy: 0.8368 - val_loss: 0.3517 - val_accuracy: 0.8675\n",
      "Epoch 467/1000\n",
      "225/225 [==============================] - 1s 3ms/step - loss: 0.3865 - accuracy: 0.8365 - val_loss: 0.3504 - val_accuracy: 0.8700\n",
      "Epoch 468/1000\n",
      "225/225 [==============================] - 1s 2ms/step - loss: 0.3882 - accuracy: 0.8386 - val_loss: 0.3559 - val_accuracy: 0.8662\n",
      "Epoch 469/1000\n",
      "225/225 [==============================] - 1s 2ms/step - loss: 0.3917 - accuracy: 0.8381 - val_loss: 0.3511 - val_accuracy: 0.8650\n",
      "Epoch 470/1000\n",
      "225/225 [==============================] - 1s 2ms/step - loss: 0.3951 - accuracy: 0.8358 - val_loss: 0.3471 - val_accuracy: 0.8662\n",
      "Epoch 471/1000\n",
      "225/225 [==============================] - 1s 2ms/step - loss: 0.3911 - accuracy: 0.8376 - val_loss: 0.3526 - val_accuracy: 0.8700\n",
      "Epoch 472/1000\n",
      "225/225 [==============================] - 1s 2ms/step - loss: 0.3840 - accuracy: 0.8408 - val_loss: 0.3533 - val_accuracy: 0.8687\n",
      "Epoch 473/1000\n",
      "225/225 [==============================] - 1s 2ms/step - loss: 0.4020 - accuracy: 0.8299 - val_loss: 0.3491 - val_accuracy: 0.8700\n",
      "Epoch 474/1000\n",
      "225/225 [==============================] - 1s 3ms/step - loss: 0.3905 - accuracy: 0.8331 - val_loss: 0.3472 - val_accuracy: 0.8687\n",
      "Epoch 475/1000\n",
      "225/225 [==============================] - 1s 3ms/step - loss: 0.3904 - accuracy: 0.8321 - val_loss: 0.3423 - val_accuracy: 0.8700\n",
      "Epoch 476/1000\n",
      "225/225 [==============================] - 1s 3ms/step - loss: 0.3936 - accuracy: 0.8325 - val_loss: 0.3422 - val_accuracy: 0.8675\n",
      "Epoch 477/1000\n",
      "225/225 [==============================] - 1s 2ms/step - loss: 0.3894 - accuracy: 0.8360 - val_loss: 0.3402 - val_accuracy: 0.8675\n",
      "Epoch 478/1000\n",
      "225/225 [==============================] - 1s 2ms/step - loss: 0.3855 - accuracy: 0.8407 - val_loss: 0.3438 - val_accuracy: 0.8700\n",
      "Epoch 479/1000\n",
      "225/225 [==============================] - 1s 2ms/step - loss: 0.3902 - accuracy: 0.8342 - val_loss: 0.3418 - val_accuracy: 0.8700\n",
      "Epoch 480/1000\n",
      "225/225 [==============================] - 1s 3ms/step - loss: 0.3938 - accuracy: 0.8325 - val_loss: 0.3554 - val_accuracy: 0.8612\n",
      "Epoch 481/1000\n",
      "225/225 [==============================] - 1s 3ms/step - loss: 0.3906 - accuracy: 0.8338 - val_loss: 0.3533 - val_accuracy: 0.8700\n",
      "Epoch 482/1000\n",
      "225/225 [==============================] - 1s 3ms/step - loss: 0.3915 - accuracy: 0.8340 - val_loss: 0.3498 - val_accuracy: 0.8675\n",
      "Epoch 483/1000\n",
      "225/225 [==============================] - 1s 3ms/step - loss: 0.3913 - accuracy: 0.8338 - val_loss: 0.3510 - val_accuracy: 0.8725\n",
      "Epoch 484/1000\n",
      "225/225 [==============================] - 1s 2ms/step - loss: 0.3895 - accuracy: 0.8322 - val_loss: 0.3521 - val_accuracy: 0.8750\n",
      "Epoch 485/1000\n",
      "225/225 [==============================] - 1s 2ms/step - loss: 0.3895 - accuracy: 0.8356 - val_loss: 0.3641 - val_accuracy: 0.8675\n",
      "Epoch 486/1000\n",
      "225/225 [==============================] - 1s 2ms/step - loss: 0.3875 - accuracy: 0.8385 - val_loss: 0.3457 - val_accuracy: 0.8700\n",
      "Epoch 487/1000\n",
      "225/225 [==============================] - 1s 2ms/step - loss: 0.3887 - accuracy: 0.8365 - val_loss: 0.3502 - val_accuracy: 0.8687\n",
      "Epoch 488/1000\n",
      "225/225 [==============================] - 1s 2ms/step - loss: 0.3900 - accuracy: 0.8344 - val_loss: 0.3452 - val_accuracy: 0.8662\n",
      "Epoch 489/1000\n",
      "225/225 [==============================] - 1s 3ms/step - loss: 0.3887 - accuracy: 0.8381 - val_loss: 0.3481 - val_accuracy: 0.8662\n",
      "Epoch 490/1000\n",
      "225/225 [==============================] - 1s 4ms/step - loss: 0.3878 - accuracy: 0.8399 - val_loss: 0.3477 - val_accuracy: 0.8712\n",
      "Epoch 491/1000\n",
      "225/225 [==============================] - 1s 5ms/step - loss: 0.3876 - accuracy: 0.8379 - val_loss: 0.3578 - val_accuracy: 0.8650\n",
      "Epoch 492/1000\n",
      "225/225 [==============================] - 1s 3ms/step - loss: 0.3922 - accuracy: 0.8375 - val_loss: 0.3504 - val_accuracy: 0.8650\n",
      "Epoch 493/1000\n",
      "225/225 [==============================] - 1s 3ms/step - loss: 0.3888 - accuracy: 0.8371 - val_loss: 0.3384 - val_accuracy: 0.8662\n",
      "Epoch 494/1000\n",
      "225/225 [==============================] - 1s 3ms/step - loss: 0.3922 - accuracy: 0.8349 - val_loss: 0.3418 - val_accuracy: 0.8700\n",
      "Epoch 495/1000\n",
      "225/225 [==============================] - 1s 4ms/step - loss: 0.3886 - accuracy: 0.8385 - val_loss: 0.3470 - val_accuracy: 0.8712\n",
      "Epoch 496/1000\n",
      "225/225 [==============================] - 1s 4ms/step - loss: 0.3823 - accuracy: 0.8408 - val_loss: 0.3485 - val_accuracy: 0.8662\n",
      "Epoch 497/1000\n",
      "225/225 [==============================] - 1s 3ms/step - loss: 0.3881 - accuracy: 0.8360 - val_loss: 0.3487 - val_accuracy: 0.8788\n",
      "Epoch 498/1000\n",
      "225/225 [==============================] - 1s 3ms/step - loss: 0.3882 - accuracy: 0.8385 - val_loss: 0.3565 - val_accuracy: 0.8637\n",
      "Epoch 499/1000\n",
      "225/225 [==============================] - 1s 4ms/step - loss: 0.3862 - accuracy: 0.8399 - val_loss: 0.3480 - val_accuracy: 0.8650\n",
      "Epoch 500/1000\n",
      "225/225 [==============================] - 1s 3ms/step - loss: 0.3910 - accuracy: 0.8374 - val_loss: 0.3485 - val_accuracy: 0.8675\n",
      "Epoch 501/1000\n",
      "225/225 [==============================] - 1s 3ms/step - loss: 0.3899 - accuracy: 0.8375 - val_loss: 0.3533 - val_accuracy: 0.8662\n",
      "Epoch 502/1000\n",
      "225/225 [==============================] - 1s 3ms/step - loss: 0.3921 - accuracy: 0.8367 - val_loss: 0.3481 - val_accuracy: 0.8737\n",
      "Epoch 503/1000\n",
      "225/225 [==============================] - 1s 3ms/step - loss: 0.3881 - accuracy: 0.8379 - val_loss: 0.3501 - val_accuracy: 0.8700\n",
      "Epoch 504/1000\n",
      "225/225 [==============================] - 1s 3ms/step - loss: 0.3860 - accuracy: 0.8386 - val_loss: 0.3537 - val_accuracy: 0.8612\n",
      "Epoch 505/1000\n"
     ]
    },
    {
     "name": "stdout",
     "output_type": "stream",
     "text": [
      "225/225 [==============================] - 1s 2ms/step - loss: 0.3951 - accuracy: 0.8361 - val_loss: 0.3489 - val_accuracy: 0.8625\n",
      "Epoch 506/1000\n",
      "225/225 [==============================] - 1s 3ms/step - loss: 0.3906 - accuracy: 0.8357 - val_loss: 0.3480 - val_accuracy: 0.8700\n",
      "Epoch 507/1000\n",
      "225/225 [==============================] - 1s 3ms/step - loss: 0.3849 - accuracy: 0.8371 - val_loss: 0.3557 - val_accuracy: 0.8650\n",
      "Epoch 508/1000\n",
      "225/225 [==============================] - 1s 3ms/step - loss: 0.3884 - accuracy: 0.8363 - val_loss: 0.3449 - val_accuracy: 0.8687\n",
      "Epoch 509/1000\n",
      "225/225 [==============================] - 1s 3ms/step - loss: 0.3891 - accuracy: 0.8385 - val_loss: 0.3453 - val_accuracy: 0.8725\n",
      "Epoch 510/1000\n",
      "225/225 [==============================] - 1s 4ms/step - loss: 0.3913 - accuracy: 0.8340 - val_loss: 0.3471 - val_accuracy: 0.8687\n",
      "Epoch 511/1000\n",
      "225/225 [==============================] - 1s 3ms/step - loss: 0.3856 - accuracy: 0.8390 - val_loss: 0.3455 - val_accuracy: 0.8700\n",
      "Epoch 512/1000\n",
      "225/225 [==============================] - 1s 3ms/step - loss: 0.3883 - accuracy: 0.8415 - val_loss: 0.3546 - val_accuracy: 0.8650\n",
      "Epoch 513/1000\n",
      "225/225 [==============================] - 1s 2ms/step - loss: 0.3836 - accuracy: 0.8407 - val_loss: 0.3456 - val_accuracy: 0.8675\n",
      "Epoch 514/1000\n",
      "225/225 [==============================] - 1s 2ms/step - loss: 0.3850 - accuracy: 0.8363 - val_loss: 0.3492 - val_accuracy: 0.8675\n",
      "Epoch 515/1000\n",
      "225/225 [==============================] - 1s 2ms/step - loss: 0.3937 - accuracy: 0.8351 - val_loss: 0.3523 - val_accuracy: 0.8662\n",
      "Epoch 516/1000\n",
      "225/225 [==============================] - 1s 3ms/step - loss: 0.3818 - accuracy: 0.8386 - val_loss: 0.3497 - val_accuracy: 0.8662\n"
     ]
    }
   ],
   "source": [
    "model.fit(x = X_train, y = y_train, validation_split = 0.1, batch_size = 32, epochs = 1000, verbose = 1)"
   ]
  },
  {
   "cell_type": "code",
   "execution_count": null,
   "metadata": {
    "id": "aEkuhYkc26FA"
   },
   "outputs": [],
   "source": [
    "loss_df = pd.DataFrame(model.history.history)\n",
    "loss_df.plot()"
   ]
  },
  {
   "cell_type": "code",
   "execution_count": null,
   "metadata": {
    "id": "bEUcsAjX28n2"
   },
   "outputs": [],
   "source": [
    "loss, accuracy = model.evaluate(X_test, y_test, verbose=0)\n",
    "print(\"loss : \", loss)\n",
    "print(\"accuracy : \", accuracy)"
   ]
  },
  {
   "cell_type": "code",
   "execution_count": null,
   "metadata": {
    "id": "5Dlfd3ba2-39"
   },
   "outputs": [],
   "source": [
    "y_pred = model.predict(X_test) > 0.5\n",
    "#y_pred = model.predict_classes(X_test) for tf 2.5.0\n",
    "print(confusion_matrix(y_test, y_pred))\n",
    "print(classification_report(y_test, y_pred))"
   ]
  },
  {
   "cell_type": "markdown",
   "metadata": {
    "id": "vP9djttImvBS"
   },
   "source": [
    "### Add Early Stop"
   ]
  },
  {
   "cell_type": "markdown",
   "metadata": {
    "id": "8SfFfZEdmvBT"
   },
   "source": [
    "#### Monitor the \"val_loss\" as metric"
   ]
  },
  {
   "cell_type": "code",
   "execution_count": null,
   "metadata": {
    "id": "SYZbvOIAmvBT"
   },
   "outputs": [],
   "source": [
    "from tensorflow.keras.callbacks import EarlyStopping"
   ]
  },
  {
   "cell_type": "code",
   "execution_count": null,
   "metadata": {
    "id": "B4Yx_00H125B"
   },
   "outputs": [],
   "source": [
    "tf.random.set_seed(seed)\n",
    "\n",
    "model = Sequential()\n",
    "\n",
    "model.add(Dense(36, activation = \"relu\", input_dim = X_train.shape[1]))\n",
    "model.add(Dense(18, activation = \"relu\"))\n",
    "model.add(Dense(9, activation = \"relu\"))\n",
    "model.add(Dense(1, activation = \"sigmoid\"))\n",
    "\n",
    "model.compile(optimizer = \"adam\", loss = \"binary_crossentropy\", metrics = [\"accuracy\"])"
   ]
  },
  {
   "cell_type": "markdown",
   "metadata": {
    "id": "Fh4oMmK2mvBT"
   },
   "source": [
    "#### Monitor the \"val_recall\" as metric"
   ]
  },
  {
   "cell_type": "code",
   "execution_count": null,
   "metadata": {
    "id": "8u-NzoLXmvBT"
   },
   "outputs": [],
   "source": [
    "early_stop = EarlyStopping(monitor = \"val_recall\", mode = \"min\", verbose = 1, patience = 15, restore_best_weights = True)"
   ]
  },
  {
   "cell_type": "code",
   "execution_count": null,
   "metadata": {
    "colab": {
     "base_uri": "https://localhost:8080/"
    },
    "id": "GM68YVrG2BqI",
    "outputId": "5ae51d70-956f-4a35-8115-82837518f288"
   },
   "outputs": [],
   "source": [
    "model.fit(x = X_train, y = y_train, validation_split = 0.1, batch_size = 32, epochs = 1000, verbose = 1,\n",
    "          callbacks = [early_stop])"
   ]
  },
  {
   "cell_type": "code",
   "execution_count": null,
   "metadata": {
    "colab": {
     "base_uri": "https://localhost:8080/",
     "height": 374
    },
    "id": "bsSsVqFg2L3E",
    "outputId": "45264df1-0dfd-4704-eeae-90a0a903ecd1"
   },
   "outputs": [],
   "source": [
    "loss_df = pd.DataFrame(model.history.history)\n",
    "loss_df.plot();"
   ]
  },
  {
   "cell_type": "code",
   "execution_count": null,
   "metadata": {
    "colab": {
     "base_uri": "https://localhost:8080/"
    },
    "id": "rDvzNwnC2Oi7",
    "outputId": "9358310e-df3a-4a20-d29d-78707009427f"
   },
   "outputs": [],
   "source": [
    "loss, accuracy = model.evaluate(X_test, y_test, verbose=0)\n",
    "print(\"loss : \", loss)\n",
    "print(\"accuracy : \", accuracy)"
   ]
  },
  {
   "cell_type": "code",
   "execution_count": null,
   "metadata": {
    "colab": {
     "base_uri": "https://localhost:8080/"
    },
    "id": "cSU3i0pR2Ron",
    "outputId": "483c64ec-35c1-428b-af72-2ac1e1d4a9d6"
   },
   "outputs": [],
   "source": [
    "y_pred = model.predict(X_test) > 0.5\n",
    "#y_pred = model.predict_classes(X_test) for tf 2.5.0\n",
    "print(confusion_matrix(y_test, y_pred))\n",
    "print(classification_report(y_test, y_pred))"
   ]
  },
  {
   "cell_type": "markdown",
   "metadata": {
    "id": "JFJfIQswmvBT"
   },
   "source": [
    "## GridSearchCV"
   ]
  },
  {
   "cell_type": "code",
   "execution_count": null,
   "metadata": {
    "id": "txlCqcU1mvBT"
   },
   "outputs": [],
   "source": [
    "from tensorflow.keras.optimizers import Adam, Adadelta, RMSprop, Nadam"
   ]
  },
  {
   "cell_type": "code",
   "execution_count": null,
   "metadata": {
    "id": "YJOmT5IV36KG"
   },
   "outputs": [],
   "source": [
    "def build_classifier(optimizer, learn_rate):\n",
    "    tf.random.set_seed(seed)\n",
    "    classifier = Sequential()\n",
    "    classifier.add(Dense(units = 36, activation = 'relu'))\n",
    "    classifier.add(Dense(units = 18, activation = 'relu'))\n",
    "    classifier.add(Dense(units = 9, activation = 'relu'))\n",
    "    classifier.add(Dense(units = 1, activation = 'sigmoid'))\n",
    "    classifier.compile(optimizer = optimizer(learn_rate), loss = 'binary_crossentropy', metrics = ['accuracy'])\n",
    "    return classifier"
   ]
  },
  {
   "cell_type": "code",
   "execution_count": null,
   "metadata": {
    "id": "gI6zIYLZ3_DN"
   },
   "outputs": [],
   "source": [
    "early_stop = EarlyStopping(monitor = \"val_loss\", mode = \"min\", verbose = 1, patience = 15, restore_best_weights = True)"
   ]
  },
  {
   "cell_type": "code",
   "execution_count": null,
   "metadata": {
    "id": "TYn8AwOp6b98"
   },
   "outputs": [],
   "source": []
  },
  {
   "cell_type": "code",
   "execution_count": null,
   "metadata": {
    "colab": {
     "base_uri": "https://localhost:8080/",
     "height": 236
    },
    "id": "f-kG7UeP4Cvq",
    "outputId": "02274bdd-30cb-4ff7-edd0-3745bec5132e"
   },
   "outputs": [],
   "source": [
    "classifier_model = KerasClassifier(build_fn = build_classifier, validation_split = 0.1, epochs = 200)\n",
    "\n",
    "parameters = {'batch_size': [32, 64],\n",
    "              'optimizer': [Adam, RMSprop, Adadelta, Nadam],\n",
    "              'learn_rate': [0.001, 0.003, 0.005]}\n",
    "\n",
    "grid_model = GridSearchCV(estimator = classifier_model,\n",
    "                          param_grid = parameters,\n",
    "                          scoring = 'accuracy',\n",
    "                          cv = 10,\n",
    "                          n_jobs = -1,\n",
    "                          verbose = 1)\n",
    "\n",
    "grid_model.fit(X_train, y_train, callbacks = [early_stop])"
   ]
  },
  {
   "cell_type": "code",
   "execution_count": null,
   "metadata": {
    "id": "wM_Uu9Ot4HTA"
   },
   "outputs": [],
   "source": [
    "grid_model.best_score_"
   ]
  },
  {
   "cell_type": "code",
   "execution_count": null,
   "metadata": {
    "id": "Rm8dYLYc4JmW"
   },
   "outputs": [],
   "source": [
    "grid_model.best_params_"
   ]
  },
  {
   "cell_type": "code",
   "execution_count": null,
   "metadata": {
    "id": "uILyFQR44NLl"
   },
   "outputs": [],
   "source": [
    "grid_result = pd.DataFrame(grid_model.cv_results_)[[\"mean_test_score\", \"std_test_score\", \"rank_test_score\", \"params\"]].sort_values(by=\"rank_test_score\")\n",
    "grid_result"
   ]
  },
  {
   "cell_type": "code",
   "execution_count": null,
   "metadata": {
    "id": "3MXefGGO4T87"
   },
   "outputs": [],
   "source": []
  },
  {
   "cell_type": "markdown",
   "metadata": {
    "id": "xC1fU7LOmvBT"
   },
   "source": [
    "### Evaluate The Model\n",
    "\n",
    "- Plot the model history to observe the changing of metrics\n",
    "- Make prediction to see \"confusion matrix\" and \"classification report\"\n",
    "- Check ROC (Receiver Operating Curve) and AUC (Area Under Curve) for the model"
   ]
  },
  {
   "cell_type": "code",
   "execution_count": null,
   "metadata": {
    "id": "2alprNBfmvBU"
   },
   "outputs": [],
   "source": [
    "y_pred = grid_model.predict(X_test)\n",
    "print(confusion_matrix(y_test, y_pred))\n",
    "print(classification_report(y_test, y_pred))"
   ]
  },
  {
   "cell_type": "code",
   "execution_count": null,
   "metadata": {
    "id": "-dg3nSB14egF"
   },
   "outputs": [],
   "source": [
    "y_pred_proba = model.predict(X_test)\n",
    "fpr, tpr, thresholds = roc_curve(y_test, y_pred_proba)\n",
    "plt.plot([0,1],[0,1],'k--')\n",
    "plt.plot(fpr,tpr, label='ANN')\n",
    "plt.xlabel('fpr')\n",
    "plt.ylabel('tpr')\n",
    "plt.title('ROC curve')\n",
    "plt.show()"
   ]
  },
  {
   "cell_type": "code",
   "execution_count": null,
   "metadata": {
    "id": "c52r7VOB4hay"
   },
   "outputs": [],
   "source": [
    "roc_auc_score(y_test, y_pred_proba)"
   ]
  },
  {
   "cell_type": "code",
   "execution_count": null,
   "metadata": {
    "id": "h4DMoX-n4iie"
   },
   "outputs": [],
   "source": [
    "#for gridsearchcv model\n",
    "\n",
    "y_pred_proba = grid_model.predict_proba(X_test)[:,1]\n",
    "fpr, tpr, thresholds = roc_curve(y_test, y_pred_proba)\n",
    "plt.plot([0,1],[0,1],'k--')\n",
    "plt.plot(fpr,tpr, label='ANN')\n",
    "plt.xlabel('fpr')\n",
    "plt.ylabel('tpr')\n",
    "plt.title('ROC curve')\n",
    "plt.show()"
   ]
  },
  {
   "cell_type": "code",
   "execution_count": null,
   "metadata": {
    "id": "p3gizUm_4sU7"
   },
   "outputs": [],
   "source": [
    "roc_auc_score(y_test, y_pred_proba)"
   ]
  },
  {
   "cell_type": "markdown",
   "metadata": {
    "id": "etKTjjQRmvBU"
   },
   "source": [
    "# Final Model and Model Deployment"
   ]
  },
  {
   "cell_type": "code",
   "execution_count": null,
   "metadata": {
    "id": "ygR4Uo_imvBU"
   },
   "outputs": [],
   "source": [
    "import pickle\n",
    "pickle.dump(scaler, open(\"Churn_Prediction\", 'wb'))"
   ]
  },
  {
   "cell_type": "code",
   "execution_count": null,
   "metadata": {
    "id": "6Fq052Rl418j"
   },
   "outputs": [],
   "source": [
    "tf.random.set_seed(seed)\n",
    "\n",
    "model = Sequential()\n",
    "\n",
    "model.add(Dense(36, activation = \"relu\", input_dim = X_train.shape[1]))\n",
    "model.add(Dense(18, activation = \"relu\"))\n",
    "model.add(Dense(9, activation = \"relu\"))\n",
    "model.add(Dense(1, activation = \"sigmoid\"))\n",
    "\n",
    "model.compile(optimizer = \"adam\", loss = \"binary_crossentropy\", metrics = [\"accuracy\"])"
   ]
  },
  {
   "cell_type": "code",
   "execution_count": null,
   "metadata": {
    "id": "CR1GyBfS47Ez"
   },
   "outputs": [],
   "source": [
    "early_stop = EarlyStopping(monitor = \"val_loss\", mode = \"min\", verbose = 1, patience = 15, restore_best_weights = True)"
   ]
  },
  {
   "cell_type": "code",
   "execution_count": null,
   "metadata": {
    "id": "234iC3D749ur"
   },
   "outputs": [],
   "source": [
    "\n",
    "model.fit(x = X_train, y = y_train, validation_data = (X_test, y_test), batch_size = 32, epochs = 1000, verbose = 1,\n",
    "          callbacks = [early_stop])"
   ]
  },
  {
   "cell_type": "code",
   "execution_count": null,
   "metadata": {
    "id": "K8TX_8qe5Bwg"
   },
   "outputs": [],
   "source": [
    "\n",
    "loss_df = pd.DataFrame(model.history.history)\n",
    "loss_df.plot()"
   ]
  },
  {
   "cell_type": "code",
   "execution_count": null,
   "metadata": {
    "id": "STXNmYdA5BuL"
   },
   "outputs": [],
   "source": [
    "\n",
    "\n",
    "\n",
    "loss, accuracy = model.evaluate(X_test, y_test, verbose=0)\n",
    "print(\"loss : \", loss)\n",
    "print(\"accuracy : \", accuracy)"
   ]
  },
  {
   "cell_type": "code",
   "execution_count": null,
   "metadata": {
    "id": "HdZdiiEg5Gpx"
   },
   "outputs": [],
   "source": [
    "y_pred = model.predict(X_test) > 0.5\n",
    "#y_pred = model.predict_classes(X_test) for tf 2.5.0\n",
    "print(confusion_matrix(y_test, y_pred))\n",
    "print(classification_report(y_test, y_pred))"
   ]
  },
  {
   "cell_type": "code",
   "execution_count": null,
   "metadata": {
    "id": "02uNgmiC5JCV"
   },
   "outputs": [],
   "source": [
    "model.save('model.h5')"
   ]
  },
  {
   "cell_type": "markdown",
   "metadata": {
    "id": "Cq10ovAX6daY"
   },
   "source": [
    "## Prediction"
   ]
  },
  {
   "cell_type": "code",
   "execution_count": null,
   "metadata": {
    "id": "WEYAQf2cmvBU"
   },
   "outputs": [],
   "source": []
  },
  {
   "cell_type": "markdown",
   "metadata": {
    "id": "4dAlP5U4mvBU"
   },
   "source": [
    "___\n",
    "\n",
    "<p style=\"text-align: center;\"><img src=\"https://docs.google.com/uc?id=1lY0Uj5R04yMY3-ZppPWxqCr5pvBLYPnV\" class=\"img-fluid\" alt=\"CLRSWY\"></p>\n",
    "\n",
    "___"
   ]
  }
 ],
 "metadata": {
  "colab": {
   "provenance": []
  },
  "kernelspec": {
   "display_name": "Python 3 (ipykernel)",
   "language": "python",
   "name": "python3"
  },
  "language_info": {
   "codemirror_mode": {
    "name": "ipython",
    "version": 3
   },
   "file_extension": ".py",
   "mimetype": "text/x-python",
   "name": "python",
   "nbconvert_exporter": "python",
   "pygments_lexer": "ipython3",
   "version": "3.9.12"
  },
  "toc": {
   "base_numbering": 1,
   "nav_menu": {},
   "number_sections": false,
   "sideBar": true,
   "skip_h1_title": false,
   "title_cell": "Table of Contents",
   "title_sidebar": "Contents",
   "toc_cell": false,
   "toc_position": {},
   "toc_section_display": true,
   "toc_window_display": true
  }
 },
 "nbformat": 4,
 "nbformat_minor": 1
}
